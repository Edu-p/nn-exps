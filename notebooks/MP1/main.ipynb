{
 "cells": [
  {
   "cell_type": "code",
   "execution_count": 31,
   "id": "19cf76d2",
   "metadata": {},
   "outputs": [],
   "source": [
    "# MAIN TODO:\n",
    "#     - put validation set as early stopping DONE \n",
    "#     - show loss functions decrease through epochs (train, test and val) DONE \n",
    "#     - show correct and incorrect predictions DONE  \n",
    "#     - can modify the layers DONE \n",
    "#     - put optuna to find best params DONE \n",
    "#     \n",
    "# TOMORROW:\n",
    "    # - taxas de acuracia por classe plotar DONE \n",
    "    # - talvez buscar tbm em relacao a regularizacao e dropout DONE   \n",
    "    # - descrever a parte passo a passo depois optuna \n",
    "    # - colocar no colab \n",
    "    \n",
    "\n",
    "# aninha melhor:\n",
    "# {'accuracy': 0.5393, 'balanced_accuracy': np.float64(0.5393), 'precision': 0.5331819635272109, 'recall': 0.5393, 'f1_score': 0.5336478703066184}"
   ]
  },
  {
   "cell_type": "markdown",
   "id": "8dbb3dac",
   "metadata": {},
   "source": [
    "# Imports"
   ]
  },
  {
   "cell_type": "code",
   "execution_count": 32,
   "id": "49818bca",
   "metadata": {},
   "outputs": [],
   "source": [
    "import torch\n",
    "import torch.nn as nn\n",
    "import torchvision\n",
    "import torchvision.transforms as transforms\n",
    "\n",
    "import optuna \n",
    "from optuna.trial import Trial\n",
    "\n",
    "import numpy as np\n",
    "\n",
    "from tqdm import tqdm\n",
    "\n",
    "import matplotlib.pyplot as plt\n",
    "\n",
    "from sklearn import metrics"
   ]
  },
  {
   "cell_type": "markdown",
   "id": "6fbd66a4",
   "metadata": {},
   "source": [
    "# Helper functions and MLP class"
   ]
  },
  {
   "cell_type": "code",
   "execution_count": 33,
   "id": "60557936",
   "metadata": {},
   "outputs": [],
   "source": [
    "class MLP(nn.Module):\n",
    "    def __init__(self, input_size, hidden_layers, num_classes, activation_function, dropout_rate, use_batch_norm=True):\n",
    "        super(MLP, self).__init__()\n",
    "        self.activation_function = activation_function\n",
    "        self.dropout = nn.Dropout(p=dropout_rate)\n",
    "        self.use_batch_norm = use_batch_norm\n",
    "\n",
    "        layers_dims = [input_size] + hidden_layers + [num_classes]\n",
    "        self.layers = nn.ModuleList()\n",
    "        self.batch_norms = nn.ModuleList()\n",
    "\n",
    "        for i in range(len(layers_dims) - 1):  \n",
    "            self.layers.append(nn.Linear(layers_dims[i], layers_dims[i+1]))\n",
    "            \n",
    "            if use_batch_norm and i < len(layers_dims) - 2:\n",
    "                self.batch_norms.append(nn.BatchNorm1d(layers_dims[i+1]))\n",
    "\n",
    "\n",
    "\n",
    "    def forward(self, x):\n",
    "        for layer in self.layers[:-1]:\n",
    "            x = self.activation_function(layer(x))\n",
    "            x = self.dropout(x)\n",
    "\n",
    "        x = self.layers[-1](x)\n",
    "        \n",
    "        return x "
   ]
  },
  {
   "cell_type": "code",
   "execution_count": 34,
   "id": "d3da68d5",
   "metadata": {},
   "outputs": [],
   "source": [
    "def get_scores(targets, predictions):\n",
    "    return {\n",
    "        \"accuracy\"         : metrics.accuracy_score(targets, predictions),\n",
    "        \"balanced_accuracy\": metrics.balanced_accuracy_score(targets, predictions),\n",
    "        \"f1_score\"         : metrics.f1_score(targets, predictions, average=\"weighted\"),\n",
    "        \"precision\"        : metrics.precision_score(targets, predictions, average=\"weighted\"),\n",
    "        \"recall\"           : metrics.recall_score(targets, predictions, average=\"weighted\"),\n",
    "        \"f1_score\"         : metrics.f1_score(targets, predictions, average=\"weighted\")\n",
    "    }\n",
    "\n",
    "def evaluate_model(model, data_loader, loss_function):\n",
    "    model.eval()\n",
    "    total_loss = 0.0\n",
    "    with torch.no_grad():\n",
    "        for images, labels in data_loader:\n",
    "            images = images.view(-1, 32*32*3).cuda()\n",
    "            labels = labels.cuda()\n",
    "            outputs = model(images)\n",
    "            loss = loss_function(outputs, labels)\n",
    "            total_loss += loss.item()\n",
    "\n",
    "    return total_loss / len(data_loader)\n",
    "\n",
    "def show_loss_through_epochs(arr_losses_train, arr_losses_test, arr_losses_val):\n",
    "    plt.plot(arr_losses_train, label = \"train loss\")\n",
    "    plt.plot(arr_losses_val, label = \"val loss\")\n",
    "    plt.plot(arr_losses_test, label = \"test loss\")\n",
    "    plt.xlabel(\"epoch\")\n",
    "    plt.ylabel(\"loss\")\n",
    "    plt.grid()\n",
    "    plt.legend()\n",
    "    return None\n",
    "\n",
    "def show_predictions(model, dataloader, num_samples):\n",
    "    model.eval()\n",
    "    correct_samples = []\n",
    "    wrong_samples = []\n",
    "\n",
    "    classes = ['airplane', 'automobile', 'bird', 'cat', 'deer',\n",
    "               'dog', 'frog', 'horse', 'ship', 'truck']\n",
    "    \n",
    "    with torch.no_grad():\n",
    "        for images, labels in dataloader:\n",
    "            original_images = images\n",
    "\n",
    "            images = images.view(-1, 32*32*3).cuda()\n",
    "            labels = labels.cuda()\n",
    "\n",
    "            outputs = model.forward(images)\n",
    "            _, predicted = torch.max(outputs.data, 1)\n",
    "\n",
    "            for i in range(len(labels)):\n",
    "                pred = predicted[i].cpu().item()\n",
    "                true = labels[i].cpu().item()\n",
    "                img = original_images[i]\n",
    "\n",
    "                if pred == true and len(correct_samples) < num_samples:\n",
    "                    correct_samples.append((img, pred, true))\n",
    "                elif pred != true and len(wrong_samples) < num_samples:\n",
    "                    wrong_samples.append((img, pred, true))\n",
    "\n",
    "                if len(correct_samples) >= num_samples and len(wrong_samples) >= num_samples:\n",
    "                    break\n",
    "\n",
    "    plt.figure(figsize=(24, 20))\n",
    "    \n",
    "    plt.subplot(1, 2, 1)\n",
    "    # acertos\n",
    "    for idx, (img, pred, true) in enumerate(correct_samples):\n",
    "        plt.subplot(2, num_samples, idx + 1)\n",
    "        img = img.permute(1, 2, 0)  \n",
    "        img = img * 0.5 + 0.5 \n",
    "        plt.imshow(img)\n",
    "        plt.title(f'Correto!\\nPred: {classes[pred]}\\nTrue: {classes[true]}')\n",
    "        plt.axis('off')\n",
    "\n",
    "    # erros\n",
    "    for idx, (img, pred, true) in enumerate(wrong_samples):\n",
    "        plt.subplot(2, num_samples, idx + num_samples + 1)\n",
    "        img = img.permute(1, 2, 0)\n",
    "        img = img * 0.5 + 0.5\n",
    "        plt.imshow(img)\n",
    "        plt.title(f'Erro!\\nPred: {classes[pred]}\\nTrue: {classes[true]}')\n",
    "        plt.axis('off')\n",
    "    \n",
    "    plt.tight_layout(h_pad=2)\n",
    "    plt.show()\n",
    "\n",
    "    return None\n",
    "\n",
    "def objective(trial):\n",
    "    global train_dataset_global, validation_dataset_global\n",
    "\n",
    "    activation_name = trial.suggest_categorical('activation', ['ReLU', 'Sigmoid', 'Tanh'])\n",
    "    activation_functions = {\n",
    "        'ReLU': nn.ReLU(),\n",
    "        'Sigmoid': nn.Sigmoid(),\n",
    "        'Tanh': nn.Tanh()\n",
    "    }\n",
    "    activation_function = activation_functions[activation_name]\n",
    "    learning_rate = trial.suggest_float('learning_rate', 1e-5, 1e-2, log=True)\n",
    "    batch_size = trial.suggest_int('batch_size', 32, 512)\n",
    "\n",
    "    # reg params\n",
    "    dropout_rate = trial.suggest_float('dropout_rate', 0.0, 0.5)\n",
    "    weight_decay = trial.suggest_float('weight_decay', 1e-5, 1e-2, log=True)\n",
    "    use_batch_norm = trial.suggest_categorical('use_batch_norm', [True, False])\n",
    "\n",
    "    n_layers = trial.suggest_int('n_layers', 2, 7)\n",
    "    hidden_layers = []\n",
    "    for i in range(n_layers):\n",
    "        n_units = trial.suggest_int(f'n_units_l{i}', 32, 256)\n",
    "        hidden_layers.append(n_units)\n",
    "\n",
    "    input_size = 32*32*3\n",
    "    num_classes = 10\n",
    "    loss_function = nn.CrossEntropyLoss()\n",
    "    \n",
    "    train_loader = torch.utils.data.DataLoader(\n",
    "        dataset=train_dataset_global, \n",
    "        batch_size=batch_size, \n",
    "        shuffle=True\n",
    "    )\n",
    "    val_loader = torch.utils.data.DataLoader(\n",
    "        dataset=validation_dataset_global, \n",
    "        batch_size=batch_size, \n",
    "        shuffle=False\n",
    "    )\n",
    "\n",
    "    model = MLP(\n",
    "        input_size=input_size,\n",
    "        hidden_layers=hidden_layers,\n",
    "        num_classes=num_classes,\n",
    "        activation_function=activation_function,\n",
    "        dropout_rate=dropout_rate,\n",
    "        use_batch_norm=use_batch_norm\n",
    "    ).cuda()\n",
    "    \n",
    "    optimizer = torch.optim.Adam(model.parameters(), lr=learning_rate, weight_decay=weight_decay)\n",
    "    \n",
    "    best_val_loss = float('inf')\n",
    "    patience = 7\n",
    "    patience_counter = 0\n",
    "    \n",
    "    for _ in range(20):\n",
    "        model.train()\n",
    "        for images, labels in train_loader:\n",
    "            images = images.view(-1, input_size).cuda()\n",
    "            labels = labels.cuda()\n",
    "            \n",
    "            optimizer.zero_grad()\n",
    "            outputs = model(images)\n",
    "            loss = loss_function(outputs, labels)\n",
    "            loss.backward()\n",
    "            optimizer.step()\n",
    "        \n",
    "        model.eval() # disable dropout just to validate\n",
    "        val_loss = evaluate_model(model, val_loader, loss_function)\n",
    "        \n",
    "        if val_loss < best_val_loss:\n",
    "            best_val_loss = val_loss\n",
    "            patience_counter = 0\n",
    "        else:\n",
    "            patience_counter += 1\n",
    "            \n",
    "        if patience_counter >= patience:\n",
    "            break\n",
    "    \n",
    "    return best_val_loss\n"
   ]
  },
  {
   "cell_type": "markdown",
   "id": "93b8922c",
   "metadata": {},
   "source": [
    "# Setup"
   ]
  },
  {
   "cell_type": "code",
   "execution_count": 35,
   "id": "25cc0de3",
   "metadata": {},
   "outputs": [],
   "source": [
    "transform = transforms.Compose([\n",
    "                    transforms.ToTensor(),\n",
    "                    transforms.Normalize(mean=[0.5, 0.5, 0.5], std=[0.5, 0.5, 0.5])\n",
    "                    ])\n",
    "\n",
    "train_dataset = torchvision.datasets.CIFAR10(root='./data', train=True, download=True, transform=transform)\n",
    "test_dataset = torchvision.datasets.CIFAR10(root='./data', train=False, download=True, transform=transform)\n",
    "\n",
    "train_size = int(0.8 * len(train_dataset))\n",
    "val_size = len(train_dataset) - train_size\n",
    "\n",
    "train_dataset, validation_dataset = torch.utils.data.random_split(train_dataset, [train_size, val_size])"
   ]
  },
  {
   "cell_type": "code",
   "execution_count": 36,
   "id": "96dfadbb",
   "metadata": {},
   "outputs": [],
   "source": [
    "# just to run fast\n",
    "subset_sample      = 1000\n",
    "\n",
    "train_dataset      = torch.utils.data.Subset(train_dataset, range(subset_sample))\n",
    "validation_dataset = torch.utils.data.Subset(validation_dataset, range(subset_sample))\n",
    "test_dataset       = torch.utils.data.Subset(test_dataset, range(subset_sample))\n"
   ]
  },
  {
   "cell_type": "code",
   "execution_count": 37,
   "id": "2f802c05",
   "metadata": {},
   "outputs": [],
   "source": [
    "train_dataset_global = train_dataset\n",
    "validation_dataset_global = validation_dataset"
   ]
  },
  {
   "cell_type": "markdown",
   "id": "0ba4092f",
   "metadata": {},
   "source": [
    "# Def hyperparameters and Loaders"
   ]
  },
  {
   "cell_type": "code",
   "execution_count": 38,
   "id": "e3230a72",
   "metadata": {},
   "outputs": [],
   "source": [
    "loss_function       = nn.CrossEntropyLoss()"
   ]
  },
  {
   "cell_type": "markdown",
   "id": "d8bbd35e",
   "metadata": {},
   "source": [
    "# Main training Loop"
   ]
  },
  {
   "cell_type": "markdown",
   "id": "f0eb17a2",
   "metadata": {},
   "source": [
    "## Optuna optimization"
   ]
  },
  {
   "cell_type": "code",
   "execution_count": 39,
   "id": "b6ebca3b",
   "metadata": {},
   "outputs": [
    {
     "name": "stderr",
     "output_type": "stream",
     "text": [
      "[I 2025-06-01 08:35:56,256] A new study created in memory with name: no-name-ff9ac782-880e-49f9-bd6c-459d77176f19\n",
      "[I 2025-06-01 08:35:59,008] Trial 0 finished with value: 1.9910516142845154 and parameters: {'activation': 'Sigmoid', 'learning_rate': 0.005330388100730396, 'batch_size': 89, 'dropout_rate': 0.4671938085027636, 'weight_decay': 0.001083438096933287, 'use_batch_norm': True, 'n_layers': 3, 'n_units_l0': 114, 'n_units_l1': 49, 'n_units_l2': 158}. Best is trial 0 with value: 1.9910516142845154.\n"
     ]
    }
   ],
   "source": [
    "n_trials=1\n",
    "study = optuna.create_study(direction='minimize')\n",
    "study.optimize(objective, n_trials=n_trials)"
   ]
  },
  {
   "cell_type": "markdown",
   "id": "e5a09e96",
   "metadata": {},
   "source": [
    "## Best founded model"
   ]
  },
  {
   "cell_type": "code",
   "execution_count": 40,
   "id": "bb1b80e3",
   "metadata": {},
   "outputs": [
    {
     "data": {
      "text/plain": [
       "{'activation': 'Sigmoid',\n",
       " 'learning_rate': 0.005330388100730396,\n",
       " 'batch_size': 89,\n",
       " 'dropout_rate': 0.4671938085027636,\n",
       " 'weight_decay': 0.001083438096933287,\n",
       " 'use_batch_norm': True,\n",
       " 'n_layers': 3,\n",
       " 'n_units_l0': 114,\n",
       " 'n_units_l1': 49,\n",
       " 'n_units_l2': 158}"
      ]
     },
     "execution_count": 40,
     "metadata": {},
     "output_type": "execute_result"
    }
   ],
   "source": [
    "study.best_params"
   ]
  },
  {
   "cell_type": "code",
   "execution_count": 41,
   "id": "d2ae28a3",
   "metadata": {},
   "outputs": [],
   "source": [
    "hidden_layers = [study.best_params[f'n_units_l{i}'] for i in range(study.best_params['n_layers'])]\n",
    "\n",
    "activation_functions = {\n",
    "    'ReLU': nn.ReLU(),\n",
    "    'Sigmoid': nn.Sigmoid(),\n",
    "    'Tanh': nn.Tanh()\n",
    "}\n",
    "\n",
    "best_activation = activation_functions[study.best_params['activation']]\n",
    "\n",
    "# reg params\n",
    "dropout_rate=study.best_params['dropout_rate']\n",
    "use_batch_norm=study.best_params['use_batch_norm']\n",
    "\n",
    "train_loader = torch.utils.data.DataLoader(\n",
    "    dataset=train_dataset_global, \n",
    "    batch_size=study.best_params['batch_size'], \n",
    "    shuffle=True\n",
    ")\n",
    "val_loader = torch.utils.data.DataLoader(\n",
    "    dataset=validation_dataset_global, \n",
    "    batch_size=study.best_params['batch_size'], \n",
    "    shuffle=False\n",
    ")\n",
    "\n",
    "test_loader = torch.utils.data.DataLoader(\n",
    "    dataset=test_dataset, \n",
    "    batch_size=study.best_params['batch_size'], \n",
    "    shuffle=False\n",
    ")\n"
   ]
  },
  {
   "cell_type": "code",
   "execution_count": 42,
   "id": "b04aa267",
   "metadata": {},
   "outputs": [
    {
     "name": "stderr",
     "output_type": "stream",
     "text": [
      "  0%|          | 2/10000 [00:00<32:09,  5.18it/s]"
     ]
    },
    {
     "name": "stdout",
     "output_type": "stream",
     "text": [
      "Epoch 1:\n",
      "Train Loss: 2.3635\n",
      "Val Loss: 2.3164\n",
      "Test Loss: 2.3283\n",
      "Epoch 2:\n",
      "Train Loss: 2.3330\n",
      "Val Loss: 2.2666\n",
      "Test Loss: 2.2722\n"
     ]
    },
    {
     "name": "stderr",
     "output_type": "stream",
     "text": [
      "  0%|          | 3/10000 [00:00<32:56,  5.06it/s]"
     ]
    },
    {
     "name": "stdout",
     "output_type": "stream",
     "text": [
      "Epoch 3:\n",
      "Train Loss: 2.2594\n",
      "Val Loss: 2.1816\n",
      "Test Loss: 2.1889\n"
     ]
    },
    {
     "name": "stderr",
     "output_type": "stream",
     "text": [
      "  0%|          | 4/10000 [00:00<33:18,  5.00it/s]"
     ]
    },
    {
     "name": "stdout",
     "output_type": "stream",
     "text": [
      "Epoch 4:\n",
      "Train Loss: 2.2145\n",
      "Val Loss: 2.1041\n",
      "Test Loss: 2.1096\n"
     ]
    },
    {
     "name": "stderr",
     "output_type": "stream",
     "text": [
      "  0%|          | 5/10000 [00:00<33:33,  4.96it/s]"
     ]
    },
    {
     "name": "stdout",
     "output_type": "stream",
     "text": [
      "Epoch 5:\n",
      "Train Loss: 2.1537\n",
      "Val Loss: 2.0804\n",
      "Test Loss: 2.0877\n"
     ]
    },
    {
     "name": "stderr",
     "output_type": "stream",
     "text": [
      "  0%|          | 6/10000 [00:01<33:42,  4.94it/s]"
     ]
    },
    {
     "name": "stdout",
     "output_type": "stream",
     "text": [
      "Epoch 6:\n",
      "Train Loss: 2.1355\n",
      "Val Loss: 2.0823\n",
      "Test Loss: 2.1044\n"
     ]
    },
    {
     "name": "stderr",
     "output_type": "stream",
     "text": [
      "  0%|          | 7/10000 [00:01<33:58,  4.90it/s]"
     ]
    },
    {
     "name": "stdout",
     "output_type": "stream",
     "text": [
      "Epoch 7:\n",
      "Train Loss: 2.0939\n",
      "Val Loss: 2.1007\n",
      "Test Loss: 2.1196\n"
     ]
    },
    {
     "name": "stderr",
     "output_type": "stream",
     "text": [
      "  0%|          | 8/10000 [00:01<34:11,  4.87it/s]"
     ]
    },
    {
     "name": "stdout",
     "output_type": "stream",
     "text": [
      "Epoch 8:\n",
      "Train Loss: 2.1106\n",
      "Val Loss: 2.0575\n",
      "Test Loss: 2.0813\n"
     ]
    },
    {
     "name": "stderr",
     "output_type": "stream",
     "text": [
      "  0%|          | 9/10000 [00:01<34:24,  4.84it/s]"
     ]
    },
    {
     "name": "stdout",
     "output_type": "stream",
     "text": [
      "Epoch 9:\n",
      "Train Loss: 2.1026\n",
      "Val Loss: 2.0545\n",
      "Test Loss: 2.0784\n"
     ]
    },
    {
     "name": "stderr",
     "output_type": "stream",
     "text": [
      "  0%|          | 10/10000 [00:02<35:40,  4.67it/s]"
     ]
    },
    {
     "name": "stdout",
     "output_type": "stream",
     "text": [
      "Epoch 10:\n",
      "Train Loss: 2.0788\n",
      "Val Loss: 2.0766\n",
      "Test Loss: 2.0961\n"
     ]
    },
    {
     "name": "stderr",
     "output_type": "stream",
     "text": [
      "  0%|          | 11/10000 [00:02<35:05,  4.74it/s]"
     ]
    },
    {
     "name": "stdout",
     "output_type": "stream",
     "text": [
      "Epoch 11:\n",
      "Train Loss: 2.0867\n",
      "Val Loss: 2.0639\n",
      "Test Loss: 2.0964\n",
      "Epoch 12:\n"
     ]
    },
    {
     "name": "stderr",
     "output_type": "stream",
     "text": [
      "  0%|          | 13/10000 [00:02<34:06,  4.88it/s]"
     ]
    },
    {
     "name": "stdout",
     "output_type": "stream",
     "text": [
      "Train Loss: 2.0705\n",
      "Val Loss: 2.0368\n",
      "Test Loss: 2.0617\n",
      "Epoch 13:\n",
      "Train Loss: 2.0719\n",
      "Val Loss: 2.0284\n",
      "Test Loss: 2.0586\n"
     ]
    },
    {
     "name": "stderr",
     "output_type": "stream",
     "text": [
      "  0%|          | 14/10000 [00:02<34:01,  4.89it/s]"
     ]
    },
    {
     "name": "stdout",
     "output_type": "stream",
     "text": [
      "Epoch 14:\n",
      "Train Loss: 2.0628\n",
      "Val Loss: 2.0299\n",
      "Test Loss: 2.0735\n"
     ]
    },
    {
     "name": "stderr",
     "output_type": "stream",
     "text": [
      "  0%|          | 15/10000 [00:03<34:02,  4.89it/s]"
     ]
    },
    {
     "name": "stdout",
     "output_type": "stream",
     "text": [
      "Epoch 15:\n",
      "Train Loss: 2.0537\n",
      "Val Loss: 2.0347\n",
      "Test Loss: 2.0460\n",
      "Epoch 16:\n",
      "Train Loss: 2.0306\n"
     ]
    },
    {
     "name": "stderr",
     "output_type": "stream",
     "text": [
      "  0%|          | 17/10000 [00:03<33:31,  4.96it/s]"
     ]
    },
    {
     "name": "stdout",
     "output_type": "stream",
     "text": [
      "Val Loss: 2.0051\n",
      "Test Loss: 2.0467\n",
      "Epoch 17:\n",
      "Train Loss: 2.0680\n",
      "Val Loss: 2.0212\n",
      "Test Loss: 2.0302\n"
     ]
    },
    {
     "name": "stderr",
     "output_type": "stream",
     "text": [
      "  0%|          | 18/10000 [00:03<33:29,  4.97it/s]"
     ]
    },
    {
     "name": "stdout",
     "output_type": "stream",
     "text": [
      "Epoch 18:\n",
      "Train Loss: 2.0439\n",
      "Val Loss: 2.0241\n",
      "Test Loss: 2.0382\n"
     ]
    },
    {
     "name": "stderr",
     "output_type": "stream",
     "text": [
      "  0%|          | 19/10000 [00:03<33:30,  4.97it/s]"
     ]
    },
    {
     "name": "stdout",
     "output_type": "stream",
     "text": [
      "Epoch 19:\n",
      "Train Loss: 2.0261\n",
      "Val Loss: 2.0378\n",
      "Test Loss: 2.0675\n"
     ]
    },
    {
     "name": "stderr",
     "output_type": "stream",
     "text": [
      "  0%|          | 20/10000 [00:04<33:57,  4.90it/s]"
     ]
    },
    {
     "name": "stdout",
     "output_type": "stream",
     "text": [
      "Epoch 20:\n",
      "Train Loss: 2.0371\n",
      "Val Loss: 2.0086\n",
      "Test Loss: 2.0279\n"
     ]
    },
    {
     "name": "stderr",
     "output_type": "stream",
     "text": [
      "  0%|          | 21/10000 [00:04<34:09,  4.87it/s]"
     ]
    },
    {
     "name": "stdout",
     "output_type": "stream",
     "text": [
      "Epoch 21:\n",
      "Train Loss: 2.0128\n",
      "Val Loss: 1.9923\n",
      "Test Loss: 2.0200\n"
     ]
    },
    {
     "name": "stderr",
     "output_type": "stream",
     "text": [
      "  0%|          | 22/10000 [00:04<34:15,  4.85it/s]"
     ]
    },
    {
     "name": "stdout",
     "output_type": "stream",
     "text": [
      "Epoch 22:\n",
      "Train Loss: 2.0328\n",
      "Val Loss: 1.9858\n",
      "Test Loss: 2.0037\n"
     ]
    },
    {
     "name": "stderr",
     "output_type": "stream",
     "text": [
      "                                                  "
     ]
    },
    {
     "name": "stdout",
     "output_type": "stream",
     "text": [
      "Epoch 23:\n",
      "Train Loss: 2.0061\n",
      "Val Loss: 2.0051\n",
      "Test Loss: 2.0400\n"
     ]
    },
    {
     "name": "stderr",
     "output_type": "stream",
     "text": [
      "  0%|          | 24/10000 [00:05<33:48,  4.92it/s]"
     ]
    },
    {
     "name": "stdout",
     "output_type": "stream",
     "text": [
      "Epoch 24:\n",
      "Train Loss: 2.0007\n",
      "Val Loss: 1.9794\n",
      "Test Loss: 1.9996\n",
      "Epoch 25:\n",
      "Train Loss: 2.0090\n"
     ]
    },
    {
     "name": "stderr",
     "output_type": "stream",
     "text": [
      "  0%|          | 26/10000 [00:05<33:26,  4.97it/s]"
     ]
    },
    {
     "name": "stdout",
     "output_type": "stream",
     "text": [
      "Val Loss: 1.9893\n",
      "Test Loss: 2.0134\n",
      "Epoch 26:\n",
      "Train Loss: 1.9890\n",
      "Val Loss: 1.9734\n",
      "Test Loss: 2.0054\n"
     ]
    },
    {
     "name": "stderr",
     "output_type": "stream",
     "text": [
      "  0%|          | 27/10000 [00:05<33:29,  4.96it/s]"
     ]
    },
    {
     "name": "stdout",
     "output_type": "stream",
     "text": [
      "Epoch 27:\n",
      "Train Loss: 1.9927\n",
      "Val Loss: 1.9730\n",
      "Test Loss: 1.9863\n"
     ]
    },
    {
     "name": "stderr",
     "output_type": "stream",
     "text": [
      "  0%|          | 28/10000 [00:05<33:46,  4.92it/s]"
     ]
    },
    {
     "name": "stdout",
     "output_type": "stream",
     "text": [
      "Epoch 28:\n",
      "Train Loss: 1.9637\n",
      "Val Loss: 1.9620\n",
      "Test Loss: 1.9921\n"
     ]
    },
    {
     "name": "stderr",
     "output_type": "stream",
     "text": [
      "  0%|          | 29/10000 [00:05<33:55,  4.90it/s]"
     ]
    },
    {
     "name": "stdout",
     "output_type": "stream",
     "text": [
      "Epoch 29:\n",
      "Train Loss: 1.9411\n",
      "Val Loss: 1.9696\n",
      "Test Loss: 2.0027\n"
     ]
    },
    {
     "name": "stderr",
     "output_type": "stream",
     "text": [
      "  0%|          | 30/10000 [00:06<33:46,  4.92it/s]"
     ]
    },
    {
     "name": "stdout",
     "output_type": "stream",
     "text": [
      "Epoch 30:\n",
      "Train Loss: 2.0114\n",
      "Val Loss: 1.9738\n",
      "Test Loss: 1.9953\n"
     ]
    },
    {
     "name": "stderr",
     "output_type": "stream",
     "text": [
      "  0%|          | 31/10000 [00:06<33:41,  4.93it/s]"
     ]
    },
    {
     "name": "stdout",
     "output_type": "stream",
     "text": [
      "Epoch 31:\n",
      "Train Loss: 1.9980\n",
      "Val Loss: 1.9897\n",
      "Test Loss: 2.0087\n"
     ]
    },
    {
     "name": "stderr",
     "output_type": "stream",
     "text": [
      "  0%|          | 32/10000 [00:06<33:35,  4.95it/s]"
     ]
    },
    {
     "name": "stdout",
     "output_type": "stream",
     "text": [
      "Epoch 32:\n",
      "Train Loss: 1.9460\n",
      "Val Loss: 1.9706\n",
      "Test Loss: 2.0101\n"
     ]
    },
    {
     "name": "stderr",
     "output_type": "stream",
     "text": [
      "                                                  "
     ]
    },
    {
     "name": "stdout",
     "output_type": "stream",
     "text": [
      "Epoch 33:\n",
      "Train Loss: 1.9765\n",
      "Val Loss: 1.9500\n",
      "Test Loss: 1.9857\n",
      "Epoch 34:\n"
     ]
    },
    {
     "name": "stderr",
     "output_type": "stream",
     "text": [
      "  0%|          | 34/10000 [00:06<33:29,  4.96it/s]"
     ]
    },
    {
     "name": "stdout",
     "output_type": "stream",
     "text": [
      "Train Loss: 1.9683\n",
      "Val Loss: 1.9750\n",
      "Test Loss: 1.9958\n"
     ]
    },
    {
     "name": "stderr",
     "output_type": "stream",
     "text": [
      "  0%|          | 35/10000 [00:07<33:31,  4.95it/s]"
     ]
    },
    {
     "name": "stdout",
     "output_type": "stream",
     "text": [
      "Epoch 35:\n",
      "Train Loss: 1.9540\n",
      "Val Loss: 1.9617\n",
      "Test Loss: 1.9887\n"
     ]
    },
    {
     "name": "stderr",
     "output_type": "stream",
     "text": [
      "  0%|          | 36/10000 [00:07<33:29,  4.96it/s]"
     ]
    },
    {
     "name": "stdout",
     "output_type": "stream",
     "text": [
      "Epoch 36:\n",
      "Train Loss: 1.9652\n",
      "Val Loss: 1.9745\n",
      "Test Loss: 1.9898\n"
     ]
    },
    {
     "name": "stderr",
     "output_type": "stream",
     "text": [
      "  0%|          | 37/10000 [00:07<33:39,  4.93it/s]"
     ]
    },
    {
     "name": "stdout",
     "output_type": "stream",
     "text": [
      "Epoch 37:\n",
      "Train Loss: 2.0000\n",
      "Val Loss: 1.9640\n",
      "Test Loss: 1.9854\n"
     ]
    },
    {
     "name": "stderr",
     "output_type": "stream",
     "text": [
      "  0%|          | 37/10000 [00:07<34:41,  4.79it/s]"
     ]
    },
    {
     "name": "stdout",
     "output_type": "stream",
     "text": [
      "Epoch 38:\n",
      "Train Loss: 2.0049\n",
      "Val Loss: 1.9642\n",
      "Test Loss: 1.9859\n",
      "early stopping based on loss reduction when we compare to val dataset\n"
     ]
    },
    {
     "name": "stderr",
     "output_type": "stream",
     "text": [
      "\n"
     ]
    }
   ],
   "source": [
    "mlp = MLP(\n",
    "    input_size=32*32*3,\n",
    "    hidden_layers=hidden_layers,\n",
    "    num_classes=10,\n",
    "    activation_function=best_activation,\n",
    "    dropout_rate=dropout_rate,\n",
    "    use_batch_norm=use_batch_norm\n",
    ")\n",
    "# mlp.cpu()\n",
    "mlp.cuda()\n",
    "\n",
    "optimizer = torch.optim.Adam(mlp.parameters(), \n",
    "                             lr=study.best_params['learning_rate'], \n",
    "                             weight_decay=study.best_params['weight_decay'])\n",
    "\n",
    "best_val_loss = float('inf')\n",
    "patience = 5\n",
    "patience_counter = 0\n",
    "\n",
    "arr_losses_train = []\n",
    "arr_losses_test  = []\n",
    "arr_losses_val   = []\n",
    "\n",
    "# main loop\n",
    "num_epochs       = 10000\n",
    "for epoch in tqdm(range(num_epochs)):\n",
    "    mlp.train()\n",
    "    epoch_loss = 0.0\n",
    "    for i, (images, labels) in enumerate(train_loader):\n",
    "        images = images.view(-1, 32*32*3).cuda()\n",
    "        labels = labels.cuda()\n",
    "        optimizer.zero_grad()\n",
    "\n",
    "        # forward pass\n",
    "        outputs = mlp.forward(images)\n",
    "        loss = loss_function(outputs, labels)\n",
    "        loss.backward()\n",
    "        optimizer.step()\n",
    "\n",
    "        epoch_loss += loss.item()\n",
    "\n",
    "        if (i+1) % 1000 == 0:\n",
    "            tqdm.write(f' Epoch {epoch + 1}/{num_epochs}, Step {i+1}/{len(train_dataset) // study.best_params['batch_size']}, Loss: {loss}')\n",
    "\n",
    "    mlp.eval()\n",
    "    train_loss = epoch_loss/len(train_loader)\n",
    "    val_loss   = evaluate_model(mlp, val_loader, loss_function)\n",
    "    test_loss  = evaluate_model(mlp, test_loader, loss_function)\n",
    "\n",
    "    arr_losses_train.append(train_loss)\n",
    "    arr_losses_val.append(val_loss)\n",
    "    arr_losses_test.append(test_loss)\n",
    "\n",
    "    tqdm.write(f'Epoch {epoch+1}:')\n",
    "    tqdm.write(f'Train Loss: {train_loss:.4f}')\n",
    "    tqdm.write(f'Val Loss: {val_loss:.4f}')\n",
    "    tqdm.write(f'Test Loss: {test_loss:.4f}')\n",
    "\n",
    "\n",
    "    # early stopping \n",
    "    if val_loss < best_val_loss:\n",
    "        best_val_loss = val_loss\n",
    "        patience_counter = 0\n",
    "\n",
    "    else:\n",
    "        patience_counter += 1\n",
    "        if patience_counter >= patience:\n",
    "            tqdm.write(\"early stopping based on loss reduction when we compare to val dataset\")\n",
    "            break\n",
    "\n"
   ]
  },
  {
   "cell_type": "markdown",
   "id": "065ed6dc",
   "metadata": {},
   "source": [
    "# Evaluate best model"
   ]
  },
  {
   "cell_type": "code",
   "execution_count": 43,
   "id": "780ccdff",
   "metadata": {},
   "outputs": [
    {
     "data": {
      "image/png": "[encoded data removed]",
      "text/plain": [
       "<Figure size 640x480 with 1 Axes>"
      ]
     },
     "metadata": {},
     "output_type": "display_data"
    }
   ],
   "source": [
    "show_loss_through_epochs(arr_losses_train, arr_losses_test, arr_losses_val)"
   ]
  },
  {
   "cell_type": "code",
   "execution_count": 45,
   "id": "cc2d66f1",
   "metadata": {},
   "outputs": [
    {
     "name": "stderr",
     "output_type": "stream",
     "text": [
      "/tmp/ipykernel_7142/1788698865.py:86: UserWarning: tight_layout not applied: number of columns in subplot specifications must be multiples of one another.\n",
      "  plt.tight_layout(h_pad=2)\n"
     ]
    },
    {
     "data": {
      "image/png": "[encoded data removed]",
      "text/plain": [
       "<Figure size 2400x2000 with 11 Axes>"
      ]
     },
     "metadata": {},
     "output_type": "display_data"
    }
   ],
   "source": [
    "show_predictions(mlp, test_loader, num_samples=5)"
   ]
  },
  {
   "cell_type": "code",
   "execution_count": 46,
   "id": "f0b8f37b",
   "metadata": {},
   "outputs": [
    {
     "name": "stdout",
     "output_type": "stream",
     "text": [
      "Scores of your model\n",
      " {'accuracy': 0.249, 'balanced_accuracy': np.float64(0.24220544311866138), 'f1_score': 0.20311749233445373, 'precision': 0.19627024283756925, 'recall': 0.249}\n",
      "\n",
      "\n"
     ]
    },
    {
     "name": "stderr",
     "output_type": "stream",
     "text": [
      "/home/eduardoamorim/Área de trabalho/cin_2025_1/NN/nn-exps/.venvNN/lib/python3.12/site-packages/sklearn/metrics/_classification.py:1565: UndefinedMetricWarning: Precision is ill-defined and being set to 0.0 in labels with no predicted samples. Use `zero_division` parameter to control this behavior.\n",
      "  _warn_prf(average, modifier, f\"{metric.capitalize()} is\", len(result))\n"
     ]
    }
   ],
   "source": [
    "mlp.eval()\n",
    "predictions = []\n",
    "labels = []\n",
    "\n",
    "for images, label in test_loader:\n",
    "  images = images.view(-1,32*32*3).cuda()\n",
    "  label = label.cuda()\n",
    "\n",
    "  output = mlp(images)\n",
    "  _, predicted = torch.max(output,1)\n",
    "\n",
    "  predictions.extend(predicted.cpu().numpy())\n",
    "  labels.extend(label.cpu().numpy())\n",
    "\n",
    "scores = get_scores(labels, predictions)\n",
    "print(f\"Scores of your model\\n {scores}\\n\\n\")"
   ]
  },
  {
   "cell_type": "code",
   "execution_count": 47,
   "id": "e6b4cbab",
   "metadata": {},
   "outputs": [
    {
     "name": "stdout",
     "output_type": "stream",
     "text": [
      "\n",
      " shape dataset teste -> 1000\n",
      "\n",
      "(repr x acc top1) por classe(conjunto teste):\n",
      "\n",
      "airplane:\n",
      "  Acurácia: 38.83%\n",
      "  Número de amostras: 103\n",
      "  Representatividade: 10.30%\n",
      "\n",
      "automobile:\n",
      "  Acurácia: 51.69%\n",
      "  Número de amostras: 89\n",
      "  Representatividade: 8.90%\n",
      "\n",
      "bird:\n",
      "  Acurácia: 0.00%\n",
      "  Número de amostras: 100\n",
      "  Representatividade: 10.00%\n",
      "\n",
      "cat:\n",
      "  Acurácia: 15.53%\n",
      "  Número de amostras: 103\n",
      "  Representatividade: 10.30%\n",
      "\n",
      "deer:\n",
      "  Acurácia: 0.00%\n",
      "  Número de amostras: 90\n",
      "  Representatividade: 9.00%\n",
      "\n",
      "dog:\n",
      "  Acurácia: 3.49%\n",
      "  Número de amostras: 86\n",
      "  Representatividade: 8.60%\n",
      "\n",
      "frog:\n",
      "  Acurácia: 66.07%\n",
      "  Número de amostras: 112\n",
      "  Representatividade: 11.20%\n",
      "\n",
      "horse:\n",
      "  Acurácia: 28.43%\n",
      "  Número de amostras: 102\n",
      "  Representatividade: 10.20%\n",
      "\n",
      "ship:\n",
      "  Acurácia: 19.81%\n",
      "  Número de amostras: 106\n",
      "  Representatividade: 10.60%\n",
      "\n",
      "truck:\n",
      "  Acurácia: 18.35%\n",
      "  Número de amostras: 109\n",
      "  Representatividade: 10.90%\n"
     ]
    }
   ],
   "source": [
    "classes = ['airplane', 'automobile', 'bird', 'cat', 'deer', \n",
    "           'dog', 'frog', 'horse', 'ship', 'truck'] # .venvNN/lib/python3.12/site-packages/torchvision/prototype/datasets/_builtin/cifar10.categories\n",
    "\n",
    "labels = np.array(labels)\n",
    "predictions = np.array(predictions)\n",
    "\n",
    "stats = {}\n",
    "\n",
    "print(f\"\\n shape dataset teste -> {len(test_dataset)}\")\n",
    "print(\"\\n(repr x acc top1) por classe(conjunto teste):\")\n",
    "\n",
    "for i in range(10):\n",
    "    mask = labels == i\n",
    "    class_acc = np.mean(predictions[mask] == labels[mask]) * 100\n",
    "    num_samples = np.sum(mask)\n",
    "    class_repr = (num_samples / len(labels)) * 100\n",
    "\n",
    "    stats[classes[i]] = {\n",
    "        'acuracia': f\"{class_acc:.2f}%\",\n",
    "        'num_amostras': num_samples,\n",
    "        'representatividade': f\"{class_repr:.2f}%\"\n",
    "    }\n",
    "\n",
    "for classe, metricas in stats.items():\n",
    "    print(f\"\\n{classe}:\")\n",
    "    print(f\"  Acurácia: {metricas['acuracia']}\")\n",
    "    print(f\"  Número de amostras: {metricas['num_amostras']}\")\n",
    "    print(f\"  Representatividade: {metricas['representatividade']}\")"
   ]
  }
 ],
 "metadata": {
  "kernelspec": {
   "display_name": ".venvNN",
   "language": "python",
   "name": "python3"
  },
  "language_info": {
   "codemirror_mode": {
    "name": "ipython",
    "version": 3
   },
   "file_extension": ".py",
   "mimetype": "text/x-python",
   "name": "python",
   "nbconvert_exporter": "python",
   "pygments_lexer": "ipython3",
   "version": "3.12.3"
  }
 },
 "nbformat": 4,
 "nbformat_minor": 5
}
