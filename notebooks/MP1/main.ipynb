{
 "cells": [
  {
   "cell_type": "code",
   "execution_count": null,
   "id": "19cf76d2",
   "metadata": {},
   "outputs": [],
   "source": [
    "# MAIN TODO:\n",
    "#     - put validation set as early stopping DONE \n",
    "#     - show loss functions decrease through epochs (train, test and val) DONE \n",
    "#     - show correct and incorrect predictions DONE  \n",
    "#     - can modify the layers DONE \n",
    "#     - put optuna to find best params DONE \n",
    "#     \n",
    "# TOMORROW:\n",
    "    # - taxas de acuracia por classe plotar DOING \n",
    "    # - talvez buscar tbm em relacao a regularizacao e dropout \n",
    "    # - descrever a parte passo a passo depois optuna \n",
    "    # - colocar no colab \n",
    "    \n",
    "\n",
    "# aninha melhor:\n",
    "# {'accuracy': 0.5393, 'balanced_accuracy': np.float64(0.5393), 'precision': 0.5331819635272109, 'recall': 0.5393, 'f1_score': 0.5336478703066184}"
   ]
  },
  {
   "cell_type": "markdown",
   "id": "8dbb3dac",
   "metadata": {},
   "source": [
    "# Imports"
   ]
  },
  {
   "cell_type": "code",
   "execution_count": 23,
   "id": "49818bca",
   "metadata": {},
   "outputs": [],
   "source": [
    "import torch\n",
    "import torch.nn as nn\n",
    "import torchvision\n",
    "import torchvision.transforms as transforms\n",
    "\n",
    "import optuna \n",
    "from optuna.trial import Trial\n",
    "\n",
    "import numpy as np\n",
    "\n",
    "from tqdm import tqdm\n",
    "\n",
    "import matplotlib.pyplot as plt\n",
    "\n",
    "from sklearn import metrics"
   ]
  },
  {
   "cell_type": "markdown",
   "id": "6fbd66a4",
   "metadata": {},
   "source": [
    "# Helper functions and MLP class"
   ]
  },
  {
   "cell_type": "code",
   "execution_count": 4,
   "id": "60557936",
   "metadata": {},
   "outputs": [],
   "source": [
    "class MLP(nn.Module):\n",
    "    def __init__(self, input_size, hidden_layers, num_classes, activation_function):\n",
    "        super(MLP, self).__init__()\n",
    "        self.activation_function = activation_function\n",
    "\n",
    "        layers_dims = [input_size] + hidden_layers + [num_classes]\n",
    "        self.layers = nn.ModuleList()\n",
    "\n",
    "        for i in range(len(layers_dims) - 1):  \n",
    "            self.layers.append(nn.Linear(layers_dims[i], layers_dims[i+1]))\n",
    "\n",
    "\n",
    "\n",
    "    def forward(self, x):\n",
    "        for layer in self.layers[:-1]:\n",
    "            x = self.activation_function(layer(x))\n",
    "\n",
    "        x = self.layers[-1](x)\n",
    "        \n",
    "        return x "
   ]
  },
  {
   "cell_type": "code",
   "execution_count": 5,
   "id": "d3da68d5",
   "metadata": {},
   "outputs": [],
   "source": [
    "def get_scores(targets, predictions):\n",
    "    return {\n",
    "        \"accuracy\"         : metrics.accuracy_score(targets, predictions),\n",
    "        \"balanced_accuracy\": metrics.balanced_accuracy_score(targets, predictions),\n",
    "        \"f1_score\"         : metrics.f1_score(targets, predictions, average=\"weighted\"),\n",
    "        \"precision\"        : metrics.precision_score(targets, predictions, average=\"weighted\"),\n",
    "        \"recall\"           : metrics.recall_score(targets, predictions, average=\"weighted\"),\n",
    "        \"f1_score\"         : metrics.f1_score(targets, predictions, average=\"weighted\")\n",
    "    }\n",
    "\n",
    "def evaluate_model(model, data_loader, loss_function):\n",
    "    model.eval()\n",
    "    total_loss = 0.0\n",
    "    with torch.no_grad():\n",
    "        for images, labels in data_loader:\n",
    "            images = images.view(-1, 32*32*3).cuda()\n",
    "            labels = labels.cuda()\n",
    "            outputs = model(images)\n",
    "            loss = loss_function(outputs, labels)\n",
    "            total_loss += loss.item()\n",
    "\n",
    "    return total_loss / len(data_loader)\n",
    "\n",
    "def show_loss_through_epochs(arr_losses_train, arr_losses_test, arr_losses_val):\n",
    "    plt.plot(arr_losses_train, label = \"train loss\")\n",
    "    plt.plot(arr_losses_val, label = \"val loss\")\n",
    "    plt.plot(arr_losses_test, label = \"test loss\")\n",
    "    plt.xlabel(\"epoch\")\n",
    "    plt.ylabel(\"loss\")\n",
    "    plt.grid()\n",
    "    plt.legend()\n",
    "    return None\n",
    "\n",
    "def show_predictions(model, dataloader, num_samples):\n",
    "    model.eval()\n",
    "    correct_samples = []\n",
    "    wrong_samples = []\n",
    "\n",
    "    classes = ['airplane', 'automobile', 'bird', 'cat', 'deer',\n",
    "               'dog', 'frog', 'horse', 'ship', 'truck']\n",
    "    \n",
    "    with torch.no_grad():\n",
    "        for images, labels in dataloader:\n",
    "            original_images = images\n",
    "\n",
    "            images = images.view(-1, 32*32*3).cuda()\n",
    "            labels = labels.cuda()\n",
    "\n",
    "            outputs = model.forward(images)\n",
    "            _, predicted = torch.max(outputs.data, 1)\n",
    "\n",
    "            for i in range(len(labels)):\n",
    "                pred = predicted[i].cpu().item()\n",
    "                true = labels[i].cpu().item()\n",
    "                img = original_images[i]\n",
    "\n",
    "                if pred == true and len(correct_samples) < num_samples:\n",
    "                    correct_samples.append((img, pred, true))\n",
    "                elif pred != true and len(wrong_samples) < num_samples:\n",
    "                    wrong_samples.append((img, pred, true))\n",
    "\n",
    "                if len(correct_samples) >= num_samples and len(wrong_samples) >= num_samples:\n",
    "                    break\n",
    "\n",
    "    plt.figure(figsize=(24, 20))\n",
    "    \n",
    "    plt.subplot(1, 2, 1)\n",
    "    # acertos\n",
    "    for idx, (img, pred, true) in enumerate(correct_samples):\n",
    "        plt.subplot(2, num_samples, idx + 1)\n",
    "        img = img.permute(1, 2, 0)  \n",
    "        img = img * 0.5 + 0.5 \n",
    "        plt.imshow(img)\n",
    "        plt.title(f'Correto!\\nPred: {classes[pred]}\\nTrue: {classes[true]}')\n",
    "        plt.axis('off')\n",
    "\n",
    "    # erros\n",
    "    for idx, (img, pred, true) in enumerate(wrong_samples):\n",
    "        plt.subplot(2, num_samples, idx + num_samples + 1)\n",
    "        img = img.permute(1, 2, 0)\n",
    "        img = img * 0.5 + 0.5\n",
    "        plt.imshow(img)\n",
    "        plt.title(f'Erro!\\nPred: {classes[pred]}\\nTrue: {classes[true]}')\n",
    "        plt.axis('off')\n",
    "    \n",
    "    plt.tight_layout(h_pad=2)\n",
    "    plt.show()\n",
    "\n",
    "    return None\n",
    "\n",
    "def objective(trial):\n",
    "    global train_dataset_global, validation_dataset_global\n",
    "\n",
    "    activation_name = trial.suggest_categorical('activation', ['ReLU', 'Sigmoid', 'Tanh'])\n",
    "    activation_functions = {\n",
    "        'ReLU': nn.ReLU(),\n",
    "        'Sigmoid': nn.Sigmoid(),\n",
    "        'Tanh': nn.Tanh()\n",
    "    }\n",
    "    activation_function = activation_functions[activation_name]\n",
    "    learning_rate = trial.suggest_float('learning_rate', 1e-5, 1e-2, log=True)\n",
    "    batch_size = trial.suggest_int('batch_size', 32, 256)\n",
    "\n",
    "    n_layers = trial.suggest_int('n_layers', 2, 5)\n",
    "    hidden_layers = []\n",
    "    for i in range(n_layers):\n",
    "        n_units = trial.suggest_int(f'n_units_l{i}', 32, 256)\n",
    "        hidden_layers.append(n_units)\n",
    "\n",
    "    input_size = 32*32*3\n",
    "    num_classes = 10\n",
    "    loss_function = nn.CrossEntropyLoss()\n",
    "    \n",
    "    train_loader = torch.utils.data.DataLoader(\n",
    "        dataset=train_dataset_global, \n",
    "        batch_size=batch_size, \n",
    "        shuffle=True\n",
    "    )\n",
    "    val_loader = torch.utils.data.DataLoader(\n",
    "        dataset=validation_dataset_global, \n",
    "        batch_size=batch_size, \n",
    "        shuffle=False\n",
    "    )\n",
    "\n",
    "    model = MLP(\n",
    "        input_size=input_size,\n",
    "        hidden_layers=hidden_layers,\n",
    "        num_classes=num_classes,\n",
    "        activation_function=activation_function  \n",
    "    ).cuda()\n",
    "    \n",
    "    optimizer = torch.optim.Adam(model.parameters(), lr=learning_rate)\n",
    "    \n",
    "    best_val_loss = float('inf')\n",
    "    patience = 7\n",
    "    patience_counter = 0\n",
    "    \n",
    "    for _ in range(20):\n",
    "        model.train()\n",
    "        for images, labels in train_loader:\n",
    "            images = images.view(-1, input_size).cuda()\n",
    "            labels = labels.cuda()\n",
    "            \n",
    "            optimizer.zero_grad()\n",
    "            outputs = model(images)\n",
    "            loss = loss_function(outputs, labels)\n",
    "            loss.backward()\n",
    "            optimizer.step()\n",
    "        \n",
    "        val_loss = evaluate_model(model, val_loader, loss_function)\n",
    "        \n",
    "        if val_loss < best_val_loss:\n",
    "            best_val_loss = val_loss\n",
    "            patience_counter = 0\n",
    "        else:\n",
    "            patience_counter += 1\n",
    "            \n",
    "        if patience_counter >= patience:\n",
    "            break\n",
    "    \n",
    "    return best_val_loss\n"
   ]
  },
  {
   "cell_type": "markdown",
   "id": "93b8922c",
   "metadata": {},
   "source": [
    "# Setup"
   ]
  },
  {
   "cell_type": "code",
   "execution_count": 6,
   "id": "25cc0de3",
   "metadata": {},
   "outputs": [],
   "source": [
    "transform = transforms.Compose([\n",
    "                    transforms.ToTensor(),\n",
    "                    transforms.Normalize(mean=[0.5, 0.5, 0.5], std=[0.5, 0.5, 0.5])\n",
    "                    ])\n",
    "\n",
    "train_dataset = torchvision.datasets.CIFAR10(root='./data', train=True, download=True, transform=transform)\n",
    "test_dataset = torchvision.datasets.CIFAR10(root='./data', train=False, download=True, transform=transform)\n",
    "\n",
    "train_size = int(0.8 * len(train_dataset))\n",
    "val_size = len(train_dataset) - train_size\n",
    "\n",
    "train_dataset, validation_dataset = torch.utils.data.random_split(train_dataset, [train_size, val_size])"
   ]
  },
  {
   "cell_type": "code",
   "execution_count": 7,
   "id": "96dfadbb",
   "metadata": {},
   "outputs": [],
   "source": [
    "# just to run fast\n",
    "subset_sample      = 1000\n",
    "\n",
    "train_dataset      = torch.utils.data.Subset(train_dataset, range(subset_sample))\n",
    "validation_dataset = torch.utils.data.Subset(validation_dataset, range(subset_sample))\n",
    "test_dataset       = torch.utils.data.Subset(test_dataset, range(subset_sample))\n"
   ]
  },
  {
   "cell_type": "code",
   "execution_count": 8,
   "id": "2f802c05",
   "metadata": {},
   "outputs": [],
   "source": [
    "train_dataset_global = train_dataset\n",
    "validation_dataset_global = validation_dataset"
   ]
  },
  {
   "cell_type": "markdown",
   "id": "0ba4092f",
   "metadata": {},
   "source": [
    "# Def hyperparameters and Loaders"
   ]
  },
  {
   "cell_type": "code",
   "execution_count": 9,
   "id": "e3230a72",
   "metadata": {},
   "outputs": [],
   "source": [
    "loss_function       = nn.CrossEntropyLoss()"
   ]
  },
  {
   "cell_type": "markdown",
   "id": "d8bbd35e",
   "metadata": {},
   "source": [
    "# Main training Loop"
   ]
  },
  {
   "cell_type": "markdown",
   "id": "f0eb17a2",
   "metadata": {},
   "source": [
    "## Optuna optimization"
   ]
  },
  {
   "cell_type": "code",
   "execution_count": 11,
   "id": "b6ebca3b",
   "metadata": {},
   "outputs": [
    {
     "name": "stderr",
     "output_type": "stream",
     "text": [
      "[I 2025-06-01 08:13:02,780] A new study created in memory with name: no-name-45dde9fe-3f8a-4e05-b6e3-58349f6012e5\n",
      "[I 2025-06-01 08:13:04,072] Trial 0 finished with value: 1.9051973687277899 and parameters: {'activation': 'ReLU', 'learning_rate': 0.0026675316999086596, 'batch_size': 112, 'n_layers': 4, 'n_units_l0': 49, 'n_units_l1': 181, 'n_units_l2': 102, 'n_units_l3': 133}. Best is trial 0 with value: 1.9051973687277899.\n"
     ]
    }
   ],
   "source": [
    "n_trials=1\n",
    "study = optuna.create_study(direction='minimize')\n",
    "study.optimize(objective, n_trials=n_trials)"
   ]
  },
  {
   "cell_type": "markdown",
   "id": "e5a09e96",
   "metadata": {},
   "source": [
    "## Best founded model"
   ]
  },
  {
   "cell_type": "code",
   "execution_count": 12,
   "id": "bb1b80e3",
   "metadata": {},
   "outputs": [
    {
     "data": {
      "text/plain": [
       "{'activation': 'ReLU',\n",
       " 'learning_rate': 0.0026675316999086596,\n",
       " 'batch_size': 112,\n",
       " 'n_layers': 4,\n",
       " 'n_units_l0': 49,\n",
       " 'n_units_l1': 181,\n",
       " 'n_units_l2': 102,\n",
       " 'n_units_l3': 133}"
      ]
     },
     "execution_count": 12,
     "metadata": {},
     "output_type": "execute_result"
    }
   ],
   "source": [
    "study.best_params"
   ]
  },
  {
   "cell_type": "code",
   "execution_count": 13,
   "id": "d2ae28a3",
   "metadata": {},
   "outputs": [],
   "source": [
    "hidden_layers = [study.best_params[f'n_units_l{i}'] for i in range(study.best_params['n_layers'])]\n",
    "\n",
    "activation_functions = {\n",
    "    'ReLU': nn.ReLU(),\n",
    "    'Sigmoid': nn.Sigmoid(),\n",
    "    'Tanh': nn.Tanh()\n",
    "}\n",
    "\n",
    "best_activation = activation_functions[study.best_params['activation']]\n",
    "\n",
    "train_loader = torch.utils.data.DataLoader(\n",
    "    dataset=train_dataset_global, \n",
    "    batch_size=study.best_params['batch_size'], \n",
    "    shuffle=True\n",
    ")\n",
    "val_loader = torch.utils.data.DataLoader(\n",
    "    dataset=validation_dataset_global, \n",
    "    batch_size=study.best_params['batch_size'], \n",
    "    shuffle=False\n",
    ")\n",
    "\n",
    "test_loader = torch.utils.data.DataLoader(\n",
    "    dataset=test_dataset, \n",
    "    batch_size=study.best_params['batch_size'], \n",
    "    shuffle=False\n",
    ")\n"
   ]
  },
  {
   "cell_type": "code",
   "execution_count": 14,
   "id": "b04aa267",
   "metadata": {},
   "outputs": [
    {
     "name": "stderr",
     "output_type": "stream",
     "text": [
      "  0%|          | 2/10000 [00:00<33:59,  4.90it/s]"
     ]
    },
    {
     "name": "stdout",
     "output_type": "stream",
     "text": [
      "Epoch 1:\n",
      "Train Loss: 2.2273\n",
      "Val Loss: 2.1058\n",
      "Test Loss: 2.0848\n",
      "Epoch 2:\n",
      "Train Loss: 2.0207\n",
      "Val Loss: 2.0209\n",
      "Test Loss: 1.9866\n"
     ]
    },
    {
     "name": "stderr",
     "output_type": "stream",
     "text": [
      "  0%|          | 4/10000 [00:00<32:48,  5.08it/s]"
     ]
    },
    {
     "name": "stdout",
     "output_type": "stream",
     "text": [
      "Epoch 3:\n",
      "Train Loss: 1.8220\n",
      "Val Loss: 1.9766\n",
      "Test Loss: 1.9471\n",
      "Epoch 4:\n",
      "Train Loss: 1.6643\n",
      "Val Loss: 1.9389\n",
      "Test Loss: 1.9185\n"
     ]
    },
    {
     "name": "stderr",
     "output_type": "stream",
     "text": [
      "  0%|          | 6/10000 [00:01<32:33,  5.12it/s]"
     ]
    },
    {
     "name": "stdout",
     "output_type": "stream",
     "text": [
      "Epoch 5:\n",
      "Train Loss: 1.4890\n",
      "Val Loss: 2.0271\n",
      "Test Loss: 2.0248\n",
      "Epoch 6:\n",
      "Train Loss: 1.3465\n",
      "Val Loss: 2.0613\n",
      "Test Loss: 2.0359\n"
     ]
    },
    {
     "name": "stderr",
     "output_type": "stream",
     "text": [
      "  0%|          | 6/10000 [00:01<38:21,  4.34it/s]"
     ]
    },
    {
     "name": "stdout",
     "output_type": "stream",
     "text": [
      "Epoch 7:\n",
      "Train Loss: 1.1773\n",
      "Val Loss: 2.1610\n",
      "Test Loss: 2.1160\n",
      "early stopping based on loss reduction when we compare to val dataset\n"
     ]
    },
    {
     "name": "stderr",
     "output_type": "stream",
     "text": [
      "\n"
     ]
    }
   ],
   "source": [
    "mlp = MLP(\n",
    "    input_size=32*32*3,\n",
    "    hidden_layers=hidden_layers,\n",
    "    num_classes=10,\n",
    "    activation_function=best_activation\n",
    ")\n",
    "# mlp.cpu()\n",
    "mlp.cuda()\n",
    "\n",
    "optimizer = torch.optim.Adam(mlp.parameters(), lr=study.best_params['learning_rate'])\n",
    "\n",
    "best_val_loss = float('inf')\n",
    "patience = 3\n",
    "patience_counter = 0\n",
    "\n",
    "arr_losses_train = []\n",
    "arr_losses_test  = []\n",
    "arr_losses_val   = []\n",
    "\n",
    "# main loop\n",
    "num_epochs       = 10000\n",
    "for epoch in tqdm(range(num_epochs)):\n",
    "    epoch_loss = 0.0\n",
    "    for i, (images, labels) in enumerate(train_loader):\n",
    "        images = images.view(-1, 32*32*3).cuda()\n",
    "        labels = labels.cuda()\n",
    "        optimizer.zero_grad()\n",
    "\n",
    "        # forward pass\n",
    "        outputs = mlp.forward(images)\n",
    "        loss = loss_function(outputs, labels)\n",
    "        loss.backward()\n",
    "        optimizer.step()\n",
    "\n",
    "        epoch_loss += loss.item()\n",
    "\n",
    "        if (i+1) % 1000 == 0:\n",
    "            tqdm.write(f' Epoch {epoch + 1}/{num_epochs}, Step {i+1}/{len(train_dataset) // study.best_params['batch_size']}, Loss: {loss}')\n",
    "\n",
    "    train_loss = epoch_loss/len(train_loader)\n",
    "    val_loss   = evaluate_model(mlp, val_loader, loss_function)\n",
    "    test_loss  = evaluate_model(mlp, test_loader, loss_function)\n",
    "\n",
    "    arr_losses_train.append(train_loss)\n",
    "    arr_losses_val.append(val_loss)\n",
    "    arr_losses_test.append(test_loss)\n",
    "\n",
    "    tqdm.write(f'Epoch {epoch+1}:')\n",
    "    tqdm.write(f'Train Loss: {train_loss:.4f}')\n",
    "    tqdm.write(f'Val Loss: {val_loss:.4f}')\n",
    "    tqdm.write(f'Test Loss: {test_loss:.4f}')\n",
    "\n",
    "\n",
    "    # early stopping \n",
    "    if val_loss < best_val_loss:\n",
    "        best_val_loss = val_loss\n",
    "        patience_counter = 0\n",
    "\n",
    "    else:\n",
    "        patience_counter += 1\n",
    "        if patience_counter >= patience:\n",
    "            tqdm.write(\"early stopping based on loss reduction when we compare to val dataset\")\n",
    "            break\n",
    "\n"
   ]
  },
  {
   "cell_type": "markdown",
   "id": "065ed6dc",
   "metadata": {},
   "source": [
    "# Evaluate best model"
   ]
  },
  {
   "cell_type": "code",
   "execution_count": 15,
   "id": "780ccdff",
   "metadata": {},
   "outputs": [
    {
     "data": {
      "image/png": "[encoded data removed]",
      "text/plain": [
       "<Figure size 640x480 with 1 Axes>"
      ]
     },
     "metadata": {},
     "output_type": "display_data"
    }
   ],
   "source": [
    "show_loss_through_epochs(arr_losses_train, arr_losses_test, arr_losses_val)"
   ]
  },
  {
   "cell_type": "code",
   "execution_count": 16,
   "id": "cc2d66f1",
   "metadata": {},
   "outputs": [
    {
     "name": "stderr",
     "output_type": "stream",
     "text": [
      "/tmp/ipykernel_7142/3744762077.py:86: UserWarning: tight_layout not applied: number of columns in subplot specifications must be multiples of one another.\n",
      "  plt.tight_layout(h_pad=2)\n"
     ]
    },
    {
     "data": {
      "image/png": "[encoded data removed]",
      "text/plain": [
       "<Figure size 2400x2000 with 7 Axes>"
      ]
     },
     "metadata": {},
     "output_type": "display_data"
    }
   ],
   "source": [
    "show_predictions(mlp, test_loader, num_samples=3)"
   ]
  },
  {
   "cell_type": "code",
   "execution_count": 17,
   "id": "f0b8f37b",
   "metadata": {},
   "outputs": [
    {
     "name": "stdout",
     "output_type": "stream",
     "text": [
      "Scores of your model\n",
      " {'accuracy': 0.325, 'balanced_accuracy': np.float64(0.32145239790549496), 'f1_score': 0.3158587626051179, 'precision': 0.3369562413829509, 'recall': 0.325}\n",
      "\n",
      "\n"
     ]
    }
   ],
   "source": [
    "mlp.eval()\n",
    "predictions = []\n",
    "labels = []\n",
    "\n",
    "for images, label in test_loader:\n",
    "  images = images.view(-1,32*32*3).cuda()\n",
    "  label = label.cuda()\n",
    "\n",
    "  output = mlp(images)\n",
    "  _, predicted = torch.max(output,1)\n",
    "\n",
    "  predictions.extend(predicted.cpu().numpy())\n",
    "  labels.extend(label.cpu().numpy())\n",
    "\n",
    "scores = get_scores(labels, predictions)\n",
    "print(f\"Scores of your model\\n {scores}\\n\\n\")"
   ]
  },
  {
   "cell_type": "code",
   "execution_count": 30,
   "id": "e6b4cbab",
   "metadata": {},
   "outputs": [
    {
     "name": "stdout",
     "output_type": "stream",
     "text": [
      "\n",
      " shape dataset teste -> 1000\n",
      "\n",
      "(repr x acc top1) por classe(conjunto teste):\n",
      "\n",
      "airplane:\n",
      "  Acurácia: 43.69%\n",
      "  Número de amostras: 103\n",
      "  Representatividade: 10.30%\n",
      "\n",
      "automobile:\n",
      "  Acurácia: 21.35%\n",
      "  Número de amostras: 89\n",
      "  Representatividade: 8.90%\n",
      "\n",
      "bird:\n",
      "  Acurácia: 10.00%\n",
      "  Número de amostras: 100\n",
      "  Representatividade: 10.00%\n",
      "\n",
      "cat:\n",
      "  Acurácia: 24.27%\n",
      "  Número de amostras: 103\n",
      "  Representatividade: 10.30%\n",
      "\n",
      "deer:\n",
      "  Acurácia: 32.22%\n",
      "  Número de amostras: 90\n",
      "  Representatividade: 9.00%\n",
      "\n",
      "dog:\n",
      "  Acurácia: 27.91%\n",
      "  Número de amostras: 86\n",
      "  Representatividade: 8.60%\n",
      "\n",
      "frog:\n",
      "  Acurácia: 19.64%\n",
      "  Número de amostras: 112\n",
      "  Representatividade: 11.20%\n",
      "\n",
      "horse:\n",
      "  Acurácia: 41.18%\n",
      "  Número de amostras: 102\n",
      "  Representatividade: 10.20%\n",
      "\n",
      "ship:\n",
      "  Acurácia: 43.40%\n",
      "  Número de amostras: 106\n",
      "  Representatividade: 10.60%\n",
      "\n",
      "truck:\n",
      "  Acurácia: 57.80%\n",
      "  Número de amostras: 109\n",
      "  Representatividade: 10.90%\n"
     ]
    }
   ],
   "source": [
    "classes = ['airplane', 'automobile', 'bird', 'cat', 'deer', \n",
    "           'dog', 'frog', 'horse', 'ship', 'truck']\n",
    "\n",
    "labels = np.array(labels)\n",
    "predictions = np.array(predictions)\n",
    "\n",
    "stats = {}\n",
    "\n",
    "print(f\"\\n shape dataset teste -> {len(test_dataset)}\")\n",
    "print(\"\\n(repr x acc top1) por classe(conjunto teste):\")\n",
    "\n",
    "for i in range(10):\n",
    "    mask = labels == i\n",
    "    class_acc = np.mean(predictions[mask] == labels[mask]) * 100\n",
    "    num_samples = np.sum(mask)\n",
    "    class_repr = (num_samples / len(labels)) * 100\n",
    "\n",
    "    stats[classes[i]] = {\n",
    "        'acuracia': f\"{class_acc:.2f}%\",\n",
    "        'num_amostras': num_samples,\n",
    "        'representatividade': f\"{class_repr:.2f}%\"\n",
    "    }\n",
    "\n",
    "for classe, metricas in stats.items():\n",
    "    print(f\"\\n{classe}:\")\n",
    "    print(f\"  Acurácia: {metricas['acuracia']}\")\n",
    "    print(f\"  Número de amostras: {metricas['num_amostras']}\")\n",
    "    print(f\"  Representatividade: {metricas['representatividade']}\")"
   ]
  }
 ],
 "metadata": {
  "kernelspec": {
   "display_name": ".venvNN",
   "language": "python",
   "name": "python3"
  },
  "language_info": {
   "codemirror_mode": {
    "name": "ipython",
    "version": 3
   },
   "file_extension": ".py",
   "mimetype": "text/x-python",
   "name": "python",
   "nbconvert_exporter": "python",
   "pygments_lexer": "ipython3",
   "version": "3.12.3"
  }
 },
 "nbformat": 4,
 "nbformat_minor": 5
}
