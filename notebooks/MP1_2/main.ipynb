{
 "cells": [
  {
   "cell_type": "markdown",
   "id": "a1449c2e",
   "metadata": {},
   "source": [
    "- coisas para add \n",
    "    - data augmentation DONE \n",
    "    - matriz de confusao  \n",
    "    - acuracia ao longo do tempo \n",
    "    - nova ativacao(leaky relu) \n",
    "    - tamanho dos modelos e arquiteura final "
   ]
  },
  {
   "cell_type": "markdown",
   "id": "8dbb3dac",
   "metadata": {},
   "source": [
    "# Imports"
   ]
  },
  {
   "cell_type": "code",
   "execution_count": 45,
   "id": "49818bca",
   "metadata": {},
   "outputs": [],
   "source": [
    "import torch\n",
    "import torch.nn as nn\n",
    "import torchvision\n",
    "import torchvision.transforms as transforms\n",
    "\n",
    "import optuna \n",
    "\n",
    "import numpy as np\n",
    "\n",
    "from tqdm import tqdm\n",
    "\n",
    "import matplotlib.pyplot as plt\n",
    "\n",
    "from sklearn import metrics\n",
    "\n",
    "import seaborn as sns"
   ]
  },
  {
   "cell_type": "markdown",
   "id": "6fbd66a4",
   "metadata": {},
   "source": [
    "# Helper functions and MLP class"
   ]
  },
  {
   "cell_type": "code",
   "execution_count": 27,
   "id": "60557936",
   "metadata": {},
   "outputs": [],
   "source": [
    "class MLP(nn.Module):\n",
    "    def __init__(self, input_size, hidden_layers, num_classes, activation_function, dropout_rate, use_batch_norm=True):\n",
    "        super(MLP, self).__init__()\n",
    "        self.activation_function = activation_function\n",
    "        self.dropout = nn.Dropout(p=dropout_rate)\n",
    "        self.use_batch_norm = use_batch_norm\n",
    "\n",
    "        layers_dims = [input_size] + hidden_layers + [num_classes]\n",
    "        self.layers = nn.ModuleList()\n",
    "        self.batch_norms = nn.ModuleList()\n",
    "\n",
    "        for i in range(len(layers_dims) - 1):  \n",
    "            self.layers.append(nn.Linear(layers_dims[i], layers_dims[i+1]))\n",
    "            \n",
    "            if use_batch_norm and i < len(layers_dims) - 2:\n",
    "                self.batch_norms.append(nn.BatchNorm1d(layers_dims[i+1]))\n",
    "\n",
    "\n",
    "\n",
    "    def forward(self, x):\n",
    "        for layer in self.layers[:-1]:\n",
    "            x = self.activation_function(layer(x))\n",
    "            x = self.dropout(x)\n",
    "\n",
    "        x = self.layers[-1](x)\n",
    "        \n",
    "        return x "
   ]
  },
  {
   "cell_type": "code",
   "execution_count": 28,
   "id": "d3da68d5",
   "metadata": {},
   "outputs": [],
   "source": [
    "def get_scores(targets, predictions):\n",
    "    return {\n",
    "        \"accuracy\"         : metrics.accuracy_score(targets, predictions),\n",
    "        \"balanced_accuracy\": metrics.balanced_accuracy_score(targets, predictions),\n",
    "        \"f1_score\"         : metrics.f1_score(targets, predictions, average=\"weighted\"),\n",
    "        \"precision\"        : metrics.precision_score(targets, predictions, average=\"weighted\"),\n",
    "        \"recall\"           : metrics.recall_score(targets, predictions, average=\"weighted\"),\n",
    "        \"f1_score\"         : metrics.f1_score(targets, predictions, average=\"weighted\")\n",
    "    }\n",
    "\n",
    "def evaluate_model(model, data_loader, loss_function):\n",
    "    model.eval()\n",
    "    total_loss = 0.0\n",
    "    with torch.no_grad():\n",
    "        for images, labels in data_loader:\n",
    "            images = images.view(-1, 32*32*3).cuda()\n",
    "            labels = labels.cuda()\n",
    "            outputs = model(images)\n",
    "            loss = loss_function(outputs, labels)\n",
    "            total_loss += loss.item()\n",
    "\n",
    "    return total_loss / len(data_loader)\n",
    "\n",
    "def show_loss_through_epochs(arr_losses_train, arr_losses_test, arr_losses_val):\n",
    "    plt.plot(arr_losses_train, label = \"train loss\")\n",
    "    plt.plot(arr_losses_val, label = \"val loss\")\n",
    "    plt.plot(arr_losses_test, label = \"test loss\")\n",
    "    plt.xlabel(\"epoch\")\n",
    "    plt.ylabel(\"loss\")\n",
    "    plt.grid()\n",
    "    plt.legend()\n",
    "    return None\n",
    "\n",
    "def show_predictions(model, dataloader, num_samples):\n",
    "    model.eval()\n",
    "    correct_samples = []\n",
    "    wrong_samples = []\n",
    "\n",
    "    classes = ['airplane', 'automobile', 'bird', 'cat', 'deer',\n",
    "               'dog', 'frog', 'horse', 'ship', 'truck']\n",
    "    \n",
    "    with torch.no_grad():\n",
    "        for images, labels in dataloader:\n",
    "            original_images = images\n",
    "\n",
    "            images = images.view(-1, 32*32*3).cuda()\n",
    "            labels = labels.cuda()\n",
    "\n",
    "            outputs = model.forward(images)\n",
    "            _, predicted = torch.max(outputs.data, 1)\n",
    "\n",
    "            for i in range(len(labels)):\n",
    "                pred = predicted[i].cpu().item()\n",
    "                true = labels[i].cpu().item()\n",
    "                img = original_images[i]\n",
    "\n",
    "                if pred == true and len(correct_samples) < num_samples:\n",
    "                    correct_samples.append((img, pred, true))\n",
    "                elif pred != true and len(wrong_samples) < num_samples:\n",
    "                    wrong_samples.append((img, pred, true))\n",
    "\n",
    "                if len(correct_samples) >= num_samples and len(wrong_samples) >= num_samples:\n",
    "                    break\n",
    "\n",
    "    plt.figure(figsize=(24, 20))\n",
    "    \n",
    "    plt.subplot(1, 2, 1)\n",
    "    # acertos\n",
    "    for idx, (img, pred, true) in enumerate(correct_samples):\n",
    "        plt.subplot(2, num_samples, idx + 1)\n",
    "        img = img.permute(1, 2, 0)  \n",
    "        img = img * 0.5 + 0.5 \n",
    "        plt.imshow(img)\n",
    "        plt.title(f'Correto!\\nPred: {classes[pred]}\\nTrue: {classes[true]}')\n",
    "        plt.axis('off')\n",
    "\n",
    "    # erros\n",
    "    for idx, (img, pred, true) in enumerate(wrong_samples):\n",
    "        plt.subplot(2, num_samples, idx + num_samples + 1)\n",
    "        img = img.permute(1, 2, 0)\n",
    "        img = img * 0.5 + 0.5\n",
    "        plt.imshow(img)\n",
    "        plt.title(f'Erro!\\nPred: {classes[pred]}\\nTrue: {classes[true]}')\n",
    "        plt.axis('off')\n",
    "    \n",
    "    plt.tight_layout(h_pad=2)\n",
    "    plt.show()\n",
    "\n",
    "    return None\n",
    "\n",
    "def objective(trial):\n",
    "    global train_dataset_global, validation_dataset_global\n",
    "\n",
    "    activation_name = trial.suggest_categorical('activation', ['ReLU', 'Sigmoid', 'Tanh'])\n",
    "    activation_functions = {\n",
    "        'ReLU': nn.ReLU(),\n",
    "        'Sigmoid': nn.Sigmoid(),\n",
    "        'Tanh': nn.Tanh()\n",
    "    }\n",
    "    activation_function = activation_functions[activation_name]\n",
    "    learning_rate = trial.suggest_float('learning_rate', 1e-5, 1e-2, log=True)\n",
    "    batch_size = trial.suggest_int('batch_size', 32, 512)\n",
    "\n",
    "    # reg params\n",
    "    dropout_rate = trial.suggest_float('dropout_rate', 0.0, 0.5)\n",
    "    weight_decay = trial.suggest_float('weight_decay', 1e-5, 1e-2, log=True)\n",
    "    use_batch_norm = trial.suggest_categorical('use_batch_norm', [True, False])\n",
    "\n",
    "    n_layers = trial.suggest_int('n_layers', 2, 7)\n",
    "    hidden_layers = []\n",
    "    for i in range(n_layers):\n",
    "        n_units = trial.suggest_int(f'n_units_l{i}', 32, 256)\n",
    "        hidden_layers.append(n_units)\n",
    "\n",
    "    input_size = 32*32*3\n",
    "    num_classes = 10\n",
    "    loss_function = nn.CrossEntropyLoss()\n",
    "    \n",
    "    train_loader = torch.utils.data.DataLoader(\n",
    "        dataset=train_dataset_global, \n",
    "        batch_size=batch_size, \n",
    "        shuffle=True\n",
    "    )\n",
    "    val_loader = torch.utils.data.DataLoader(\n",
    "        dataset=validation_dataset_global, \n",
    "        batch_size=batch_size, \n",
    "        shuffle=False\n",
    "    )\n",
    "\n",
    "    model = MLP(\n",
    "        input_size=input_size,\n",
    "        hidden_layers=hidden_layers,\n",
    "        num_classes=num_classes,\n",
    "        activation_function=activation_function,\n",
    "        dropout_rate=dropout_rate,\n",
    "        use_batch_norm=use_batch_norm\n",
    "    ).cuda()\n",
    "    \n",
    "    optimizer = torch.optim.Adam(model.parameters(), lr=learning_rate, weight_decay=weight_decay)\n",
    "    \n",
    "    best_val_loss = float('inf')\n",
    "    patience = 7\n",
    "    patience_counter = 0\n",
    "    \n",
    "    for _ in range(50):\n",
    "        model.train()\n",
    "        for images, labels in train_loader:\n",
    "            images = images.view(-1, input_size).cuda()\n",
    "            labels = labels.cuda()\n",
    "            \n",
    "            optimizer.zero_grad()\n",
    "            outputs = model(images)\n",
    "            loss = loss_function(outputs, labels)\n",
    "            loss.backward()\n",
    "            optimizer.step()\n",
    "        \n",
    "        model.eval() # disable dropout just to validate\n",
    "        val_loss = evaluate_model(model, val_loader, loss_function)\n",
    "        \n",
    "        if val_loss < best_val_loss:\n",
    "            best_val_loss = val_loss\n",
    "            patience_counter = 0\n",
    "        else:\n",
    "            patience_counter += 1\n",
    "            \n",
    "        if patience_counter >= patience:\n",
    "            break\n",
    "    \n",
    "    return best_val_loss\n"
   ]
  },
  {
   "cell_type": "markdown",
   "id": "93b8922c",
   "metadata": {},
   "source": [
    "# Setup"
   ]
  },
  {
   "cell_type": "code",
   "execution_count": 29,
   "id": "25cc0de3",
   "metadata": {},
   "outputs": [],
   "source": [
    "transform_train = transforms.Compose([\n",
    "    transforms.RandomHorizontalFlip(p=0.5),\n",
    "    transforms.RandomRotation(degrees=10),\n",
    "    transforms.RandomCrop(32, padding=4),\n",
    "    transforms.ColorJitter(brightness=0.2, contrast=0.2, saturation=0.2, hue=0.1),\n",
    "    transforms.RandomAffine(degrees=0, translate=(0.1, 0.1)),\n",
    "    \n",
    "    transforms.ToTensor(),\n",
    "    transforms.Normalize(mean=[0.485, 0.456, 0.406], std=[0.229, 0.224, 0.225])  # ImageNet stats funciona melhor\n",
    "])\n",
    "\n",
    "# Transformação apenas para validação e teste (sem augmentation)\n",
    "transform_test = transforms.Compose([\n",
    "    transforms.ToTensor(),\n",
    "    transforms.Normalize(mean=[0.485, 0.456, 0.406], std=[0.229, 0.224, 0.225])\n",
    "])\n",
    "\n",
    "train_dataset = torchvision.datasets.CIFAR10(root='./data', train=True, download=True, transform=transform_train)\n",
    "test_dataset = torchvision.datasets.CIFAR10(root='./data', train=False, download=True, transform=transform_test)\n",
    "\n",
    "train_size = int(0.8 * len(train_dataset))\n",
    "val_size = len(train_dataset) - train_size\n",
    "\n",
    "train_dataset, validation_dataset = torch.utils.data.random_split(train_dataset, [train_size, val_size])\n",
    "\n",
    "validation_dataset.dataset.transform = transform_test"
   ]
  },
  {
   "cell_type": "code",
   "execution_count": 30,
   "id": "96dfadbb",
   "metadata": {},
   "outputs": [],
   "source": [
    "# just to run fast\n",
    "subset_sample      = 1000\n",
    "\n",
    "train_dataset      = torch.utils.data.Subset(train_dataset, range(subset_sample))\n",
    "validation_dataset = torch.utils.data.Subset(validation_dataset, range(subset_sample))\n",
    "test_dataset       = torch.utils.data.Subset(test_dataset, range(subset_sample))\n"
   ]
  },
  {
   "cell_type": "code",
   "execution_count": 31,
   "id": "2f802c05",
   "metadata": {},
   "outputs": [],
   "source": [
    "train_dataset_global = train_dataset\n",
    "validation_dataset_global = validation_dataset"
   ]
  },
  {
   "cell_type": "markdown",
   "id": "0ba4092f",
   "metadata": {},
   "source": [
    "# Def hyperparameters and Loaders"
   ]
  },
  {
   "cell_type": "code",
   "execution_count": 32,
   "id": "e3230a72",
   "metadata": {},
   "outputs": [],
   "source": [
    "loss_function       = nn.CrossEntropyLoss()"
   ]
  },
  {
   "cell_type": "markdown",
   "id": "d8bbd35e",
   "metadata": {},
   "source": [
    "# Main training Loop"
   ]
  },
  {
   "cell_type": "markdown",
   "id": "f0eb17a2",
   "metadata": {},
   "source": [
    "## Optuna optimization"
   ]
  },
  {
   "cell_type": "code",
   "execution_count": 33,
   "id": "b6ebca3b",
   "metadata": {},
   "outputs": [
    {
     "name": "stderr",
     "output_type": "stream",
     "text": [
      "[I 2025-06-14 20:52:43,039] A new study created in memory with name: no-name-02200b0b-18ba-4fb4-b92e-e957a63d3c87\n",
      "[I 2025-06-14 20:52:49,844] Trial 0 finished with value: 1.9557101845741272 and parameters: {'activation': 'ReLU', 'learning_rate': 2.2227431545257004e-05, 'batch_size': 106, 'dropout_rate': 0.26673198295449074, 'weight_decay': 0.0008087256148578417, 'use_batch_norm': False, 'n_layers': 2, 'n_units_l0': 185, 'n_units_l1': 34}. Best is trial 0 with value: 1.9557101845741272.\n"
     ]
    }
   ],
   "source": [
    "n_trials=1\n",
    "study = optuna.create_study(direction='minimize')\n",
    "study.optimize(objective, n_trials=n_trials)"
   ]
  },
  {
   "cell_type": "markdown",
   "id": "e5a09e96",
   "metadata": {},
   "source": [
    "## Best founded model"
   ]
  },
  {
   "cell_type": "code",
   "execution_count": 34,
   "id": "bb1b80e3",
   "metadata": {},
   "outputs": [
    {
     "data": {
      "text/plain": [
       "{'activation': 'ReLU',\n",
       " 'learning_rate': 2.2227431545257004e-05,\n",
       " 'batch_size': 106,\n",
       " 'dropout_rate': 0.26673198295449074,\n",
       " 'weight_decay': 0.0008087256148578417,\n",
       " 'use_batch_norm': False,\n",
       " 'n_layers': 2,\n",
       " 'n_units_l0': 185,\n",
       " 'n_units_l1': 34}"
      ]
     },
     "execution_count": 34,
     "metadata": {},
     "output_type": "execute_result"
    }
   ],
   "source": [
    "study.best_params"
   ]
  },
  {
   "cell_type": "code",
   "execution_count": 35,
   "id": "d2ae28a3",
   "metadata": {},
   "outputs": [],
   "source": [
    "hidden_layers = [study.best_params[f'n_units_l{i}'] for i in range(study.best_params['n_layers'])]\n",
    "\n",
    "activation_functions = {\n",
    "    'ReLU': nn.ReLU(),\n",
    "    'Sigmoid': nn.Sigmoid(),\n",
    "    'Tanh': nn.Tanh()\n",
    "}\n",
    "\n",
    "best_activation = activation_functions[study.best_params['activation']]\n",
    "\n",
    "# reg params\n",
    "dropout_rate=study.best_params['dropout_rate']\n",
    "use_batch_norm=study.best_params['use_batch_norm']\n",
    "\n",
    "train_loader = torch.utils.data.DataLoader(\n",
    "    dataset=train_dataset_global, \n",
    "    batch_size=study.best_params['batch_size'], \n",
    "    shuffle=True\n",
    ")\n",
    "val_loader = torch.utils.data.DataLoader(\n",
    "    dataset=validation_dataset_global, \n",
    "    batch_size=study.best_params['batch_size'], \n",
    "    shuffle=False\n",
    ")\n",
    "\n",
    "test_loader = torch.utils.data.DataLoader(\n",
    "    dataset=test_dataset, \n",
    "    batch_size=study.best_params['batch_size'], \n",
    "    shuffle=False\n",
    ")\n"
   ]
  },
  {
   "cell_type": "code",
   "execution_count": 36,
   "id": "b04aa267",
   "metadata": {},
   "outputs": [
    {
     "name": "stderr",
     "output_type": "stream",
     "text": [
      "  0%|          | 1/10000 [00:00<40:23,  4.13it/s]"
     ]
    },
    {
     "name": "stdout",
     "output_type": "stream",
     "text": [
      "Epoch 1:\n",
      "Train Loss: 2.3155\n",
      "Val Loss: 2.2861\n",
      "Test Loss: 2.2836\n"
     ]
    },
    {
     "name": "stderr",
     "output_type": "stream",
     "text": [
      "  0%|          | 2/10000 [00:00<36:49,  4.53it/s]"
     ]
    },
    {
     "name": "stdout",
     "output_type": "stream",
     "text": [
      "Epoch 2:\n",
      "Train Loss: 2.2950\n",
      "Val Loss: 2.2703\n",
      "Test Loss: 2.2657\n"
     ]
    },
    {
     "name": "stderr",
     "output_type": "stream",
     "text": [
      "  0%|          | 3/10000 [00:00<36:01,  4.62it/s]"
     ]
    },
    {
     "name": "stdout",
     "output_type": "stream",
     "text": [
      "Epoch 3:\n",
      "Train Loss: 2.2758\n",
      "Val Loss: 2.2555\n",
      "Test Loss: 2.2509\n"
     ]
    },
    {
     "name": "stderr",
     "output_type": "stream",
     "text": [
      "  0%|          | 4/10000 [00:00<35:18,  4.72it/s]"
     ]
    },
    {
     "name": "stdout",
     "output_type": "stream",
     "text": [
      "Epoch 4:\n",
      "Train Loss: 2.2609\n",
      "Val Loss: 2.2415\n",
      "Test Loss: 2.2371\n"
     ]
    },
    {
     "name": "stderr",
     "output_type": "stream",
     "text": [
      "  0%|          | 5/10000 [00:01<35:04,  4.75it/s]"
     ]
    },
    {
     "name": "stdout",
     "output_type": "stream",
     "text": [
      "Epoch 5:\n",
      "Train Loss: 2.2404\n",
      "Val Loss: 2.2281\n",
      "Test Loss: 2.2242\n"
     ]
    },
    {
     "name": "stderr",
     "output_type": "stream",
     "text": [
      "  0%|          | 6/10000 [00:01<35:00,  4.76it/s]"
     ]
    },
    {
     "name": "stdout",
     "output_type": "stream",
     "text": [
      "Epoch 6:\n",
      "Train Loss: 2.2315\n",
      "Val Loss: 2.2153\n",
      "Test Loss: 2.2114\n"
     ]
    },
    {
     "name": "stderr",
     "output_type": "stream",
     "text": [
      "  0%|          | 7/10000 [00:01<35:04,  4.75it/s]"
     ]
    },
    {
     "name": "stdout",
     "output_type": "stream",
     "text": [
      "Epoch 7:\n",
      "Train Loss: 2.2063\n",
      "Val Loss: 2.2037\n",
      "Test Loss: 2.1995\n"
     ]
    },
    {
     "name": "stderr",
     "output_type": "stream",
     "text": [
      "  0%|          | 8/10000 [00:01<34:49,  4.78it/s]"
     ]
    },
    {
     "name": "stdout",
     "output_type": "stream",
     "text": [
      "Epoch 8:\n",
      "Train Loss: 2.1908\n",
      "Val Loss: 2.1915\n",
      "Test Loss: 2.1870\n"
     ]
    },
    {
     "name": "stderr",
     "output_type": "stream",
     "text": [
      "  0%|          | 9/10000 [00:01<34:36,  4.81it/s]"
     ]
    },
    {
     "name": "stdout",
     "output_type": "stream",
     "text": [
      "Epoch 9:\n",
      "Train Loss: 2.1904\n",
      "Val Loss: 2.1806\n",
      "Test Loss: 2.1758\n"
     ]
    },
    {
     "name": "stderr",
     "output_type": "stream",
     "text": [
      "  0%|          | 10/10000 [00:02<34:45,  4.79it/s]"
     ]
    },
    {
     "name": "stdout",
     "output_type": "stream",
     "text": [
      "Epoch 10:\n",
      "Train Loss: 2.1724\n",
      "Val Loss: 2.1711\n",
      "Test Loss: 2.1660\n"
     ]
    },
    {
     "name": "stderr",
     "output_type": "stream",
     "text": [
      "  0%|          | 11/10000 [00:02<34:26,  4.83it/s]"
     ]
    },
    {
     "name": "stdout",
     "output_type": "stream",
     "text": [
      "Epoch 11:\n",
      "Train Loss: 2.1624\n",
      "Val Loss: 2.1625\n",
      "Test Loss: 2.1573\n"
     ]
    },
    {
     "name": "stderr",
     "output_type": "stream",
     "text": [
      "  0%|          | 12/10000 [00:02<35:47,  4.65it/s]"
     ]
    },
    {
     "name": "stdout",
     "output_type": "stream",
     "text": [
      "Epoch 12:\n",
      "Train Loss: 2.1457\n",
      "Val Loss: 2.1525\n",
      "Test Loss: 2.1476\n"
     ]
    },
    {
     "name": "stderr",
     "output_type": "stream",
     "text": [
      "  0%|          | 13/10000 [00:02<35:57,  4.63it/s]"
     ]
    },
    {
     "name": "stdout",
     "output_type": "stream",
     "text": [
      "Epoch 13:\n",
      "Train Loss: 2.1311\n",
      "Val Loss: 2.1427\n",
      "Test Loss: 2.1379\n"
     ]
    },
    {
     "name": "stderr",
     "output_type": "stream",
     "text": [
      "  0%|          | 14/10000 [00:03<37:33,  4.43it/s]"
     ]
    },
    {
     "name": "stdout",
     "output_type": "stream",
     "text": [
      "Epoch 14:\n",
      "Train Loss: 2.1340\n",
      "Val Loss: 2.1341\n",
      "Test Loss: 2.1292\n"
     ]
    },
    {
     "name": "stderr",
     "output_type": "stream",
     "text": [
      "                                                  "
     ]
    },
    {
     "name": "stdout",
     "output_type": "stream",
     "text": [
      "Epoch 15:\n",
      "Train Loss: 2.1236\n",
      "Val Loss: 2.1261\n",
      "Test Loss: 2.1212\n"
     ]
    },
    {
     "name": "stderr",
     "output_type": "stream",
     "text": [
      "  0%|          | 16/10000 [00:03<35:36,  4.67it/s]"
     ]
    },
    {
     "name": "stdout",
     "output_type": "stream",
     "text": [
      "Epoch 16:\n",
      "Train Loss: 2.1044\n",
      "Val Loss: 2.1191\n",
      "Test Loss: 2.1140\n",
      "Epoch 17:\n"
     ]
    },
    {
     "name": "stderr",
     "output_type": "stream",
     "text": [
      "                                                  \r"
     ]
    },
    {
     "name": "stdout",
     "output_type": "stream",
     "text": [
      "Train Loss: 2.0876\n",
      "Val Loss: 2.1107\n",
      "Test Loss: 2.1055\n"
     ]
    },
    {
     "name": "stderr",
     "output_type": "stream",
     "text": [
      "  0%|          | 18/10000 [00:03<34:27,  4.83it/s]"
     ]
    },
    {
     "name": "stdout",
     "output_type": "stream",
     "text": [
      "Epoch 18:\n",
      "Train Loss: 2.0709\n",
      "Val Loss: 2.1026\n",
      "Test Loss: 2.0969\n"
     ]
    },
    {
     "name": "stderr",
     "output_type": "stream",
     "text": [
      "  0%|          | 19/10000 [00:04<34:21,  4.84it/s]"
     ]
    },
    {
     "name": "stdout",
     "output_type": "stream",
     "text": [
      "Epoch 19:\n",
      "Train Loss: 2.0578\n",
      "Val Loss: 2.0943\n",
      "Test Loss: 2.0888\n"
     ]
    },
    {
     "name": "stderr",
     "output_type": "stream",
     "text": [
      "  0%|          | 20/10000 [00:04<34:05,  4.88it/s]"
     ]
    },
    {
     "name": "stdout",
     "output_type": "stream",
     "text": [
      "Epoch 20:\n",
      "Train Loss: 2.0588\n",
      "Val Loss: 2.0861\n",
      "Test Loss: 2.0806\n"
     ]
    },
    {
     "name": "stderr",
     "output_type": "stream",
     "text": [
      "  0%|          | 21/10000 [00:04<34:03,  4.88it/s]"
     ]
    },
    {
     "name": "stdout",
     "output_type": "stream",
     "text": [
      "Epoch 21:\n",
      "Train Loss: 2.0433\n",
      "Val Loss: 2.0780\n",
      "Test Loss: 2.0723\n"
     ]
    },
    {
     "name": "stderr",
     "output_type": "stream",
     "text": [
      "  0%|          | 22/10000 [00:04<34:22,  4.84it/s]"
     ]
    },
    {
     "name": "stdout",
     "output_type": "stream",
     "text": [
      "Epoch 22:\n",
      "Train Loss: 2.0293\n",
      "Val Loss: 2.0703\n",
      "Test Loss: 2.0649\n"
     ]
    },
    {
     "name": "stderr",
     "output_type": "stream",
     "text": [
      "  0%|          | 23/10000 [00:04<34:15,  4.85it/s]"
     ]
    },
    {
     "name": "stdout",
     "output_type": "stream",
     "text": [
      "Epoch 23:\n",
      "Train Loss: 2.0133\n",
      "Val Loss: 2.0630\n",
      "Test Loss: 2.0578\n"
     ]
    },
    {
     "name": "stderr",
     "output_type": "stream",
     "text": [
      "  0%|          | 24/10000 [00:05<34:04,  4.88it/s]"
     ]
    },
    {
     "name": "stdout",
     "output_type": "stream",
     "text": [
      "Epoch 24:\n",
      "Train Loss: 2.0131\n",
      "Val Loss: 2.0558\n",
      "Test Loss: 2.0510\n"
     ]
    },
    {
     "name": "stderr",
     "output_type": "stream",
     "text": [
      "  0%|          | 25/10000 [00:05<33:58,  4.89it/s]"
     ]
    },
    {
     "name": "stdout",
     "output_type": "stream",
     "text": [
      "Epoch 25:\n",
      "Train Loss: 2.0022\n",
      "Val Loss: 2.0480\n",
      "Test Loss: 2.0445\n"
     ]
    },
    {
     "name": "stderr",
     "output_type": "stream",
     "text": [
      "  0%|          | 26/10000 [00:05<33:53,  4.90it/s]"
     ]
    },
    {
     "name": "stdout",
     "output_type": "stream",
     "text": [
      "Epoch 26:\n",
      "Train Loss: 1.9848\n",
      "Val Loss: 2.0412\n",
      "Test Loss: 2.0379\n"
     ]
    },
    {
     "name": "stderr",
     "output_type": "stream",
     "text": [
      "  0%|          | 27/10000 [00:05<34:00,  4.89it/s]"
     ]
    },
    {
     "name": "stdout",
     "output_type": "stream",
     "text": [
      "Epoch 27:\n",
      "Train Loss: 1.9895\n",
      "Val Loss: 2.0348\n",
      "Test Loss: 2.0317\n"
     ]
    },
    {
     "name": "stderr",
     "output_type": "stream",
     "text": [
      "  0%|          | 28/10000 [00:05<33:59,  4.89it/s]"
     ]
    },
    {
     "name": "stdout",
     "output_type": "stream",
     "text": [
      "Epoch 28:\n",
      "Train Loss: 1.9843\n",
      "Val Loss: 2.0297\n",
      "Test Loss: 2.0269\n"
     ]
    },
    {
     "name": "stderr",
     "output_type": "stream",
     "text": [
      "  0%|          | 29/10000 [00:06<33:49,  4.91it/s]"
     ]
    },
    {
     "name": "stdout",
     "output_type": "stream",
     "text": [
      "Epoch 29:\n",
      "Train Loss: 1.9516\n",
      "Val Loss: 2.0231\n",
      "Test Loss: 2.0210\n"
     ]
    },
    {
     "name": "stderr",
     "output_type": "stream",
     "text": [
      "  0%|          | 30/10000 [00:06<33:53,  4.90it/s]"
     ]
    },
    {
     "name": "stdout",
     "output_type": "stream",
     "text": [
      "Epoch 30:\n",
      "Train Loss: 1.9434\n",
      "Val Loss: 2.0164\n",
      "Test Loss: 2.0144\n"
     ]
    },
    {
     "name": "stderr",
     "output_type": "stream",
     "text": [
      "  0%|          | 31/10000 [00:06<34:00,  4.89it/s]"
     ]
    },
    {
     "name": "stdout",
     "output_type": "stream",
     "text": [
      "Epoch 31:\n",
      "Train Loss: 1.9311\n",
      "Val Loss: 2.0085\n",
      "Test Loss: 2.0076\n"
     ]
    },
    {
     "name": "stderr",
     "output_type": "stream",
     "text": [
      "  0%|          | 32/10000 [00:06<33:52,  4.90it/s]"
     ]
    },
    {
     "name": "stdout",
     "output_type": "stream",
     "text": [
      "Epoch 32:\n",
      "Train Loss: 1.9258\n",
      "Val Loss: 2.0020\n",
      "Test Loss: 2.0021\n"
     ]
    },
    {
     "name": "stderr",
     "output_type": "stream",
     "text": [
      "  0%|          | 33/10000 [00:06<33:59,  4.89it/s]"
     ]
    },
    {
     "name": "stdout",
     "output_type": "stream",
     "text": [
      "Epoch 33:\n",
      "Train Loss: 1.9335\n",
      "Val Loss: 1.9970\n",
      "Test Loss: 1.9975\n"
     ]
    },
    {
     "name": "stderr",
     "output_type": "stream",
     "text": [
      "  0%|          | 34/10000 [00:07<33:45,  4.92it/s]"
     ]
    },
    {
     "name": "stdout",
     "output_type": "stream",
     "text": [
      "Epoch 34:\n",
      "Train Loss: 1.9167\n",
      "Val Loss: 1.9928\n",
      "Test Loss: 1.9927\n"
     ]
    },
    {
     "name": "stderr",
     "output_type": "stream",
     "text": [
      "  0%|          | 35/10000 [00:07<33:50,  4.91it/s]"
     ]
    },
    {
     "name": "stdout",
     "output_type": "stream",
     "text": [
      "Epoch 35:\n",
      "Train Loss: 1.8990\n",
      "Val Loss: 1.9887\n",
      "Test Loss: 1.9884\n"
     ]
    },
    {
     "name": "stderr",
     "output_type": "stream",
     "text": [
      "  0%|          | 36/10000 [00:07<33:46,  4.92it/s]"
     ]
    },
    {
     "name": "stdout",
     "output_type": "stream",
     "text": [
      "Epoch 36:\n",
      "Train Loss: 1.8873\n",
      "Val Loss: 1.9827\n",
      "Test Loss: 1.9837\n"
     ]
    },
    {
     "name": "stderr",
     "output_type": "stream",
     "text": [
      "  0%|          | 37/10000 [00:07<33:58,  4.89it/s]"
     ]
    },
    {
     "name": "stdout",
     "output_type": "stream",
     "text": [
      "Epoch 37:\n",
      "Train Loss: 1.8871\n",
      "Val Loss: 1.9764\n",
      "Test Loss: 1.9787\n"
     ]
    },
    {
     "name": "stderr",
     "output_type": "stream",
     "text": [
      "  0%|          | 38/10000 [00:07<34:16,  4.84it/s]"
     ]
    },
    {
     "name": "stdout",
     "output_type": "stream",
     "text": [
      "Epoch 38:\n",
      "Train Loss: 1.8864\n",
      "Val Loss: 1.9707\n",
      "Test Loss: 1.9741\n"
     ]
    },
    {
     "name": "stderr",
     "output_type": "stream",
     "text": [
      "  0%|          | 39/10000 [00:08<34:11,  4.85it/s]"
     ]
    },
    {
     "name": "stdout",
     "output_type": "stream",
     "text": [
      "Epoch 39:\n",
      "Train Loss: 1.8796\n",
      "Val Loss: 1.9660\n",
      "Test Loss: 1.9705\n"
     ]
    },
    {
     "name": "stderr",
     "output_type": "stream",
     "text": [
      "  0%|          | 40/10000 [00:08<34:13,  4.85it/s]"
     ]
    },
    {
     "name": "stdout",
     "output_type": "stream",
     "text": [
      "Epoch 40:\n",
      "Train Loss: 1.8478\n",
      "Val Loss: 1.9623\n",
      "Test Loss: 1.9658\n"
     ]
    },
    {
     "name": "stderr",
     "output_type": "stream",
     "text": [
      "  0%|          | 41/10000 [00:08<34:19,  4.84it/s]"
     ]
    },
    {
     "name": "stdout",
     "output_type": "stream",
     "text": [
      "Epoch 41:\n",
      "Train Loss: 1.8545\n",
      "Val Loss: 1.9579\n",
      "Test Loss: 1.9616\n"
     ]
    },
    {
     "name": "stderr",
     "output_type": "stream",
     "text": [
      "  0%|          | 42/10000 [00:08<34:15,  4.85it/s]"
     ]
    },
    {
     "name": "stdout",
     "output_type": "stream",
     "text": [
      "Epoch 42:\n",
      "Train Loss: 1.8430\n",
      "Val Loss: 1.9539\n",
      "Test Loss: 1.9571\n"
     ]
    },
    {
     "name": "stderr",
     "output_type": "stream",
     "text": [
      "  0%|          | 43/10000 [00:08<34:10,  4.86it/s]"
     ]
    },
    {
     "name": "stdout",
     "output_type": "stream",
     "text": [
      "Epoch 43:\n",
      "Train Loss: 1.8392\n",
      "Val Loss: 1.9498\n",
      "Test Loss: 1.9530\n"
     ]
    },
    {
     "name": "stderr",
     "output_type": "stream",
     "text": [
      "  0%|          | 44/10000 [00:09<34:04,  4.87it/s]"
     ]
    },
    {
     "name": "stdout",
     "output_type": "stream",
     "text": [
      "Epoch 44:\n",
      "Train Loss: 1.8280\n",
      "Val Loss: 1.9459\n",
      "Test Loss: 1.9496\n",
      "Epoch 45:\n"
     ]
    },
    {
     "name": "stderr",
     "output_type": "stream",
     "text": [
      "  0%|          | 45/10000 [00:09<33:48,  4.91it/s]"
     ]
    },
    {
     "name": "stdout",
     "output_type": "stream",
     "text": [
      "Train Loss: 1.8238\n",
      "Val Loss: 1.9434\n",
      "Test Loss: 1.9470\n"
     ]
    },
    {
     "name": "stderr",
     "output_type": "stream",
     "text": [
      "  0%|          | 46/10000 [00:09<34:13,  4.85it/s]"
     ]
    },
    {
     "name": "stdout",
     "output_type": "stream",
     "text": [
      "Epoch 46:\n",
      "Train Loss: 1.8320\n",
      "Val Loss: 1.9381\n",
      "Test Loss: 1.9428\n"
     ]
    },
    {
     "name": "stderr",
     "output_type": "stream",
     "text": [
      "  0%|          | 47/10000 [00:09<34:36,  4.79it/s]"
     ]
    },
    {
     "name": "stdout",
     "output_type": "stream",
     "text": [
      "Epoch 47:\n",
      "Train Loss: 1.8043\n",
      "Val Loss: 1.9333\n",
      "Test Loss: 1.9392\n"
     ]
    },
    {
     "name": "stderr",
     "output_type": "stream",
     "text": [
      "  0%|          | 48/10000 [00:09<34:21,  4.83it/s]"
     ]
    },
    {
     "name": "stdout",
     "output_type": "stream",
     "text": [
      "Epoch 48:\n",
      "Train Loss: 1.7917\n",
      "Val Loss: 1.9292\n",
      "Test Loss: 1.9352\n"
     ]
    },
    {
     "name": "stderr",
     "output_type": "stream",
     "text": [
      "                                                  "
     ]
    },
    {
     "name": "stdout",
     "output_type": "stream",
     "text": [
      "Epoch 49:\n",
      "Train Loss: 1.8150\n",
      "Val Loss: 1.9253\n",
      "Test Loss: 1.9314\n"
     ]
    },
    {
     "name": "stderr",
     "output_type": "stream",
     "text": [
      "  0%|          | 50/10000 [00:10<33:50,  4.90it/s]"
     ]
    },
    {
     "name": "stdout",
     "output_type": "stream",
     "text": [
      "Epoch 50:\n",
      "Train Loss: 1.7930\n",
      "Val Loss: 1.9212\n",
      "Test Loss: 1.9286\n"
     ]
    },
    {
     "name": "stderr",
     "output_type": "stream",
     "text": [
      "  1%|          | 51/10000 [00:10<33:44,  4.92it/s]"
     ]
    },
    {
     "name": "stdout",
     "output_type": "stream",
     "text": [
      "Epoch 51:\n",
      "Train Loss: 1.7690\n",
      "Val Loss: 1.9183\n",
      "Test Loss: 1.9264\n"
     ]
    },
    {
     "name": "stderr",
     "output_type": "stream",
     "text": [
      "  1%|          | 52/10000 [00:10<34:00,  4.87it/s]"
     ]
    },
    {
     "name": "stdout",
     "output_type": "stream",
     "text": [
      "Epoch 52:\n",
      "Train Loss: 1.7914\n",
      "Val Loss: 1.9158\n",
      "Test Loss: 1.9223\n"
     ]
    },
    {
     "name": "stderr",
     "output_type": "stream",
     "text": [
      "  1%|          | 53/10000 [00:10<33:59,  4.88it/s]"
     ]
    },
    {
     "name": "stdout",
     "output_type": "stream",
     "text": [
      "Epoch 53:\n",
      "Train Loss: 1.7555\n",
      "Val Loss: 1.9110\n",
      "Test Loss: 1.9180\n"
     ]
    },
    {
     "name": "stderr",
     "output_type": "stream",
     "text": [
      "  1%|          | 54/10000 [00:11<34:15,  4.84it/s]"
     ]
    },
    {
     "name": "stdout",
     "output_type": "stream",
     "text": [
      "Epoch 54:\n",
      "Train Loss: 1.7427\n",
      "Val Loss: 1.9077\n",
      "Test Loss: 1.9143\n"
     ]
    },
    {
     "name": "stderr",
     "output_type": "stream",
     "text": [
      "  1%|          | 55/10000 [00:11<33:57,  4.88it/s]"
     ]
    },
    {
     "name": "stdout",
     "output_type": "stream",
     "text": [
      "Epoch 55:\n",
      "Train Loss: 1.7658\n",
      "Val Loss: 1.9056\n",
      "Test Loss: 1.9113\n"
     ]
    },
    {
     "name": "stderr",
     "output_type": "stream",
     "text": [
      "  1%|          | 56/10000 [00:11<33:54,  4.89it/s]"
     ]
    },
    {
     "name": "stdout",
     "output_type": "stream",
     "text": [
      "Epoch 56:\n",
      "Train Loss: 1.7608\n",
      "Val Loss: 1.9044\n",
      "Test Loss: 1.9096\n",
      "Epoch 57:\n"
     ]
    },
    {
     "name": "stderr",
     "output_type": "stream",
     "text": [
      "  1%|          | 57/10000 [00:11<33:42,  4.92it/s]"
     ]
    },
    {
     "name": "stdout",
     "output_type": "stream",
     "text": [
      "Train Loss: 1.7488\n",
      "Val Loss: 1.9018\n",
      "Test Loss: 1.9068\n"
     ]
    },
    {
     "name": "stderr",
     "output_type": "stream",
     "text": [
      "  1%|          | 58/10000 [00:12<33:39,  4.92it/s]"
     ]
    },
    {
     "name": "stdout",
     "output_type": "stream",
     "text": [
      "Epoch 58:\n",
      "Train Loss: 1.7371\n",
      "Val Loss: 1.8992\n",
      "Test Loss: 1.9040\n"
     ]
    },
    {
     "name": "stderr",
     "output_type": "stream",
     "text": [
      "  1%|          | 59/10000 [00:12<33:39,  4.92it/s]"
     ]
    },
    {
     "name": "stdout",
     "output_type": "stream",
     "text": [
      "Epoch 59:\n",
      "Train Loss: 1.7305\n",
      "Val Loss: 1.8959\n",
      "Test Loss: 1.9009\n"
     ]
    },
    {
     "name": "stderr",
     "output_type": "stream",
     "text": [
      "  1%|          | 60/10000 [00:12<34:06,  4.86it/s]"
     ]
    },
    {
     "name": "stdout",
     "output_type": "stream",
     "text": [
      "Epoch 60:\n",
      "Train Loss: 1.7279\n",
      "Val Loss: 1.8912\n",
      "Test Loss: 1.8973\n"
     ]
    },
    {
     "name": "stderr",
     "output_type": "stream",
     "text": [
      "                                                  "
     ]
    },
    {
     "name": "stdout",
     "output_type": "stream",
     "text": [
      "Epoch 61:\n",
      "Train Loss: 1.7154\n",
      "Val Loss: 1.8873\n",
      "Test Loss: 1.8944\n"
     ]
    },
    {
     "name": "stderr",
     "output_type": "stream",
     "text": [
      "  1%|          | 63/10000 [00:13<33:10,  4.99it/s]"
     ]
    },
    {
     "name": "stdout",
     "output_type": "stream",
     "text": [
      "Epoch 62:\n",
      "Train Loss: 1.7202\n",
      "Val Loss: 1.8864\n",
      "Test Loss: 1.8929\n",
      "Epoch 63:\n",
      "Train Loss: 1.7078\n",
      "Val Loss: 1.8852\n",
      "Test Loss: 1.8911\n"
     ]
    },
    {
     "name": "stderr",
     "output_type": "stream",
     "text": [
      "  1%|          | 65/10000 [00:13<32:34,  5.08it/s]"
     ]
    },
    {
     "name": "stdout",
     "output_type": "stream",
     "text": [
      "Epoch 64:\n",
      "Train Loss: 1.6985\n",
      "Val Loss: 1.8827\n",
      "Test Loss: 1.8872\n",
      "Epoch 65:\n",
      "Train Loss: 1.6926\n",
      "Val Loss: 1.8781\n",
      "Test Loss: 1.8840\n"
     ]
    },
    {
     "name": "stderr",
     "output_type": "stream",
     "text": [
      "  1%|          | 67/10000 [00:13<32:26,  5.10it/s]"
     ]
    },
    {
     "name": "stdout",
     "output_type": "stream",
     "text": [
      "Epoch 66:\n",
      "Train Loss: 1.6813\n",
      "Val Loss: 1.8753\n",
      "Test Loss: 1.8830\n",
      "Epoch 67:\n",
      "Train Loss: 1.6626\n",
      "Val Loss: 1.8724\n",
      "Test Loss: 1.8809\n"
     ]
    },
    {
     "name": "stderr",
     "output_type": "stream",
     "text": [
      "  1%|          | 69/10000 [00:14<32:18,  5.12it/s]"
     ]
    },
    {
     "name": "stdout",
     "output_type": "stream",
     "text": [
      "Epoch 68:\n",
      "Train Loss: 1.6719\n",
      "Val Loss: 1.8718\n",
      "Test Loss: 1.8788\n",
      "Epoch 69:\n",
      "Train Loss: 1.6518\n",
      "Val Loss: 1.8711\n",
      "Test Loss: 1.8759\n"
     ]
    },
    {
     "name": "stderr",
     "output_type": "stream",
     "text": [
      "  1%|          | 71/10000 [00:14<31:59,  5.17it/s]"
     ]
    },
    {
     "name": "stdout",
     "output_type": "stream",
     "text": [
      "Epoch 70:\n",
      "Train Loss: 1.6464\n",
      "Val Loss: 1.8686\n",
      "Test Loss: 1.8732\n",
      "Epoch 71:\n",
      "Train Loss: 1.6661\n",
      "Val Loss: 1.8669\n",
      "Test Loss: 1.8716\n"
     ]
    },
    {
     "name": "stderr",
     "output_type": "stream",
     "text": [
      "  1%|          | 73/10000 [00:14<32:38,  5.07it/s]"
     ]
    },
    {
     "name": "stdout",
     "output_type": "stream",
     "text": [
      "Epoch 72:\n",
      "Train Loss: 1.6530\n",
      "Val Loss: 1.8665\n",
      "Test Loss: 1.8707\n",
      "Epoch 73:\n",
      "Train Loss: 1.6518\n",
      "Val Loss: 1.8659\n",
      "Test Loss: 1.8701\n"
     ]
    },
    {
     "name": "stderr",
     "output_type": "stream",
     "text": [
      "  1%|          | 75/10000 [00:15<32:14,  5.13it/s]"
     ]
    },
    {
     "name": "stdout",
     "output_type": "stream",
     "text": [
      "Epoch 74:\n",
      "Train Loss: 1.6377\n",
      "Val Loss: 1.8623\n",
      "Test Loss: 1.8673\n",
      "Epoch 75:\n",
      "Train Loss: 1.6310\n",
      "Val Loss: 1.8586\n",
      "Test Loss: 1.8648\n"
     ]
    },
    {
     "name": "stderr",
     "output_type": "stream",
     "text": [
      "  1%|          | 77/10000 [00:15<31:59,  5.17it/s]"
     ]
    },
    {
     "name": "stdout",
     "output_type": "stream",
     "text": [
      "Epoch 76:\n",
      "Train Loss: 1.6227\n",
      "Val Loss: 1.8560\n",
      "Test Loss: 1.8630\n",
      "Epoch 77:\n",
      "Train Loss: 1.6153\n",
      "Val Loss: 1.8536\n",
      "Test Loss: 1.8604\n"
     ]
    },
    {
     "name": "stderr",
     "output_type": "stream",
     "text": [
      "  1%|          | 79/10000 [00:16<31:41,  5.22it/s]"
     ]
    },
    {
     "name": "stdout",
     "output_type": "stream",
     "text": [
      "Epoch 78:\n",
      "Train Loss: 1.6030\n",
      "Val Loss: 1.8517\n",
      "Test Loss: 1.8585\n",
      "Epoch 79:\n",
      "Train Loss: 1.5930\n",
      "Val Loss: 1.8498\n",
      "Test Loss: 1.8562\n"
     ]
    },
    {
     "name": "stderr",
     "output_type": "stream",
     "text": [
      "  1%|          | 81/10000 [00:16<31:40,  5.22it/s]"
     ]
    },
    {
     "name": "stdout",
     "output_type": "stream",
     "text": [
      "Epoch 80:\n",
      "Train Loss: 1.6216\n",
      "Val Loss: 1.8484\n",
      "Test Loss: 1.8555\n",
      "Epoch 81:\n",
      "Train Loss: 1.6287\n",
      "Val Loss: 1.8469\n",
      "Test Loss: 1.8547\n"
     ]
    },
    {
     "name": "stderr",
     "output_type": "stream",
     "text": [
      "  1%|          | 83/10000 [00:16<31:40,  5.22it/s]"
     ]
    },
    {
     "name": "stdout",
     "output_type": "stream",
     "text": [
      "Epoch 82:\n",
      "Train Loss: 1.5977\n",
      "Val Loss: 1.8458\n",
      "Test Loss: 1.8543\n",
      "Epoch 83:\n",
      "Train Loss: 1.5872\n",
      "Val Loss: 1.8438\n",
      "Test Loss: 1.8530\n"
     ]
    },
    {
     "name": "stderr",
     "output_type": "stream",
     "text": [
      "  1%|          | 85/10000 [00:17<31:39,  5.22it/s]"
     ]
    },
    {
     "name": "stdout",
     "output_type": "stream",
     "text": [
      "Epoch 84:\n",
      "Train Loss: 1.5890\n",
      "Val Loss: 1.8433\n",
      "Test Loss: 1.8522\n",
      "Epoch 85:\n",
      "Train Loss: 1.5856\n",
      "Val Loss: 1.8418\n",
      "Test Loss: 1.8501\n"
     ]
    },
    {
     "name": "stderr",
     "output_type": "stream",
     "text": [
      "  1%|          | 87/10000 [00:17<31:40,  5.22it/s]"
     ]
    },
    {
     "name": "stdout",
     "output_type": "stream",
     "text": [
      "Epoch 86:\n",
      "Train Loss: 1.5577\n",
      "Val Loss: 1.8400\n",
      "Test Loss: 1.8476\n",
      "Epoch 87:\n",
      "Train Loss: 1.5647\n",
      "Val Loss: 1.8384\n",
      "Test Loss: 1.8456\n"
     ]
    },
    {
     "name": "stderr",
     "output_type": "stream",
     "text": [
      "  1%|          | 89/10000 [00:18<31:32,  5.24it/s]"
     ]
    },
    {
     "name": "stdout",
     "output_type": "stream",
     "text": [
      "Epoch 88:\n",
      "Train Loss: 1.5433\n",
      "Val Loss: 1.8377\n",
      "Test Loss: 1.8441\n",
      "Epoch 89:\n",
      "Train Loss: 1.5633\n",
      "Val Loss: 1.8387\n",
      "Test Loss: 1.8439\n"
     ]
    },
    {
     "name": "stderr",
     "output_type": "stream",
     "text": [
      "  1%|          | 91/10000 [00:18<31:37,  5.22it/s]"
     ]
    },
    {
     "name": "stdout",
     "output_type": "stream",
     "text": [
      "Epoch 90:\n",
      "Train Loss: 1.5687\n",
      "Val Loss: 1.8377\n",
      "Test Loss: 1.8433\n",
      "Epoch 91:\n",
      "Train Loss: 1.5521\n",
      "Val Loss: 1.8374\n",
      "Test Loss: 1.8420\n"
     ]
    },
    {
     "name": "stderr",
     "output_type": "stream",
     "text": [
      "  1%|          | 93/10000 [00:18<31:40,  5.21it/s]"
     ]
    },
    {
     "name": "stdout",
     "output_type": "stream",
     "text": [
      "Epoch 92:\n",
      "Train Loss: 1.5446\n",
      "Val Loss: 1.8358\n",
      "Test Loss: 1.8409\n",
      "Epoch 93:\n",
      "Train Loss: 1.5327\n",
      "Val Loss: 1.8345\n",
      "Test Loss: 1.8394\n"
     ]
    },
    {
     "name": "stderr",
     "output_type": "stream",
     "text": [
      "  1%|          | 95/10000 [00:19<31:31,  5.24it/s]"
     ]
    },
    {
     "name": "stdout",
     "output_type": "stream",
     "text": [
      "Epoch 94:\n",
      "Train Loss: 1.5425\n",
      "Val Loss: 1.8330\n",
      "Test Loss: 1.8370\n",
      "Epoch 95:\n",
      "Train Loss: 1.5236\n",
      "Val Loss: 1.8326\n",
      "Test Loss: 1.8366\n"
     ]
    },
    {
     "name": "stderr",
     "output_type": "stream",
     "text": [
      "  1%|          | 97/10000 [00:19<31:31,  5.24it/s]"
     ]
    },
    {
     "name": "stdout",
     "output_type": "stream",
     "text": [
      "Epoch 96:\n",
      "Train Loss: 1.5006\n",
      "Val Loss: 1.8307\n",
      "Test Loss: 1.8354\n",
      "Epoch 97:\n",
      "Train Loss: 1.5217\n",
      "Val Loss: 1.8283\n",
      "Test Loss: 1.8338\n"
     ]
    },
    {
     "name": "stderr",
     "output_type": "stream",
     "text": [
      "  1%|          | 99/10000 [00:19<31:27,  5.25it/s]"
     ]
    },
    {
     "name": "stdout",
     "output_type": "stream",
     "text": [
      "Epoch 98:\n",
      "Train Loss: 1.5092\n",
      "Val Loss: 1.8269\n",
      "Test Loss: 1.8328\n",
      "Epoch 99:\n",
      "Train Loss: 1.5173\n",
      "Val Loss: 1.8265\n",
      "Test Loss: 1.8323\n"
     ]
    },
    {
     "name": "stderr",
     "output_type": "stream",
     "text": [
      "  1%|          | 101/10000 [00:20<31:26,  5.25it/s]"
     ]
    },
    {
     "name": "stdout",
     "output_type": "stream",
     "text": [
      "Epoch 100:\n",
      "Train Loss: 1.5164\n",
      "Val Loss: 1.8261\n",
      "Test Loss: 1.8318\n",
      "Epoch 101:\n",
      "Train Loss: 1.4945\n",
      "Val Loss: 1.8261\n",
      "Test Loss: 1.8309\n"
     ]
    },
    {
     "name": "stderr",
     "output_type": "stream",
     "text": [
      "  1%|          | 103/10000 [00:20<31:38,  5.21it/s]"
     ]
    },
    {
     "name": "stdout",
     "output_type": "stream",
     "text": [
      "Epoch 102:\n",
      "Train Loss: 1.5076\n",
      "Val Loss: 1.8246\n",
      "Test Loss: 1.8295\n",
      "Epoch 103:\n",
      "Train Loss: 1.4846\n",
      "Val Loss: 1.8228\n",
      "Test Loss: 1.8279\n"
     ]
    },
    {
     "name": "stderr",
     "output_type": "stream",
     "text": [
      "  1%|          | 105/10000 [00:21<31:49,  5.18it/s]"
     ]
    },
    {
     "name": "stdout",
     "output_type": "stream",
     "text": [
      "Epoch 104:\n",
      "Train Loss: 1.4798\n",
      "Val Loss: 1.8202\n",
      "Test Loss: 1.8254\n",
      "Epoch 105:\n",
      "Train Loss: 1.4765\n",
      "Val Loss: 1.8186\n",
      "Test Loss: 1.8243\n"
     ]
    },
    {
     "name": "stderr",
     "output_type": "stream",
     "text": [
      "  1%|          | 107/10000 [00:21<31:59,  5.15it/s]"
     ]
    },
    {
     "name": "stdout",
     "output_type": "stream",
     "text": [
      "Epoch 106:\n",
      "Train Loss: 1.4832\n",
      "Val Loss: 1.8192\n",
      "Test Loss: 1.8246\n",
      "Epoch 107:\n",
      "Train Loss: 1.4490\n",
      "Val Loss: 1.8189\n",
      "Test Loss: 1.8236\n"
     ]
    },
    {
     "name": "stderr",
     "output_type": "stream",
     "text": [
      "  1%|          | 109/10000 [00:21<31:53,  5.17it/s]"
     ]
    },
    {
     "name": "stdout",
     "output_type": "stream",
     "text": [
      "Epoch 108:\n",
      "Train Loss: 1.4883\n",
      "Val Loss: 1.8184\n",
      "Test Loss: 1.8218\n",
      "Epoch 109:\n",
      "Train Loss: 1.4569\n",
      "Val Loss: 1.8176\n",
      "Test Loss: 1.8216\n"
     ]
    },
    {
     "name": "stderr",
     "output_type": "stream",
     "text": [
      "  1%|          | 111/10000 [00:22<31:56,  5.16it/s]"
     ]
    },
    {
     "name": "stdout",
     "output_type": "stream",
     "text": [
      "Epoch 110:\n",
      "Train Loss: 1.4494\n",
      "Val Loss: 1.8169\n",
      "Test Loss: 1.8207\n",
      "Epoch 111:\n",
      "Train Loss: 1.4625\n",
      "Val Loss: 1.8173\n",
      "Test Loss: 1.8208\n"
     ]
    },
    {
     "name": "stderr",
     "output_type": "stream",
     "text": [
      "  1%|          | 113/10000 [00:22<31:49,  5.18it/s]"
     ]
    },
    {
     "name": "stdout",
     "output_type": "stream",
     "text": [
      "Epoch 112:\n",
      "Train Loss: 1.4413\n",
      "Val Loss: 1.8151\n",
      "Test Loss: 1.8197\n",
      "Epoch 113:\n",
      "Train Loss: 1.4489\n",
      "Val Loss: 1.8139\n",
      "Test Loss: 1.8194\n"
     ]
    },
    {
     "name": "stderr",
     "output_type": "stream",
     "text": [
      "  1%|          | 115/10000 [00:23<32:15,  5.11it/s]"
     ]
    },
    {
     "name": "stdout",
     "output_type": "stream",
     "text": [
      "Epoch 114:\n",
      "Train Loss: 1.4168\n",
      "Val Loss: 1.8119\n",
      "Test Loss: 1.8182\n",
      "Epoch 115:\n",
      "Train Loss: 1.4179\n",
      "Val Loss: 1.8101\n",
      "Test Loss: 1.8170\n"
     ]
    },
    {
     "name": "stderr",
     "output_type": "stream",
     "text": [
      "  1%|          | 117/10000 [00:23<32:00,  5.15it/s]"
     ]
    },
    {
     "name": "stdout",
     "output_type": "stream",
     "text": [
      "Epoch 116:\n",
      "Train Loss: 1.4267\n",
      "Val Loss: 1.8105\n",
      "Test Loss: 1.8159\n",
      "Epoch 117:\n",
      "Train Loss: 1.3926\n",
      "Val Loss: 1.8092\n",
      "Test Loss: 1.8148\n"
     ]
    },
    {
     "name": "stderr",
     "output_type": "stream",
     "text": [
      "  1%|          | 119/10000 [00:23<31:50,  5.17it/s]"
     ]
    },
    {
     "name": "stdout",
     "output_type": "stream",
     "text": [
      "Epoch 118:\n",
      "Train Loss: 1.3952\n",
      "Val Loss: 1.8078\n",
      "Test Loss: 1.8148\n",
      "Epoch 119:\n",
      "Train Loss: 1.4213\n",
      "Val Loss: 1.8082\n",
      "Test Loss: 1.8140\n"
     ]
    },
    {
     "name": "stderr",
     "output_type": "stream",
     "text": [
      "  1%|          | 121/10000 [00:24<31:45,  5.18it/s]"
     ]
    },
    {
     "name": "stdout",
     "output_type": "stream",
     "text": [
      "Epoch 120:\n",
      "Train Loss: 1.4221\n",
      "Val Loss: 1.8096\n",
      "Test Loss: 1.8145\n",
      "Epoch 121:\n",
      "Train Loss: 1.4149\n",
      "Val Loss: 1.8113\n",
      "Test Loss: 1.8156\n"
     ]
    },
    {
     "name": "stderr",
     "output_type": "stream",
     "text": [
      "  1%|          | 122/10000 [00:24<33:11,  4.96it/s]"
     ]
    },
    {
     "name": "stdout",
     "output_type": "stream",
     "text": [
      "Epoch 122:\n",
      "Train Loss: 1.3730\n",
      "Val Loss: 1.8118\n",
      "Test Loss: 1.8153\n",
      "Epoch 123:\n",
      "Train Loss: 1.4072\n",
      "Val Loss: 1.8078\n",
      "Test Loss: 1.8135\n",
      "early stopping based on loss reduction when we compare to val dataset\n"
     ]
    },
    {
     "name": "stderr",
     "output_type": "stream",
     "text": [
      "\n"
     ]
    }
   ],
   "source": [
    "mlp = MLP(\n",
    "    input_size=32*32*3,\n",
    "    hidden_layers=hidden_layers,\n",
    "    num_classes=10,\n",
    "    activation_function=best_activation,\n",
    "    dropout_rate=dropout_rate,\n",
    "    use_batch_norm=use_batch_norm\n",
    ")\n",
    "# mlp.cpu()\n",
    "mlp.cuda()\n",
    "\n",
    "optimizer = torch.optim.Adam(mlp.parameters(), \n",
    "                             lr=study.best_params['learning_rate'], \n",
    "                             weight_decay=study.best_params['weight_decay'])\n",
    "\n",
    "best_val_loss = float('inf')\n",
    "patience = 5\n",
    "patience_counter = 0\n",
    "\n",
    "arr_losses_train = []\n",
    "arr_losses_test  = []\n",
    "arr_losses_val   = []\n",
    "\n",
    "# main loop\n",
    "num_epochs       = 10000\n",
    "for epoch in tqdm(range(num_epochs)):\n",
    "    mlp.train()\n",
    "    epoch_loss = 0.0\n",
    "    for i, (images, labels) in enumerate(train_loader):\n",
    "        images = images.view(-1, 32*32*3).cuda()\n",
    "        labels = labels.cuda()\n",
    "        optimizer.zero_grad()\n",
    "\n",
    "        # forward pass\n",
    "        outputs = mlp.forward(images)\n",
    "        loss = loss_function(outputs, labels)\n",
    "        loss.backward()\n",
    "        optimizer.step()\n",
    "\n",
    "        epoch_loss += loss.item()\n",
    "\n",
    "        if (i+1) % 1000 == 0:\n",
    "            tqdm.write(f' Epoch {epoch + 1}/{num_epochs}, Step {i+1}/{len(train_dataset) // study.best_params['batch_size']}, Loss: {loss}')\n",
    "\n",
    "    mlp.eval()\n",
    "    train_loss = epoch_loss/len(train_loader)\n",
    "    val_loss   = evaluate_model(mlp, val_loader, loss_function)\n",
    "    test_loss  = evaluate_model(mlp, test_loader, loss_function)\n",
    "\n",
    "    arr_losses_train.append(train_loss)\n",
    "    arr_losses_val.append(val_loss)\n",
    "    arr_losses_test.append(test_loss)\n",
    "\n",
    "    tqdm.write(f'Epoch {epoch+1}:')\n",
    "    tqdm.write(f'Train Loss: {train_loss:.4f}')\n",
    "    tqdm.write(f'Val Loss: {val_loss:.4f}')\n",
    "    tqdm.write(f'Test Loss: {test_loss:.4f}')\n",
    "\n",
    "\n",
    "    # early stopping \n",
    "    if val_loss < best_val_loss:\n",
    "        best_val_loss = val_loss\n",
    "        patience_counter = 0\n",
    "\n",
    "    else:\n",
    "        patience_counter += 1\n",
    "        if patience_counter >= patience:\n",
    "            tqdm.write(\"early stopping based on loss reduction when we compare to val dataset\")\n",
    "            break"
   ]
  },
  {
   "cell_type": "markdown",
   "id": "065ed6dc",
   "metadata": {},
   "source": [
    "# Evaluate best model"
   ]
  },
  {
   "cell_type": "code",
   "execution_count": 37,
   "id": "780ccdff",
   "metadata": {},
   "outputs": [
    {
     "data": {
      "image/png": "[encoded data removed]",
      "text/plain": [
       "<Figure size 640x480 with 1 Axes>"
      ]
     },
     "metadata": {},
     "output_type": "display_data"
    }
   ],
   "source": [
    "show_loss_through_epochs(arr_losses_train, arr_losses_test, arr_losses_val)"
   ]
  },
  {
   "cell_type": "code",
   "execution_count": 38,
   "id": "cc2d66f1",
   "metadata": {},
   "outputs": [
    {
     "name": "stderr",
     "output_type": "stream",
     "text": [
      "Clipping input data to the valid range for imshow with RGB data ([0..1] for floats or [0..255] for integers). Got range [-0.5247024..1.7938564].\n",
      "Clipping input data to the valid range for imshow with RGB data ([0..1] for floats or [0..255] for integers). Got range [-0.4828431..1.2477095].\n",
      "Clipping input data to the valid range for imshow with RGB data ([0..1] for floats or [0..255] for integers). Got range [-0.3791421..1.8025708].\n",
      "Clipping input data to the valid range for imshow with RGB data ([0..1] for floats or [0..255] for integers). Got range [-0.37057972..1.7851416].\n",
      "Clipping input data to the valid range for imshow with RGB data ([0..1] for floats or [0..255] for integers). Got range [-0.46533608..1.7851416].\n",
      "Clipping input data to the valid range for imshow with RGB data ([0..1] for floats or [0..255] for integers). Got range [-0.44764107..1.7938564].\n",
      "Clipping input data to the valid range for imshow with RGB data ([0..1] for floats or [0..255] for integers). Got range [-0.558952..1.7502832].\n",
      "Clipping input data to the valid range for imshow with RGB data ([0..1] for floats or [0..255] for integers). Got range [-0.24214405..1.6369936].\n",
      "Clipping input data to the valid range for imshow with RGB data ([0..1] for floats or [0..255] for integers). Got range [-0.49901533..1.4079132].\n",
      "Clipping input data to the valid range for imshow with RGB data ([0..1] for floats or [0..255] for integers). Got range [-0.55038965..1.82].\n",
      "/tmp/ipykernel_42601/3298405776.py:86: UserWarning: tight_layout not applied: number of columns in subplot specifications must be multiples of one another.\n",
      "  plt.tight_layout(h_pad=2)\n"
     ]
    },
    {
     "data": {
      "image/png": "[encoded data removed]",
      "text/plain": [
       "<Figure size 2400x2000 with 11 Axes>"
      ]
     },
     "metadata": {},
     "output_type": "display_data"
    }
   ],
   "source": [
    "show_predictions(mlp, test_loader, num_samples=5)"
   ]
  },
  {
   "cell_type": "code",
   "execution_count": 48,
   "id": "f0b8f37b",
   "metadata": {},
   "outputs": [
    {
     "name": "stdout",
     "output_type": "stream",
     "text": [
      "Scores of your model\n",
      " {'accuracy': 0.373, 'balanced_accuracy': np.float64(0.3682872828130635), 'f1_score': 0.3599394362064536, 'precision': 0.35850809318773547, 'recall': 0.373}\n",
      "\n",
      "\n"
     ]
    }
   ],
   "source": [
    "mlp.eval()\n",
    "predictions = []\n",
    "labels = []\n",
    "\n",
    "for images, label in test_loader:\n",
    "  images = images.view(-1,32*32*3).cuda()\n",
    "  label = label.cuda()\n",
    "\n",
    "  output = mlp(images)\n",
    "  _, predicted = torch.max(output,1)\n",
    "\n",
    "  predictions.extend(predicted.cpu().numpy())\n",
    "  labels.extend(label.cpu().numpy())\n",
    "\n",
    "scores = get_scores(labels, predictions)\n",
    "print(f\"Scores of your model\\n {scores}\\n\\n\")"
   ]
  },
  {
   "cell_type": "code",
   "execution_count": 40,
   "id": "e6b4cbab",
   "metadata": {},
   "outputs": [
    {
     "name": "stdout",
     "output_type": "stream",
     "text": [
      "\n",
      " shape dataset teste -> 1000\n",
      "\n",
      "(repr x acc top1) por classe(conjunto teste):\n",
      "\n",
      "airplane:\n",
      "  Acurácia: 33.98%\n",
      "  Número de amostras: 103\n",
      "  Representatividade: 10.30%\n",
      "\n",
      "automobile:\n",
      "  Acurácia: 49.44%\n",
      "  Número de amostras: 89\n",
      "  Representatividade: 8.90%\n",
      "\n",
      "bird:\n",
      "  Acurácia: 13.00%\n",
      "  Número de amostras: 100\n",
      "  Representatividade: 10.00%\n",
      "\n",
      "cat:\n",
      "  Acurácia: 15.53%\n",
      "  Número de amostras: 103\n",
      "  Representatividade: 10.30%\n",
      "\n",
      "deer:\n",
      "  Acurácia: 26.67%\n",
      "  Número de amostras: 90\n",
      "  Representatividade: 9.00%\n",
      "\n",
      "dog:\n",
      "  Acurácia: 24.42%\n",
      "  Número de amostras: 86\n",
      "  Representatividade: 8.60%\n",
      "\n",
      "frog:\n",
      "  Acurácia: 51.79%\n",
      "  Número de amostras: 112\n",
      "  Representatividade: 11.20%\n",
      "\n",
      "horse:\n",
      "  Acurácia: 47.06%\n",
      "  Número de amostras: 102\n",
      "  Representatividade: 10.20%\n",
      "\n",
      "ship:\n",
      "  Acurácia: 66.04%\n",
      "  Número de amostras: 106\n",
      "  Representatividade: 10.60%\n",
      "\n",
      "truck:\n",
      "  Acurácia: 40.37%\n",
      "  Número de amostras: 109\n",
      "  Representatividade: 10.90%\n"
     ]
    }
   ],
   "source": [
    "classes = ['airplane', 'automobile', 'bird', 'cat', 'deer', \n",
    "           'dog', 'frog', 'horse', 'ship', 'truck'] # .venvNN/lib/python3.12/site-packages/torchvision/prototype/datasets/_builtin/cifar10.categories\n",
    "\n",
    "labels = np.array(labels)\n",
    "predictions = np.array(predictions)\n",
    "\n",
    "stats = {}\n",
    "\n",
    "print(f\"\\n shape dataset teste -> {len(test_dataset)}\")\n",
    "print(\"\\n(repr x acc top1) por classe(conjunto teste):\")\n",
    "\n",
    "for i in range(10):\n",
    "    mask = labels == i\n",
    "    class_acc = np.mean(predictions[mask] == labels[mask]) * 100\n",
    "    num_samples = np.sum(mask)\n",
    "    class_repr = (num_samples / len(labels)) * 100\n",
    "\n",
    "    stats[classes[i]] = {\n",
    "        'acuracia': f\"{class_acc:.2f}%\",\n",
    "        'num_amostras': num_samples,\n",
    "        'representatividade': f\"{class_repr:.2f}%\"\n",
    "    }\n",
    "\n",
    "for classe, metricas in stats.items():\n",
    "    print(f\"\\n{classe}:\")\n",
    "    print(f\"  Acurácia: {metricas['acuracia']}\")\n",
    "    print(f\"  Número de amostras: {metricas['num_amostras']}\")\n",
    "    print(f\"  Representatividade: {metricas['representatividade']}\")"
   ]
  },
  {
   "cell_type": "code",
   "execution_count": 47,
   "id": "3089e445",
   "metadata": {},
   "outputs": [
    {
     "data": {
      "image/png": "[encoded data removed]",
      "text/plain": [
       "<Figure size 1000x800 with 2 Axes>"
      ]
     },
     "metadata": {},
     "output_type": "display_data"
    },
    {
     "name": "stdout",
     "output_type": "stream",
     "text": [
      "1. airplane → ship: 33 vezes\n",
      "2. cat → dog: 22 vezes\n",
      "3. bird → airplane: 22 vezes\n",
      "4. cat → frog: 19 vezes\n",
      "5. truck → ship: 18 vezes\n"
     ]
    }
   ],
   "source": [
    "cm = metrics.confusion_matrix(labels, predictions)\n",
    "\n",
    "plt.figure(figsize=(10, 8))\n",
    "sns.heatmap(cm, annot=True, fmt='d', cmap='Blues', xticklabels=classes, yticklabels=classes)\n",
    "plt.title('Matriz de Confusão - CIFAR-10')\n",
    "plt.xlabel('Predições')\n",
    "plt.ylabel('Rótulos Verdadeiros')\n",
    "plt.show()\n",
    "\n",
    "cm_errors = cm.copy()\n",
    "np.fill_diagonal(cm_errors, 0)\n",
    "\n",
    "flat_indices = np.argsort(cm_errors.ravel())[::-1][:5]\n",
    "confusion_indices = np.unravel_index(flat_indices, cm_errors.shape)\n",
    "\n",
    "for i in range(5):\n",
    "    true_class = confusion_indices[0][i]\n",
    "    pred_class = confusion_indices[1][i]\n",
    "    count = cm_errors[true_class, pred_class]\n",
    "    if count > 0:\n",
    "        print(f\"{i+1}. {classes[true_class]} → {classes[pred_class]}: {count} vezes\")"
   ]
  }
 ],
 "metadata": {
  "kernelspec": {
   "display_name": ".venvNN",
   "language": "python",
   "name": "python3"
  },
  "language_info": {
   "codemirror_mode": {
    "name": "ipython",
    "version": 3
   },
   "file_extension": ".py",
   "mimetype": "text/x-python",
   "name": "python",
   "nbconvert_exporter": "python",
   "pygments_lexer": "ipython3",
   "version": "3.12.3"
  }
 },
 "nbformat": 4,
 "nbformat_minor": 5
}
