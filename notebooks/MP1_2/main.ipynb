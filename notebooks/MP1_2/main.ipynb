{
 "cells": [
  {
   "cell_type": "markdown",
   "id": "a1449c2e",
   "metadata": {},
   "source": [
    "- coisas para add \n",
    "    - data augmentation\n",
    "    - matriz de confusao \n",
    "    - acuracia ao longo do tempo \n",
    "    - nova ativacao(leaky relu) \n",
    "    - tamanho dos modelos e arquiteura final "
   ]
  },
  {
   "cell_type": "markdown",
   "id": "8dbb3dac",
   "metadata": {},
   "source": [
    "# Imports"
   ]
  },
  {
   "cell_type": "code",
   "execution_count": 9,
   "id": "49818bca",
   "metadata": {},
   "outputs": [],
   "source": [
    "import torch\n",
    "import torch.nn as nn\n",
    "import torchvision\n",
    "import torchvision.transforms as transforms\n",
    "\n",
    "import optuna \n",
    "\n",
    "import numpy as np\n",
    "\n",
    "from tqdm import tqdm\n",
    "\n",
    "import matplotlib.pyplot as plt\n",
    "\n",
    "from sklearn import metrics"
   ]
  },
  {
   "cell_type": "markdown",
   "id": "6fbd66a4",
   "metadata": {},
   "source": [
    "# Helper functions and MLP class"
   ]
  },
  {
   "cell_type": "code",
   "execution_count": 7,
   "id": "60557936",
   "metadata": {},
   "outputs": [],
   "source": [
    "class MLP(nn.Module):\n",
    "    def __init__(self, input_size, hidden_layers, num_classes, activation_function, dropout_rate, use_batch_norm=True):\n",
    "        super(MLP, self).__init__()\n",
    "        self.activation_function = activation_function\n",
    "        self.dropout = nn.Dropout(p=dropout_rate)\n",
    "        self.use_batch_norm = use_batch_norm\n",
    "\n",
    "        layers_dims = [input_size] + hidden_layers + [num_classes]\n",
    "        self.layers = nn.ModuleList()\n",
    "        self.batch_norms = nn.ModuleList()\n",
    "\n",
    "        for i in range(len(layers_dims) - 1):  \n",
    "            self.layers.append(nn.Linear(layers_dims[i], layers_dims[i+1]))\n",
    "            \n",
    "            if use_batch_norm and i < len(layers_dims) - 2:\n",
    "                self.batch_norms.append(nn.BatchNorm1d(layers_dims[i+1]))\n",
    "\n",
    "\n",
    "\n",
    "    def forward(self, x):\n",
    "        for layer in self.layers[:-1]:\n",
    "            x = self.activation_function(layer(x))\n",
    "            x = self.dropout(x)\n",
    "\n",
    "        x = self.layers[-1](x)\n",
    "        \n",
    "        return x "
   ]
  },
  {
   "cell_type": "code",
   "execution_count": 8,
   "id": "d3da68d5",
   "metadata": {},
   "outputs": [],
   "source": [
    "def get_scores(targets, predictions):\n",
    "    return {\n",
    "        \"accuracy\"         : metrics.accuracy_score(targets, predictions),\n",
    "        \"balanced_accuracy\": metrics.balanced_accuracy_score(targets, predictions),\n",
    "        \"f1_score\"         : metrics.f1_score(targets, predictions, average=\"weighted\"),\n",
    "        \"precision\"        : metrics.precision_score(targets, predictions, average=\"weighted\"),\n",
    "        \"recall\"           : metrics.recall_score(targets, predictions, average=\"weighted\"),\n",
    "        \"f1_score\"         : metrics.f1_score(targets, predictions, average=\"weighted\")\n",
    "    }\n",
    "\n",
    "def evaluate_model(model, data_loader, loss_function):\n",
    "    model.eval()\n",
    "    total_loss = 0.0\n",
    "    with torch.no_grad():\n",
    "        for images, labels in data_loader:\n",
    "            images = images.view(-1, 32*32*3).cuda()\n",
    "            labels = labels.cuda()\n",
    "            outputs = model(images)\n",
    "            loss = loss_function(outputs, labels)\n",
    "            total_loss += loss.item()\n",
    "\n",
    "    return total_loss / len(data_loader)\n",
    "\n",
    "def show_loss_through_epochs(arr_losses_train, arr_losses_test, arr_losses_val):\n",
    "    plt.plot(arr_losses_train, label = \"train loss\")\n",
    "    plt.plot(arr_losses_val, label = \"val loss\")\n",
    "    plt.plot(arr_losses_test, label = \"test loss\")\n",
    "    plt.xlabel(\"epoch\")\n",
    "    plt.ylabel(\"loss\")\n",
    "    plt.grid()\n",
    "    plt.legend()\n",
    "    return None\n",
    "\n",
    "def show_predictions(model, dataloader, num_samples):\n",
    "    model.eval()\n",
    "    correct_samples = []\n",
    "    wrong_samples = []\n",
    "\n",
    "    classes = ['airplane', 'automobile', 'bird', 'cat', 'deer',\n",
    "               'dog', 'frog', 'horse', 'ship', 'truck']\n",
    "    \n",
    "    with torch.no_grad():\n",
    "        for images, labels in dataloader:\n",
    "            original_images = images\n",
    "\n",
    "            images = images.view(-1, 32*32*3).cuda()\n",
    "            labels = labels.cuda()\n",
    "\n",
    "            outputs = model.forward(images)\n",
    "            _, predicted = torch.max(outputs.data, 1)\n",
    "\n",
    "            for i in range(len(labels)):\n",
    "                pred = predicted[i].cpu().item()\n",
    "                true = labels[i].cpu().item()\n",
    "                img = original_images[i]\n",
    "\n",
    "                if pred == true and len(correct_samples) < num_samples:\n",
    "                    correct_samples.append((img, pred, true))\n",
    "                elif pred != true and len(wrong_samples) < num_samples:\n",
    "                    wrong_samples.append((img, pred, true))\n",
    "\n",
    "                if len(correct_samples) >= num_samples and len(wrong_samples) >= num_samples:\n",
    "                    break\n",
    "\n",
    "    plt.figure(figsize=(24, 20))\n",
    "    \n",
    "    plt.subplot(1, 2, 1)\n",
    "    # acertos\n",
    "    for idx, (img, pred, true) in enumerate(correct_samples):\n",
    "        plt.subplot(2, num_samples, idx + 1)\n",
    "        img = img.permute(1, 2, 0)  \n",
    "        img = img * 0.5 + 0.5 \n",
    "        plt.imshow(img)\n",
    "        plt.title(f'Correto!\\nPred: {classes[pred]}\\nTrue: {classes[true]}')\n",
    "        plt.axis('off')\n",
    "\n",
    "    # erros\n",
    "    for idx, (img, pred, true) in enumerate(wrong_samples):\n",
    "        plt.subplot(2, num_samples, idx + num_samples + 1)\n",
    "        img = img.permute(1, 2, 0)\n",
    "        img = img * 0.5 + 0.5\n",
    "        plt.imshow(img)\n",
    "        plt.title(f'Erro!\\nPred: {classes[pred]}\\nTrue: {classes[true]}')\n",
    "        plt.axis('off')\n",
    "    \n",
    "    plt.tight_layout(h_pad=2)\n",
    "    plt.show()\n",
    "\n",
    "    return None\n",
    "\n",
    "def objective(trial):\n",
    "    global train_dataset_global, validation_dataset_global\n",
    "\n",
    "    activation_name = trial.suggest_categorical('activation', ['ReLU', 'Sigmoid', 'Tanh'])\n",
    "    activation_functions = {\n",
    "        'ReLU': nn.ReLU(),\n",
    "        'Sigmoid': nn.Sigmoid(),\n",
    "        'Tanh': nn.Tanh()\n",
    "    }\n",
    "    activation_function = activation_functions[activation_name]\n",
    "    learning_rate = trial.suggest_float('learning_rate', 1e-5, 1e-2, log=True)\n",
    "    batch_size = trial.suggest_int('batch_size', 32, 512)\n",
    "\n",
    "    # reg params\n",
    "    dropout_rate = trial.suggest_float('dropout_rate', 0.0, 0.5)\n",
    "    weight_decay = trial.suggest_float('weight_decay', 1e-5, 1e-2, log=True)\n",
    "    use_batch_norm = trial.suggest_categorical('use_batch_norm', [True, False])\n",
    "\n",
    "    n_layers = trial.suggest_int('n_layers', 2, 7)\n",
    "    hidden_layers = []\n",
    "    for i in range(n_layers):\n",
    "        n_units = trial.suggest_int(f'n_units_l{i}', 32, 256)\n",
    "        hidden_layers.append(n_units)\n",
    "\n",
    "    input_size = 32*32*3\n",
    "    num_classes = 10\n",
    "    loss_function = nn.CrossEntropyLoss()\n",
    "    \n",
    "    train_loader = torch.utils.data.DataLoader(\n",
    "        dataset=train_dataset_global, \n",
    "        batch_size=batch_size, \n",
    "        shuffle=True\n",
    "    )\n",
    "    val_loader = torch.utils.data.DataLoader(\n",
    "        dataset=validation_dataset_global, \n",
    "        batch_size=batch_size, \n",
    "        shuffle=False\n",
    "    )\n",
    "\n",
    "    model = MLP(\n",
    "        input_size=input_size,\n",
    "        hidden_layers=hidden_layers,\n",
    "        num_classes=num_classes,\n",
    "        activation_function=activation_function,\n",
    "        dropout_rate=dropout_rate,\n",
    "        use_batch_norm=use_batch_norm\n",
    "    ).cuda()\n",
    "    \n",
    "    optimizer = torch.optim.Adam(model.parameters(), lr=learning_rate, weight_decay=weight_decay)\n",
    "    \n",
    "    best_val_loss = float('inf')\n",
    "    patience = 7\n",
    "    patience_counter = 0\n",
    "    \n",
    "    for _ in range(50):\n",
    "        model.train()\n",
    "        for images, labels in train_loader:\n",
    "            images = images.view(-1, input_size).cuda()\n",
    "            labels = labels.cuda()\n",
    "            \n",
    "            optimizer.zero_grad()\n",
    "            outputs = model(images)\n",
    "            loss = loss_function(outputs, labels)\n",
    "            loss.backward()\n",
    "            optimizer.step()\n",
    "        \n",
    "        model.eval() # disable dropout just to validate\n",
    "        val_loss = evaluate_model(model, val_loader, loss_function)\n",
    "        \n",
    "        if val_loss < best_val_loss:\n",
    "            best_val_loss = val_loss\n",
    "            patience_counter = 0\n",
    "        else:\n",
    "            patience_counter += 1\n",
    "            \n",
    "        if patience_counter >= patience:\n",
    "            break\n",
    "    \n",
    "    return best_val_loss\n"
   ]
  },
  {
   "cell_type": "markdown",
   "id": "93b8922c",
   "metadata": {},
   "source": [
    "# Setup"
   ]
  },
  {
   "cell_type": "code",
   "execution_count": 2,
   "id": "25cc0de3",
   "metadata": {},
   "outputs": [],
   "source": [
    "transform_train = transforms.Compose([\n",
    "    transforms.RandomHorizontalFlip(p=0.5),\n",
    "    transforms.RandomRotation(degrees=10),\n",
    "    transforms.RandomCrop(32, padding=4),\n",
    "    transforms.ColorJitter(brightness=0.2, contrast=0.2, saturation=0.2, hue=0.1),\n",
    "    transforms.RandomAffine(degrees=0, translate=(0.1, 0.1)),\n",
    "    \n",
    "    transforms.ToTensor(),\n",
    "    transforms.Normalize(mean=[0.485, 0.456, 0.406], std=[0.229, 0.224, 0.225])  # ImageNet stats funciona melhor\n",
    "])\n",
    "\n",
    "# Transformação apenas para validação e teste (sem augmentation)\n",
    "transform_test = transforms.Compose([\n",
    "    transforms.ToTensor(),\n",
    "    transforms.Normalize(mean=[0.485, 0.456, 0.406], std=[0.229, 0.224, 0.225])\n",
    "])\n",
    "\n",
    "train_dataset = torchvision.datasets.CIFAR10(root='./data', train=True, download=True, transform=transform_train)\n",
    "test_dataset = torchvision.datasets.CIFAR10(root='./data', train=False, download=True, transform=transform_test)\n",
    "\n",
    "train_size = int(0.8 * len(train_dataset))\n",
    "val_size = len(train_dataset) - train_size\n",
    "\n",
    "train_dataset, validation_dataset = torch.utils.data.random_split(train_dataset, [train_size, val_size])\n",
    "\n",
    "validation_dataset.dataset.transform = transform_test"
   ]
  },
  {
   "cell_type": "code",
   "execution_count": 3,
   "id": "96dfadbb",
   "metadata": {},
   "outputs": [],
   "source": [
    "# just to run fast\n",
    "subset_sample      = 1000\n",
    "\n",
    "train_dataset      = torch.utils.data.Subset(train_dataset, range(subset_sample))\n",
    "validation_dataset = torch.utils.data.Subset(validation_dataset, range(subset_sample))\n",
    "test_dataset       = torch.utils.data.Subset(test_dataset, range(subset_sample))\n"
   ]
  },
  {
   "cell_type": "code",
   "execution_count": 4,
   "id": "2f802c05",
   "metadata": {},
   "outputs": [],
   "source": [
    "train_dataset_global = train_dataset\n",
    "validation_dataset_global = validation_dataset"
   ]
  },
  {
   "cell_type": "markdown",
   "id": "0ba4092f",
   "metadata": {},
   "source": [
    "# Def hyperparameters and Loaders"
   ]
  },
  {
   "cell_type": "code",
   "execution_count": 5,
   "id": "e3230a72",
   "metadata": {},
   "outputs": [],
   "source": [
    "loss_function       = nn.CrossEntropyLoss()"
   ]
  },
  {
   "cell_type": "markdown",
   "id": "d8bbd35e",
   "metadata": {},
   "source": [
    "# Main training Loop"
   ]
  },
  {
   "cell_type": "markdown",
   "id": "f0eb17a2",
   "metadata": {},
   "source": [
    "## Optuna optimization"
   ]
  },
  {
   "cell_type": "code",
   "execution_count": 10,
   "id": "b6ebca3b",
   "metadata": {},
   "outputs": [
    {
     "name": "stderr",
     "output_type": "stream",
     "text": [
      "[I 2025-06-14 20:42:11,792] A new study created in memory with name: no-name-34dfab40-5c46-41f9-9ba3-7334cba88893\n",
      "[I 2025-06-14 20:42:18,183] Trial 0 finished with value: 2.2750085592269897 and parameters: {'activation': 'Tanh', 'learning_rate': 1.3918115565935064e-05, 'batch_size': 275, 'dropout_rate': 0.477602840871821, 'weight_decay': 0.0001722646828950294, 'use_batch_norm': False, 'n_layers': 7, 'n_units_l0': 232, 'n_units_l1': 157, 'n_units_l2': 185, 'n_units_l3': 156, 'n_units_l4': 170, 'n_units_l5': 192, 'n_units_l6': 235}. Best is trial 0 with value: 2.2750085592269897.\n",
      "[I 2025-06-14 20:42:24,204] Trial 1 finished with value: 2.275806506474813 and parameters: {'activation': 'ReLU', 'learning_rate': 1.3876618592080614e-05, 'batch_size': 489, 'dropout_rate': 0.22120688541926387, 'weight_decay': 0.002283471833501616, 'use_batch_norm': True, 'n_layers': 4, 'n_units_l0': 249, 'n_units_l1': 198, 'n_units_l2': 243, 'n_units_l3': 55}. Best is trial 0 with value: 2.2750085592269897.\n"
     ]
    }
   ],
   "source": [
    "n_trials=2\n",
    "study = optuna.create_study(direction='minimize')\n",
    "study.optimize(objective, n_trials=n_trials)"
   ]
  },
  {
   "cell_type": "markdown",
   "id": "e5a09e96",
   "metadata": {},
   "source": [
    "## Best founded model"
   ]
  },
  {
   "cell_type": "code",
   "execution_count": 11,
   "id": "bb1b80e3",
   "metadata": {},
   "outputs": [
    {
     "data": {
      "text/plain": [
       "{'activation': 'Tanh',\n",
       " 'learning_rate': 1.3918115565935064e-05,\n",
       " 'batch_size': 275,\n",
       " 'dropout_rate': 0.477602840871821,\n",
       " 'weight_decay': 0.0001722646828950294,\n",
       " 'use_batch_norm': False,\n",
       " 'n_layers': 7,\n",
       " 'n_units_l0': 232,\n",
       " 'n_units_l1': 157,\n",
       " 'n_units_l2': 185,\n",
       " 'n_units_l3': 156,\n",
       " 'n_units_l4': 170,\n",
       " 'n_units_l5': 192,\n",
       " 'n_units_l6': 235}"
      ]
     },
     "execution_count": 11,
     "metadata": {},
     "output_type": "execute_result"
    }
   ],
   "source": [
    "study.best_params"
   ]
  },
  {
   "cell_type": "code",
   "execution_count": 12,
   "id": "d2ae28a3",
   "metadata": {},
   "outputs": [],
   "source": [
    "hidden_layers = [study.best_params[f'n_units_l{i}'] for i in range(study.best_params['n_layers'])]\n",
    "\n",
    "activation_functions = {\n",
    "    'ReLU': nn.ReLU(),\n",
    "    'Sigmoid': nn.Sigmoid(),\n",
    "    'Tanh': nn.Tanh()\n",
    "}\n",
    "\n",
    "best_activation = activation_functions[study.best_params['activation']]\n",
    "\n",
    "# reg params\n",
    "dropout_rate=study.best_params['dropout_rate']\n",
    "use_batch_norm=study.best_params['use_batch_norm']\n",
    "\n",
    "train_loader = torch.utils.data.DataLoader(\n",
    "    dataset=train_dataset_global, \n",
    "    batch_size=study.best_params['batch_size'], \n",
    "    shuffle=True\n",
    ")\n",
    "val_loader = torch.utils.data.DataLoader(\n",
    "    dataset=validation_dataset_global, \n",
    "    batch_size=study.best_params['batch_size'], \n",
    "    shuffle=False\n",
    ")\n",
    "\n",
    "test_loader = torch.utils.data.DataLoader(\n",
    "    dataset=test_dataset, \n",
    "    batch_size=study.best_params['batch_size'], \n",
    "    shuffle=False\n",
    ")\n"
   ]
  },
  {
   "cell_type": "code",
   "execution_count": 13,
   "id": "b04aa267",
   "metadata": {},
   "outputs": [
    {
     "name": "stderr",
     "output_type": "stream",
     "text": [
      "  0%|          | 2/10000 [00:00<30:57,  5.38it/s]"
     ]
    },
    {
     "name": "stdout",
     "output_type": "stream",
     "text": [
      "Epoch 1:\n",
      "Train Loss: 2.3085\n",
      "Val Loss: 2.3049\n",
      "Test Loss: 2.3044\n",
      "Epoch 2:\n",
      "Train Loss: 2.3140\n",
      "Val Loss: 2.3045\n",
      "Test Loss: 2.3039\n"
     ]
    },
    {
     "name": "stderr",
     "output_type": "stream",
     "text": [
      "  0%|          | 4/10000 [00:00<30:33,  5.45it/s]"
     ]
    },
    {
     "name": "stdout",
     "output_type": "stream",
     "text": [
      "Epoch 3:\n",
      "Train Loss: 2.3096\n",
      "Val Loss: 2.3040\n",
      "Test Loss: 2.3035\n",
      "Epoch 4:\n",
      "Train Loss: 2.3133\n",
      "Val Loss: 2.3036\n",
      "Test Loss: 2.3030\n"
     ]
    },
    {
     "name": "stderr",
     "output_type": "stream",
     "text": [
      "  0%|          | 6/10000 [00:01<30:43,  5.42it/s]"
     ]
    },
    {
     "name": "stdout",
     "output_type": "stream",
     "text": [
      "Epoch 5:\n",
      "Train Loss: 2.3023\n",
      "Val Loss: 2.3032\n",
      "Test Loss: 2.3025\n",
      "Epoch 6:\n",
      "Train Loss: 2.3008\n",
      "Val Loss: 2.3028\n",
      "Test Loss: 2.3020\n"
     ]
    },
    {
     "name": "stderr",
     "output_type": "stream",
     "text": [
      "  0%|          | 8/10000 [00:01<30:49,  5.40it/s]"
     ]
    },
    {
     "name": "stdout",
     "output_type": "stream",
     "text": [
      "Epoch 7:\n",
      "Train Loss: 2.3039\n",
      "Val Loss: 2.3024\n",
      "Test Loss: 2.3016\n",
      "Epoch 8:\n",
      "Train Loss: 2.3065\n",
      "Val Loss: 2.3019\n",
      "Test Loss: 2.3011\n"
     ]
    },
    {
     "name": "stderr",
     "output_type": "stream",
     "text": [
      "  0%|          | 10/10000 [00:01<30:56,  5.38it/s]"
     ]
    },
    {
     "name": "stdout",
     "output_type": "stream",
     "text": [
      "Epoch 9:\n",
      "Train Loss: 2.3065\n",
      "Val Loss: 2.3015\n",
      "Test Loss: 2.3006\n",
      "Epoch 10:\n",
      "Train Loss: 2.3067\n",
      "Val Loss: 2.3010\n",
      "Test Loss: 2.3001\n"
     ]
    },
    {
     "name": "stderr",
     "output_type": "stream",
     "text": [
      "  0%|          | 12/10000 [00:02<30:51,  5.40it/s]"
     ]
    },
    {
     "name": "stdout",
     "output_type": "stream",
     "text": [
      "Epoch 11:\n",
      "Train Loss: 2.3027\n",
      "Val Loss: 2.3005\n",
      "Test Loss: 2.2996\n",
      "Epoch 12:\n",
      "Train Loss: 2.2993\n",
      "Val Loss: 2.3001\n",
      "Test Loss: 2.2991\n"
     ]
    },
    {
     "name": "stderr",
     "output_type": "stream",
     "text": [
      "  0%|          | 14/10000 [00:02<30:56,  5.38it/s]"
     ]
    },
    {
     "name": "stdout",
     "output_type": "stream",
     "text": [
      "Epoch 13:\n",
      "Train Loss: 2.3005\n",
      "Val Loss: 2.2996\n",
      "Test Loss: 2.2986\n",
      "Epoch 14:\n",
      "Train Loss: 2.2973\n",
      "Val Loss: 2.2991\n",
      "Test Loss: 2.2981\n"
     ]
    },
    {
     "name": "stderr",
     "output_type": "stream",
     "text": [
      "  0%|          | 16/10000 [00:02<30:54,  5.38it/s]"
     ]
    },
    {
     "name": "stdout",
     "output_type": "stream",
     "text": [
      "Epoch 15:\n",
      "Train Loss: 2.3074\n",
      "Val Loss: 2.2987\n",
      "Test Loss: 2.2976\n",
      "Epoch 16:\n",
      "Train Loss: 2.3037\n",
      "Val Loss: 2.2983\n",
      "Test Loss: 2.2971\n"
     ]
    },
    {
     "name": "stderr",
     "output_type": "stream",
     "text": [
      "  0%|          | 18/10000 [00:03<30:39,  5.43it/s]"
     ]
    },
    {
     "name": "stdout",
     "output_type": "stream",
     "text": [
      "Epoch 17:\n",
      "Train Loss: 2.3019\n",
      "Val Loss: 2.2979\n",
      "Test Loss: 2.2967\n",
      "Epoch 18:\n",
      "Train Loss: 2.3015\n",
      "Val Loss: 2.2974\n",
      "Test Loss: 2.2962\n"
     ]
    },
    {
     "name": "stderr",
     "output_type": "stream",
     "text": [
      "  0%|          | 20/10000 [00:03<31:05,  5.35it/s]"
     ]
    },
    {
     "name": "stdout",
     "output_type": "stream",
     "text": [
      "Epoch 19:\n",
      "Train Loss: 2.2953\n",
      "Val Loss: 2.2970\n",
      "Test Loss: 2.2958\n",
      "Epoch 20:\n",
      "Train Loss: 2.2975\n",
      "Val Loss: 2.2966\n",
      "Test Loss: 2.2953\n"
     ]
    },
    {
     "name": "stderr",
     "output_type": "stream",
     "text": [
      "  0%|          | 22/10000 [00:04<31:07,  5.34it/s]"
     ]
    },
    {
     "name": "stdout",
     "output_type": "stream",
     "text": [
      "Epoch 21:\n",
      "Train Loss: 2.2987\n",
      "Val Loss: 2.2961\n",
      "Test Loss: 2.2948\n",
      "Epoch 22:\n",
      "Train Loss: 2.3010\n",
      "Val Loss: 2.2956\n",
      "Test Loss: 2.2943\n"
     ]
    },
    {
     "name": "stderr",
     "output_type": "stream",
     "text": [
      "  0%|          | 24/10000 [00:04<31:14,  5.32it/s]"
     ]
    },
    {
     "name": "stdout",
     "output_type": "stream",
     "text": [
      "Epoch 23:\n",
      "Train Loss: 2.2957\n",
      "Val Loss: 2.2952\n",
      "Test Loss: 2.2938\n",
      "Epoch 24:\n",
      "Train Loss: 2.2949\n",
      "Val Loss: 2.2947\n",
      "Test Loss: 2.2933\n"
     ]
    },
    {
     "name": "stderr",
     "output_type": "stream",
     "text": [
      "  0%|          | 26/10000 [00:04<31:03,  5.35it/s]"
     ]
    },
    {
     "name": "stdout",
     "output_type": "stream",
     "text": [
      "Epoch 25:\n",
      "Train Loss: 2.2985\n",
      "Val Loss: 2.2942\n",
      "Test Loss: 2.2928\n",
      "Epoch 26:\n",
      "Train Loss: 2.2932\n",
      "Val Loss: 2.2938\n",
      "Test Loss: 2.2923\n"
     ]
    },
    {
     "name": "stderr",
     "output_type": "stream",
     "text": [
      "  0%|          | 28/10000 [00:05<30:43,  5.41it/s]"
     ]
    },
    {
     "name": "stdout",
     "output_type": "stream",
     "text": [
      "Epoch 27:\n",
      "Train Loss: 2.3000\n",
      "Val Loss: 2.2933\n",
      "Test Loss: 2.2918\n",
      "Epoch 28:\n",
      "Train Loss: 2.2967\n",
      "Val Loss: 2.2928\n",
      "Test Loss: 2.2913\n"
     ]
    },
    {
     "name": "stderr",
     "output_type": "stream",
     "text": [
      "  0%|          | 30/10000 [00:05<31:00,  5.36it/s]"
     ]
    },
    {
     "name": "stdout",
     "output_type": "stream",
     "text": [
      "Epoch 29:\n",
      "Train Loss: 2.2970\n",
      "Val Loss: 2.2923\n",
      "Test Loss: 2.2907\n",
      "Epoch 30:\n",
      "Train Loss: 2.2950\n",
      "Val Loss: 2.2918\n",
      "Test Loss: 2.2902\n"
     ]
    },
    {
     "name": "stderr",
     "output_type": "stream",
     "text": [
      "  0%|          | 32/10000 [00:05<31:17,  5.31it/s]"
     ]
    },
    {
     "name": "stdout",
     "output_type": "stream",
     "text": [
      "Epoch 31:\n",
      "Train Loss: 2.2964\n",
      "Val Loss: 2.2912\n",
      "Test Loss: 2.2896\n",
      "Epoch 32:\n",
      "Train Loss: 2.2957\n",
      "Val Loss: 2.2907\n",
      "Test Loss: 2.2890\n"
     ]
    },
    {
     "name": "stderr",
     "output_type": "stream",
     "text": [
      "  0%|          | 34/10000 [00:06<31:08,  5.33it/s]"
     ]
    },
    {
     "name": "stdout",
     "output_type": "stream",
     "text": [
      "Epoch 33:\n",
      "Train Loss: 2.2944\n",
      "Val Loss: 2.2901\n",
      "Test Loss: 2.2884\n",
      "Epoch 34:\n",
      "Train Loss: 2.2921\n",
      "Val Loss: 2.2896\n",
      "Test Loss: 2.2878\n"
     ]
    },
    {
     "name": "stderr",
     "output_type": "stream",
     "text": [
      "  0%|          | 36/10000 [00:06<30:58,  5.36it/s]"
     ]
    },
    {
     "name": "stdout",
     "output_type": "stream",
     "text": [
      "Epoch 35:\n",
      "Train Loss: 2.2967\n",
      "Val Loss: 2.2890\n",
      "Test Loss: 2.2872\n",
      "Epoch 36:\n",
      "Train Loss: 2.2939\n",
      "Val Loss: 2.2884\n",
      "Test Loss: 2.2865\n"
     ]
    },
    {
     "name": "stderr",
     "output_type": "stream",
     "text": [
      "  0%|          | 38/10000 [00:07<31:19,  5.30it/s]"
     ]
    },
    {
     "name": "stdout",
     "output_type": "stream",
     "text": [
      "Epoch 37:\n",
      "Train Loss: 2.2930\n",
      "Val Loss: 2.2878\n",
      "Test Loss: 2.2859\n",
      "Epoch 38:\n",
      "Train Loss: 2.2939\n",
      "Val Loss: 2.2872\n",
      "Test Loss: 2.2853\n"
     ]
    },
    {
     "name": "stderr",
     "output_type": "stream",
     "text": [
      "  0%|          | 40/10000 [00:07<31:11,  5.32it/s]"
     ]
    },
    {
     "name": "stdout",
     "output_type": "stream",
     "text": [
      "Epoch 39:\n",
      "Train Loss: 2.2909\n",
      "Val Loss: 2.2866\n",
      "Test Loss: 2.2846\n",
      "Epoch 40:\n",
      "Train Loss: 2.2872\n",
      "Val Loss: 2.2860\n",
      "Test Loss: 2.2839\n"
     ]
    },
    {
     "name": "stderr",
     "output_type": "stream",
     "text": [
      "  0%|          | 42/10000 [00:07<30:59,  5.35it/s]"
     ]
    },
    {
     "name": "stdout",
     "output_type": "stream",
     "text": [
      "Epoch 41:\n",
      "Train Loss: 2.2928\n",
      "Val Loss: 2.2853\n",
      "Test Loss: 2.2831\n",
      "Epoch 42:\n",
      "Train Loss: 2.2888\n",
      "Val Loss: 2.2846\n",
      "Test Loss: 2.2823\n"
     ]
    },
    {
     "name": "stderr",
     "output_type": "stream",
     "text": [
      "  0%|          | 44/10000 [00:08<30:44,  5.40it/s]"
     ]
    },
    {
     "name": "stdout",
     "output_type": "stream",
     "text": [
      "Epoch 43:\n",
      "Train Loss: 2.2886\n",
      "Val Loss: 2.2838\n",
      "Test Loss: 2.2815\n",
      "Epoch 44:\n",
      "Train Loss: 2.2864\n",
      "Val Loss: 2.2831\n",
      "Test Loss: 2.2807\n"
     ]
    },
    {
     "name": "stderr",
     "output_type": "stream",
     "text": [
      "  0%|          | 46/10000 [00:08<30:40,  5.41it/s]"
     ]
    },
    {
     "name": "stdout",
     "output_type": "stream",
     "text": [
      "Epoch 45:\n",
      "Train Loss: 2.2835\n",
      "Val Loss: 2.2823\n",
      "Test Loss: 2.2799\n",
      "Epoch 46:\n",
      "Train Loss: 2.2930\n",
      "Val Loss: 2.2815\n",
      "Test Loss: 2.2790\n"
     ]
    },
    {
     "name": "stderr",
     "output_type": "stream",
     "text": [
      "  0%|          | 48/10000 [00:08<30:44,  5.40it/s]"
     ]
    },
    {
     "name": "stdout",
     "output_type": "stream",
     "text": [
      "Epoch 47:\n",
      "Train Loss: 2.2861\n",
      "Val Loss: 2.2807\n",
      "Test Loss: 2.2782\n",
      "Epoch 48:\n",
      "Train Loss: 2.2812\n",
      "Val Loss: 2.2799\n",
      "Test Loss: 2.2772\n"
     ]
    },
    {
     "name": "stderr",
     "output_type": "stream",
     "text": [
      "  0%|          | 50/10000 [00:09<30:31,  5.43it/s]"
     ]
    },
    {
     "name": "stdout",
     "output_type": "stream",
     "text": [
      "Epoch 49:\n",
      "Train Loss: 2.2817\n",
      "Val Loss: 2.2790\n",
      "Test Loss: 2.2763\n",
      "Epoch 50:\n",
      "Train Loss: 2.2823\n",
      "Val Loss: 2.2780\n",
      "Test Loss: 2.2752\n"
     ]
    },
    {
     "name": "stderr",
     "output_type": "stream",
     "text": [
      "  1%|          | 52/10000 [00:09<30:26,  5.45it/s]"
     ]
    },
    {
     "name": "stdout",
     "output_type": "stream",
     "text": [
      "Epoch 51:\n",
      "Train Loss: 2.2817\n",
      "Val Loss: 2.2771\n",
      "Test Loss: 2.2742\n",
      "Epoch 52:\n",
      "Train Loss: 2.2816\n",
      "Val Loss: 2.2761\n",
      "Test Loss: 2.2731\n"
     ]
    },
    {
     "name": "stderr",
     "output_type": "stream",
     "text": [
      "  1%|          | 54/10000 [00:10<30:40,  5.40it/s]"
     ]
    },
    {
     "name": "stdout",
     "output_type": "stream",
     "text": [
      "Epoch 53:\n",
      "Train Loss: 2.2829\n",
      "Val Loss: 2.2751\n",
      "Test Loss: 2.2721\n",
      "Epoch 54:\n",
      "Train Loss: 2.2804\n",
      "Val Loss: 2.2741\n",
      "Test Loss: 2.2710\n"
     ]
    },
    {
     "name": "stderr",
     "output_type": "stream",
     "text": [
      "  1%|          | 56/10000 [00:10<30:47,  5.38it/s]"
     ]
    },
    {
     "name": "stdout",
     "output_type": "stream",
     "text": [
      "Epoch 55:\n",
      "Train Loss: 2.2804\n",
      "Val Loss: 2.2730\n",
      "Test Loss: 2.2698\n",
      "Epoch 56:\n",
      "Train Loss: 2.2798\n",
      "Val Loss: 2.2719\n",
      "Test Loss: 2.2686\n"
     ]
    },
    {
     "name": "stderr",
     "output_type": "stream",
     "text": [
      "  1%|          | 58/10000 [00:10<31:01,  5.34it/s]"
     ]
    },
    {
     "name": "stdout",
     "output_type": "stream",
     "text": [
      "Epoch 57:\n",
      "Train Loss: 2.2781\n",
      "Val Loss: 2.2708\n",
      "Test Loss: 2.2674\n",
      "Epoch 58:\n",
      "Train Loss: 2.2807\n",
      "Val Loss: 2.2695\n",
      "Test Loss: 2.2661\n"
     ]
    },
    {
     "name": "stderr",
     "output_type": "stream",
     "text": [
      "  1%|          | 60/10000 [00:11<30:51,  5.37it/s]"
     ]
    },
    {
     "name": "stdout",
     "output_type": "stream",
     "text": [
      "Epoch 59:\n",
      "Train Loss: 2.2783\n",
      "Val Loss: 2.2683\n",
      "Test Loss: 2.2648\n",
      "Epoch 60:\n",
      "Train Loss: 2.2769\n",
      "Val Loss: 2.2671\n",
      "Test Loss: 2.2634\n"
     ]
    },
    {
     "name": "stderr",
     "output_type": "stream",
     "text": [
      "  1%|          | 62/10000 [00:11<31:22,  5.28it/s]"
     ]
    },
    {
     "name": "stdout",
     "output_type": "stream",
     "text": [
      "Epoch 61:\n",
      "Train Loss: 2.2798\n",
      "Val Loss: 2.2658\n",
      "Test Loss: 2.2621\n",
      "Epoch 62:\n",
      "Train Loss: 2.2713\n",
      "Val Loss: 2.2645\n",
      "Test Loss: 2.2607\n"
     ]
    },
    {
     "name": "stderr",
     "output_type": "stream",
     "text": [
      "  1%|          | 64/10000 [00:11<31:10,  5.31it/s]"
     ]
    },
    {
     "name": "stdout",
     "output_type": "stream",
     "text": [
      "Epoch 63:\n",
      "Train Loss: 2.2731\n",
      "Val Loss: 2.2632\n",
      "Test Loss: 2.2593\n",
      "Epoch 64:\n",
      "Train Loss: 2.2745\n",
      "Val Loss: 2.2618\n",
      "Test Loss: 2.2578\n"
     ]
    },
    {
     "name": "stderr",
     "output_type": "stream",
     "text": [
      "  1%|          | 66/10000 [00:12<31:06,  5.32it/s]"
     ]
    },
    {
     "name": "stdout",
     "output_type": "stream",
     "text": [
      "Epoch 65:\n",
      "Train Loss: 2.2743\n",
      "Val Loss: 2.2604\n",
      "Test Loss: 2.2563\n",
      "Epoch 66:\n",
      "Train Loss: 2.2682\n",
      "Val Loss: 2.2589\n",
      "Test Loss: 2.2547\n"
     ]
    },
    {
     "name": "stderr",
     "output_type": "stream",
     "text": [
      "  1%|          | 68/10000 [00:12<30:57,  5.35it/s]"
     ]
    },
    {
     "name": "stdout",
     "output_type": "stream",
     "text": [
      "Epoch 67:\n",
      "Train Loss: 2.2679\n",
      "Val Loss: 2.2574\n",
      "Test Loss: 2.2531\n",
      "Epoch 68:\n",
      "Train Loss: 2.2678\n",
      "Val Loss: 2.2559\n",
      "Test Loss: 2.2514\n"
     ]
    },
    {
     "name": "stderr",
     "output_type": "stream",
     "text": [
      "  1%|          | 70/10000 [00:13<30:43,  5.39it/s]"
     ]
    },
    {
     "name": "stdout",
     "output_type": "stream",
     "text": [
      "Epoch 69:\n",
      "Train Loss: 2.2731\n",
      "Val Loss: 2.2543\n",
      "Test Loss: 2.2497\n",
      "Epoch 70:\n",
      "Train Loss: 2.2658\n",
      "Val Loss: 2.2527\n",
      "Test Loss: 2.2479\n"
     ]
    },
    {
     "name": "stderr",
     "output_type": "stream",
     "text": [
      "  1%|          | 72/10000 [00:13<30:38,  5.40it/s]"
     ]
    },
    {
     "name": "stdout",
     "output_type": "stream",
     "text": [
      "Epoch 71:\n",
      "Train Loss: 2.2583\n",
      "Val Loss: 2.2510\n",
      "Test Loss: 2.2461\n",
      "Epoch 72:\n",
      "Train Loss: 2.2589\n",
      "Val Loss: 2.2492\n",
      "Test Loss: 2.2442\n"
     ]
    },
    {
     "name": "stderr",
     "output_type": "stream",
     "text": [
      "  1%|          | 73/10000 [00:13<31:02,  5.33it/s]"
     ]
    },
    {
     "name": "stdout",
     "output_type": "stream",
     "text": [
      "Epoch 73:\n",
      "Train Loss: 2.2546\n",
      "Val Loss: 2.2474\n",
      "Test Loss: 2.2422\n"
     ]
    },
    {
     "name": "stderr",
     "output_type": "stream",
     "text": [
      "  1%|          | 75/10000 [00:13<31:31,  5.25it/s]"
     ]
    },
    {
     "name": "stdout",
     "output_type": "stream",
     "text": [
      "Epoch 74:\n",
      "Train Loss: 2.2582\n",
      "Val Loss: 2.2455\n",
      "Test Loss: 2.2402\n",
      "Epoch 75:\n",
      "Train Loss: 2.2549\n",
      "Val Loss: 2.2436\n",
      "Test Loss: 2.2382\n"
     ]
    },
    {
     "name": "stderr",
     "output_type": "stream",
     "text": [
      "  1%|          | 77/10000 [00:14<31:11,  5.30it/s]"
     ]
    },
    {
     "name": "stdout",
     "output_type": "stream",
     "text": [
      "Epoch 76:\n",
      "Train Loss: 2.2495\n",
      "Val Loss: 2.2416\n",
      "Test Loss: 2.2361\n",
      "Epoch 77:\n",
      "Train Loss: 2.2580\n",
      "Val Loss: 2.2395\n",
      "Test Loss: 2.2339\n"
     ]
    },
    {
     "name": "stderr",
     "output_type": "stream",
     "text": [
      "  1%|          | 79/10000 [00:14<30:55,  5.35it/s]"
     ]
    },
    {
     "name": "stdout",
     "output_type": "stream",
     "text": [
      "Epoch 78:\n",
      "Train Loss: 2.2503\n",
      "Val Loss: 2.2374\n",
      "Test Loss: 2.2317\n",
      "Epoch 79:\n",
      "Train Loss: 2.2441\n",
      "Val Loss: 2.2352\n",
      "Test Loss: 2.2293\n"
     ]
    },
    {
     "name": "stderr",
     "output_type": "stream",
     "text": [
      "  1%|          | 81/10000 [00:15<30:38,  5.40it/s]"
     ]
    },
    {
     "name": "stdout",
     "output_type": "stream",
     "text": [
      "Epoch 80:\n",
      "Train Loss: 2.2463\n",
      "Val Loss: 2.2330\n",
      "Test Loss: 2.2269\n",
      "Epoch 81:\n",
      "Train Loss: 2.2414\n",
      "Val Loss: 2.2307\n",
      "Test Loss: 2.2245\n"
     ]
    },
    {
     "name": "stderr",
     "output_type": "stream",
     "text": [
      "  1%|          | 83/10000 [00:15<30:36,  5.40it/s]"
     ]
    },
    {
     "name": "stdout",
     "output_type": "stream",
     "text": [
      "Epoch 82:\n",
      "Train Loss: 2.2457\n",
      "Val Loss: 2.2284\n",
      "Test Loss: 2.2220\n",
      "Epoch 83:\n",
      "Train Loss: 2.2390\n",
      "Val Loss: 2.2260\n",
      "Test Loss: 2.2195\n"
     ]
    },
    {
     "name": "stderr",
     "output_type": "stream",
     "text": [
      "  1%|          | 85/10000 [00:15<30:45,  5.37it/s]"
     ]
    },
    {
     "name": "stdout",
     "output_type": "stream",
     "text": [
      "Epoch 84:\n",
      "Train Loss: 2.2407\n",
      "Val Loss: 2.2236\n",
      "Test Loss: 2.2169\n",
      "Epoch 85:\n",
      "Train Loss: 2.2345\n",
      "Val Loss: 2.2212\n",
      "Test Loss: 2.2143\n"
     ]
    },
    {
     "name": "stderr",
     "output_type": "stream",
     "text": [
      "  1%|          | 87/10000 [00:16<30:35,  5.40it/s]"
     ]
    },
    {
     "name": "stdout",
     "output_type": "stream",
     "text": [
      "Epoch 86:\n",
      "Train Loss: 2.2433\n",
      "Val Loss: 2.2188\n",
      "Test Loss: 2.2117\n",
      "Epoch 87:\n",
      "Train Loss: 2.2295\n",
      "Val Loss: 2.2164\n",
      "Test Loss: 2.2091\n"
     ]
    },
    {
     "name": "stderr",
     "output_type": "stream",
     "text": [
      "  1%|          | 89/10000 [00:16<30:38,  5.39it/s]"
     ]
    },
    {
     "name": "stdout",
     "output_type": "stream",
     "text": [
      "Epoch 88:\n",
      "Train Loss: 2.2348\n",
      "Val Loss: 2.2138\n",
      "Test Loss: 2.2064\n",
      "Epoch 89:\n",
      "Train Loss: 2.2252\n",
      "Val Loss: 2.2113\n",
      "Test Loss: 2.2037\n"
     ]
    },
    {
     "name": "stderr",
     "output_type": "stream",
     "text": [
      "  1%|          | 91/10000 [00:16<30:36,  5.40it/s]"
     ]
    },
    {
     "name": "stdout",
     "output_type": "stream",
     "text": [
      "Epoch 90:\n",
      "Train Loss: 2.2236\n",
      "Val Loss: 2.2088\n",
      "Test Loss: 2.2009\n",
      "Epoch 91:\n",
      "Train Loss: 2.2255\n",
      "Val Loss: 2.2062\n",
      "Test Loss: 2.1981\n"
     ]
    },
    {
     "name": "stderr",
     "output_type": "stream",
     "text": [
      "  1%|          | 93/10000 [00:17<30:51,  5.35it/s]"
     ]
    },
    {
     "name": "stdout",
     "output_type": "stream",
     "text": [
      "Epoch 92:\n",
      "Train Loss: 2.2191\n",
      "Val Loss: 2.2036\n",
      "Test Loss: 2.1953\n",
      "Epoch 93:\n",
      "Train Loss: 2.2156\n",
      "Val Loss: 2.2009\n",
      "Test Loss: 2.1924\n"
     ]
    },
    {
     "name": "stderr",
     "output_type": "stream",
     "text": [
      "  1%|          | 95/10000 [00:17<30:47,  5.36it/s]"
     ]
    },
    {
     "name": "stdout",
     "output_type": "stream",
     "text": [
      "Epoch 94:\n",
      "Train Loss: 2.2215\n",
      "Val Loss: 2.1982\n",
      "Test Loss: 2.1894\n",
      "Epoch 95:\n",
      "Train Loss: 2.2079\n",
      "Val Loss: 2.1955\n",
      "Test Loss: 2.1865\n"
     ]
    },
    {
     "name": "stderr",
     "output_type": "stream",
     "text": [
      "  1%|          | 97/10000 [00:18<30:22,  5.43it/s]"
     ]
    },
    {
     "name": "stdout",
     "output_type": "stream",
     "text": [
      "Epoch 96:\n",
      "Train Loss: 2.2119\n",
      "Val Loss: 2.1929\n",
      "Test Loss: 2.1835\n",
      "Epoch 97:\n",
      "Train Loss: 2.2094\n",
      "Val Loss: 2.1902\n",
      "Test Loss: 2.1806\n"
     ]
    },
    {
     "name": "stderr",
     "output_type": "stream",
     "text": [
      "  1%|          | 99/10000 [00:18<30:26,  5.42it/s]"
     ]
    },
    {
     "name": "stdout",
     "output_type": "stream",
     "text": [
      "Epoch 98:\n",
      "Train Loss: 2.2034\n",
      "Val Loss: 2.1875\n",
      "Test Loss: 2.1778\n",
      "Epoch 99:\n",
      "Train Loss: 2.2035\n",
      "Val Loss: 2.1849\n",
      "Test Loss: 2.1749\n"
     ]
    },
    {
     "name": "stderr",
     "output_type": "stream",
     "text": [
      "  1%|          | 101/10000 [00:18<30:18,  5.44it/s]"
     ]
    },
    {
     "name": "stdout",
     "output_type": "stream",
     "text": [
      "Epoch 100:\n",
      "Train Loss: 2.2010\n",
      "Val Loss: 2.1822\n",
      "Test Loss: 2.1720\n",
      "Epoch 101:\n",
      "Train Loss: 2.1919\n",
      "Val Loss: 2.1795\n",
      "Test Loss: 2.1691\n"
     ]
    },
    {
     "name": "stderr",
     "output_type": "stream",
     "text": [
      "  1%|          | 102/10000 [00:19<30:48,  5.35it/s]"
     ]
    },
    {
     "name": "stdout",
     "output_type": "stream",
     "text": [
      "Epoch 102:\n",
      "Train Loss: 2.1959\n",
      "Val Loss: 2.1769\n",
      "Test Loss: 2.1662\n"
     ]
    },
    {
     "name": "stderr",
     "output_type": "stream",
     "text": [
      "                                                   \r"
     ]
    },
    {
     "name": "stdout",
     "output_type": "stream",
     "text": [
      "Epoch 103:\n",
      "Train Loss: 2.2005\n",
      "Val Loss: 2.1743\n",
      "Test Loss: 2.1634\n"
     ]
    },
    {
     "name": "stderr",
     "output_type": "stream",
     "text": [
      "  1%|          | 105/10000 [00:19<32:02,  5.15it/s]"
     ]
    },
    {
     "name": "stdout",
     "output_type": "stream",
     "text": [
      "Epoch 104:\n",
      "Train Loss: 2.1814\n",
      "Val Loss: 2.1718\n",
      "Test Loss: 2.1605\n",
      "Epoch 105:\n",
      "Train Loss: 2.1762\n",
      "Val Loss: 2.1693\n",
      "Test Loss: 2.1577\n"
     ]
    },
    {
     "name": "stderr",
     "output_type": "stream",
     "text": [
      "  1%|          | 107/10000 [00:19<31:40,  5.21it/s]"
     ]
    },
    {
     "name": "stdout",
     "output_type": "stream",
     "text": [
      "Epoch 106:\n",
      "Train Loss: 2.1811\n",
      "Val Loss: 2.1668\n",
      "Test Loss: 2.1549\n",
      "Epoch 107:\n",
      "Train Loss: 2.1799\n",
      "Val Loss: 2.1644\n",
      "Test Loss: 2.1521\n"
     ]
    },
    {
     "name": "stderr",
     "output_type": "stream",
     "text": [
      "  1%|          | 109/10000 [00:20<30:50,  5.34it/s]"
     ]
    },
    {
     "name": "stdout",
     "output_type": "stream",
     "text": [
      "Epoch 108:\n",
      "Train Loss: 2.1747\n",
      "Val Loss: 2.1620\n",
      "Test Loss: 2.1495\n",
      "Epoch 109:\n",
      "Train Loss: 2.1701\n",
      "Val Loss: 2.1598\n",
      "Test Loss: 2.1469\n"
     ]
    },
    {
     "name": "stderr",
     "output_type": "stream",
     "text": [
      "  1%|          | 111/10000 [00:20<30:35,  5.39it/s]"
     ]
    },
    {
     "name": "stdout",
     "output_type": "stream",
     "text": [
      "Epoch 110:\n",
      "Train Loss: 2.1704\n",
      "Val Loss: 2.1576\n",
      "Test Loss: 2.1443\n",
      "Epoch 111:\n",
      "Train Loss: 2.1630\n",
      "Val Loss: 2.1555\n",
      "Test Loss: 2.1418\n"
     ]
    },
    {
     "name": "stderr",
     "output_type": "stream",
     "text": [
      "  1%|          | 113/10000 [00:21<30:37,  5.38it/s]"
     ]
    },
    {
     "name": "stdout",
     "output_type": "stream",
     "text": [
      "Epoch 112:\n",
      "Train Loss: 2.1644\n",
      "Val Loss: 2.1534\n",
      "Test Loss: 2.1393\n",
      "Epoch 113:\n",
      "Train Loss: 2.1690\n",
      "Val Loss: 2.1514\n",
      "Test Loss: 2.1369\n"
     ]
    },
    {
     "name": "stderr",
     "output_type": "stream",
     "text": [
      "  1%|          | 115/10000 [00:21<31:12,  5.28it/s]"
     ]
    },
    {
     "name": "stdout",
     "output_type": "stream",
     "text": [
      "Epoch 114:\n",
      "Train Loss: 2.1652\n",
      "Val Loss: 2.1494\n",
      "Test Loss: 2.1346\n",
      "Epoch 115:\n",
      "Train Loss: 2.1630\n",
      "Val Loss: 2.1476\n",
      "Test Loss: 2.1324\n"
     ]
    },
    {
     "name": "stderr",
     "output_type": "stream",
     "text": [
      "  1%|          | 117/10000 [00:21<31:06,  5.29it/s]"
     ]
    },
    {
     "name": "stdout",
     "output_type": "stream",
     "text": [
      "Epoch 116:\n",
      "Train Loss: 2.1563\n",
      "Val Loss: 2.1458\n",
      "Test Loss: 2.1301\n",
      "Epoch 117:\n",
      "Train Loss: 2.1501\n",
      "Val Loss: 2.1440\n",
      "Test Loss: 2.1281\n"
     ]
    },
    {
     "name": "stderr",
     "output_type": "stream",
     "text": [
      "  1%|          | 119/10000 [00:22<31:28,  5.23it/s]"
     ]
    },
    {
     "name": "stdout",
     "output_type": "stream",
     "text": [
      "Epoch 118:\n",
      "Train Loss: 2.1554\n",
      "Val Loss: 2.1422\n",
      "Test Loss: 2.1259\n",
      "Epoch 119:\n",
      "Train Loss: 2.1450\n",
      "Val Loss: 2.1403\n",
      "Test Loss: 2.1236\n"
     ]
    },
    {
     "name": "stderr",
     "output_type": "stream",
     "text": [
      "  1%|          | 121/10000 [00:22<31:10,  5.28it/s]"
     ]
    },
    {
     "name": "stdout",
     "output_type": "stream",
     "text": [
      "Epoch 120:\n",
      "Train Loss: 2.1430\n",
      "Val Loss: 2.1385\n",
      "Test Loss: 2.1215\n",
      "Epoch 121:\n",
      "Train Loss: 2.1383\n",
      "Val Loss: 2.1366\n",
      "Test Loss: 2.1193\n"
     ]
    },
    {
     "name": "stderr",
     "output_type": "stream",
     "text": [
      "  1%|          | 123/10000 [00:22<31:16,  5.26it/s]"
     ]
    },
    {
     "name": "stdout",
     "output_type": "stream",
     "text": [
      "Epoch 122:\n",
      "Train Loss: 2.1485\n",
      "Val Loss: 2.1346\n",
      "Test Loss: 2.1171\n",
      "Epoch 123:\n",
      "Train Loss: 2.1354\n",
      "Val Loss: 2.1326\n",
      "Test Loss: 2.1148\n"
     ]
    },
    {
     "name": "stderr",
     "output_type": "stream",
     "text": [
      "  1%|▏         | 125/10000 [00:23<31:20,  5.25it/s]"
     ]
    },
    {
     "name": "stdout",
     "output_type": "stream",
     "text": [
      "Epoch 124:\n",
      "Train Loss: 2.1336\n",
      "Val Loss: 2.1307\n",
      "Test Loss: 2.1127\n",
      "Epoch 125:\n",
      "Train Loss: 2.1463\n",
      "Val Loss: 2.1291\n",
      "Test Loss: 2.1108\n"
     ]
    },
    {
     "name": "stderr",
     "output_type": "stream",
     "text": [
      "  1%|▏         | 127/10000 [00:23<31:04,  5.30it/s]"
     ]
    },
    {
     "name": "stdout",
     "output_type": "stream",
     "text": [
      "Epoch 126:\n",
      "Train Loss: 2.1381\n",
      "Val Loss: 2.1278\n",
      "Test Loss: 2.1093\n",
      "Epoch 127:\n",
      "Train Loss: 2.1413\n",
      "Val Loss: 2.1263\n",
      "Test Loss: 2.1075\n"
     ]
    },
    {
     "name": "stderr",
     "output_type": "stream",
     "text": [
      "  1%|▏         | 129/10000 [00:24<30:43,  5.35it/s]"
     ]
    },
    {
     "name": "stdout",
     "output_type": "stream",
     "text": [
      "Epoch 128:\n",
      "Train Loss: 2.1222\n",
      "Val Loss: 2.1250\n",
      "Test Loss: 2.1059\n",
      "Epoch 129:\n",
      "Train Loss: 2.1263\n",
      "Val Loss: 2.1237\n",
      "Test Loss: 2.1043\n"
     ]
    },
    {
     "name": "stderr",
     "output_type": "stream",
     "text": [
      "  1%|▏         | 131/10000 [00:24<30:34,  5.38it/s]"
     ]
    },
    {
     "name": "stdout",
     "output_type": "stream",
     "text": [
      "Epoch 130:\n",
      "Train Loss: 2.1242\n",
      "Val Loss: 2.1226\n",
      "Test Loss: 2.1029\n",
      "Epoch 131:\n",
      "Train Loss: 2.1159\n",
      "Val Loss: 2.1213\n",
      "Test Loss: 2.1015\n"
     ]
    },
    {
     "name": "stderr",
     "output_type": "stream",
     "text": [
      "  1%|▏         | 133/10000 [00:24<30:04,  5.47it/s]"
     ]
    },
    {
     "name": "stdout",
     "output_type": "stream",
     "text": [
      "Epoch 132:\n",
      "Train Loss: 2.1221\n",
      "Val Loss: 2.1204\n",
      "Test Loss: 2.1003\n",
      "Epoch 133:\n",
      "Train Loss: 2.1108\n",
      "Val Loss: 2.1191\n",
      "Test Loss: 2.0989\n"
     ]
    },
    {
     "name": "stderr",
     "output_type": "stream",
     "text": [
      "  1%|▏         | 135/10000 [00:25<29:49,  5.51it/s]"
     ]
    },
    {
     "name": "stdout",
     "output_type": "stream",
     "text": [
      "Epoch 134:\n",
      "Train Loss: 2.1255\n",
      "Val Loss: 2.1174\n",
      "Test Loss: 2.0972\n",
      "Epoch 135:\n",
      "Train Loss: 2.1121\n",
      "Val Loss: 2.1155\n",
      "Test Loss: 2.0953\n"
     ]
    },
    {
     "name": "stderr",
     "output_type": "stream",
     "text": [
      "  1%|▏         | 137/10000 [00:25<29:52,  5.50it/s]"
     ]
    },
    {
     "name": "stdout",
     "output_type": "stream",
     "text": [
      "Epoch 136:\n",
      "Train Loss: 2.1075\n",
      "Val Loss: 2.1136\n",
      "Test Loss: 2.0935\n",
      "Epoch 137:\n",
      "Train Loss: 2.1041\n",
      "Val Loss: 2.1117\n",
      "Test Loss: 2.0916\n"
     ]
    },
    {
     "name": "stderr",
     "output_type": "stream",
     "text": [
      "  1%|▏         | 139/10000 [00:25<30:20,  5.42it/s]"
     ]
    },
    {
     "name": "stdout",
     "output_type": "stream",
     "text": [
      "Epoch 138:\n",
      "Train Loss: 2.1007\n",
      "Val Loss: 2.1097\n",
      "Test Loss: 2.0898\n",
      "Epoch 139:\n",
      "Train Loss: 2.0970\n",
      "Val Loss: 2.1083\n",
      "Test Loss: 2.0884\n"
     ]
    },
    {
     "name": "stderr",
     "output_type": "stream",
     "text": [
      "  1%|▏         | 141/10000 [00:26<30:09,  5.45it/s]"
     ]
    },
    {
     "name": "stdout",
     "output_type": "stream",
     "text": [
      "Epoch 140:\n",
      "Train Loss: 2.0954\n",
      "Val Loss: 2.1068\n",
      "Test Loss: 2.0868\n",
      "Epoch 141:\n",
      "Train Loss: 2.1024\n",
      "Val Loss: 2.1058\n",
      "Test Loss: 2.0856\n"
     ]
    },
    {
     "name": "stderr",
     "output_type": "stream",
     "text": [
      "  1%|▏         | 143/10000 [00:26<29:58,  5.48it/s]"
     ]
    },
    {
     "name": "stdout",
     "output_type": "stream",
     "text": [
      "Epoch 142:\n",
      "Train Loss: 2.1053\n",
      "Val Loss: 2.1048\n",
      "Test Loss: 2.0843\n",
      "Epoch 143:\n",
      "Train Loss: 2.0884\n",
      "Val Loss: 2.1042\n",
      "Test Loss: 2.0833\n"
     ]
    },
    {
     "name": "stderr",
     "output_type": "stream",
     "text": [
      "  1%|▏         | 145/10000 [00:27<29:59,  5.48it/s]"
     ]
    },
    {
     "name": "stdout",
     "output_type": "stream",
     "text": [
      "Epoch 144:\n",
      "Train Loss: 2.0952\n",
      "Val Loss: 2.1032\n",
      "Test Loss: 2.0823\n",
      "Epoch 145:\n",
      "Train Loss: 2.0934\n",
      "Val Loss: 2.1015\n",
      "Test Loss: 2.0808\n"
     ]
    },
    {
     "name": "stderr",
     "output_type": "stream",
     "text": [
      "  1%|▏         | 147/10000 [00:27<29:58,  5.48it/s]"
     ]
    },
    {
     "name": "stdout",
     "output_type": "stream",
     "text": [
      "Epoch 146:\n",
      "Train Loss: 2.0836\n",
      "Val Loss: 2.1002\n",
      "Test Loss: 2.0796\n",
      "Epoch 147:\n",
      "Train Loss: 2.0834\n",
      "Val Loss: 2.0982\n",
      "Test Loss: 2.0776\n"
     ]
    },
    {
     "name": "stderr",
     "output_type": "stream",
     "text": [
      "  1%|▏         | 148/10000 [00:27<29:46,  5.52it/s]"
     ]
    },
    {
     "name": "stdout",
     "output_type": "stream",
     "text": [
      "Epoch 148:\n",
      "Train Loss: 2.1046\n",
      "Val Loss: 2.0970\n",
      "Test Loss: 2.0763\n"
     ]
    },
    {
     "name": "stderr",
     "output_type": "stream",
     "text": [
      "  2%|▏         | 150/10000 [00:27<30:56,  5.30it/s]"
     ]
    },
    {
     "name": "stdout",
     "output_type": "stream",
     "text": [
      "Epoch 149:\n",
      "Train Loss: 2.0834\n",
      "Val Loss: 2.0948\n",
      "Test Loss: 2.0745\n",
      "Epoch 150:\n",
      "Train Loss: 2.0842\n",
      "Val Loss: 2.0932\n",
      "Test Loss: 2.0730\n"
     ]
    },
    {
     "name": "stderr",
     "output_type": "stream",
     "text": [
      "  2%|▏         | 152/10000 [00:28<30:30,  5.38it/s]"
     ]
    },
    {
     "name": "stdout",
     "output_type": "stream",
     "text": [
      "Epoch 151:\n",
      "Train Loss: 2.0750\n",
      "Val Loss: 2.0917\n",
      "Test Loss: 2.0714\n",
      "Epoch 152:\n",
      "Train Loss: 2.0620\n",
      "Val Loss: 2.0907\n",
      "Test Loss: 2.0703\n"
     ]
    },
    {
     "name": "stderr",
     "output_type": "stream",
     "text": [
      "  2%|▏         | 154/10000 [00:28<30:09,  5.44it/s]"
     ]
    },
    {
     "name": "stdout",
     "output_type": "stream",
     "text": [
      "Epoch 153:\n",
      "Train Loss: 2.0793\n",
      "Val Loss: 2.0896\n",
      "Test Loss: 2.0689\n",
      "Epoch 154:\n",
      "Train Loss: 2.0608\n",
      "Val Loss: 2.0883\n",
      "Test Loss: 2.0672\n"
     ]
    },
    {
     "name": "stderr",
     "output_type": "stream",
     "text": [
      "  2%|▏         | 156/10000 [00:29<29:48,  5.50it/s]"
     ]
    },
    {
     "name": "stdout",
     "output_type": "stream",
     "text": [
      "Epoch 155:\n",
      "Train Loss: 2.0662\n",
      "Val Loss: 2.0863\n",
      "Test Loss: 2.0653\n",
      "Epoch 156:\n",
      "Train Loss: 2.0657\n",
      "Val Loss: 2.0848\n",
      "Test Loss: 2.0636\n"
     ]
    },
    {
     "name": "stderr",
     "output_type": "stream",
     "text": [
      "  2%|▏         | 158/10000 [00:29<29:50,  5.50it/s]"
     ]
    },
    {
     "name": "stdout",
     "output_type": "stream",
     "text": [
      "Epoch 157:\n",
      "Train Loss: 2.0584\n",
      "Val Loss: 2.0837\n",
      "Test Loss: 2.0623\n",
      "Epoch 158:\n",
      "Train Loss: 2.0585\n",
      "Val Loss: 2.0822\n",
      "Test Loss: 2.0610\n"
     ]
    },
    {
     "name": "stderr",
     "output_type": "stream",
     "text": [
      "  2%|▏         | 160/10000 [00:29<29:40,  5.53it/s]"
     ]
    },
    {
     "name": "stdout",
     "output_type": "stream",
     "text": [
      "Epoch 159:\n",
      "Train Loss: 2.0552\n",
      "Val Loss: 2.0807\n",
      "Test Loss: 2.0598\n",
      "Epoch 160:\n",
      "Train Loss: 2.0452\n",
      "Val Loss: 2.0791\n",
      "Test Loss: 2.0586\n"
     ]
    },
    {
     "name": "stderr",
     "output_type": "stream",
     "text": [
      "  2%|▏         | 162/10000 [00:30<29:36,  5.54it/s]"
     ]
    },
    {
     "name": "stdout",
     "output_type": "stream",
     "text": [
      "Epoch 161:\n",
      "Train Loss: 2.0448\n",
      "Val Loss: 2.0779\n",
      "Test Loss: 2.0576\n",
      "Epoch 162:\n",
      "Train Loss: 2.0536\n",
      "Val Loss: 2.0756\n",
      "Test Loss: 2.0558\n"
     ]
    },
    {
     "name": "stderr",
     "output_type": "stream",
     "text": [
      "  2%|▏         | 164/10000 [00:30<29:40,  5.52it/s]"
     ]
    },
    {
     "name": "stdout",
     "output_type": "stream",
     "text": [
      "Epoch 163:\n",
      "Train Loss: 2.0525\n",
      "Val Loss: 2.0742\n",
      "Test Loss: 2.0543\n",
      "Epoch 164:\n",
      "Train Loss: 2.0438\n",
      "Val Loss: 2.0730\n",
      "Test Loss: 2.0529\n"
     ]
    },
    {
     "name": "stderr",
     "output_type": "stream",
     "text": [
      "  2%|▏         | 166/10000 [00:30<29:47,  5.50it/s]"
     ]
    },
    {
     "name": "stdout",
     "output_type": "stream",
     "text": [
      "Epoch 165:\n",
      "Train Loss: 2.0511\n",
      "Val Loss: 2.0716\n",
      "Test Loss: 2.0515\n",
      "Epoch 166:\n",
      "Train Loss: 2.0420\n",
      "Val Loss: 2.0712\n",
      "Test Loss: 2.0506\n"
     ]
    },
    {
     "name": "stderr",
     "output_type": "stream",
     "text": [
      "  2%|▏         | 168/10000 [00:31<29:59,  5.46it/s]"
     ]
    },
    {
     "name": "stdout",
     "output_type": "stream",
     "text": [
      "Epoch 167:\n",
      "Train Loss: 2.0409\n",
      "Val Loss: 2.0700\n",
      "Test Loss: 2.0495\n",
      "Epoch 168:\n",
      "Train Loss: 2.0210\n",
      "Val Loss: 2.0691\n",
      "Test Loss: 2.0486\n"
     ]
    },
    {
     "name": "stderr",
     "output_type": "stream",
     "text": [
      "  2%|▏         | 170/10000 [00:31<29:48,  5.50it/s]"
     ]
    },
    {
     "name": "stdout",
     "output_type": "stream",
     "text": [
      "Epoch 169:\n",
      "Train Loss: 2.0330\n",
      "Val Loss: 2.0679\n",
      "Test Loss: 2.0474\n",
      "Epoch 170:\n",
      "Train Loss: 2.0296\n",
      "Val Loss: 2.0667\n",
      "Test Loss: 2.0462\n"
     ]
    },
    {
     "name": "stderr",
     "output_type": "stream",
     "text": [
      "  2%|▏         | 172/10000 [00:31<29:51,  5.48it/s]"
     ]
    },
    {
     "name": "stdout",
     "output_type": "stream",
     "text": [
      "Epoch 171:\n",
      "Train Loss: 2.0231\n",
      "Val Loss: 2.0655\n",
      "Test Loss: 2.0451\n",
      "Epoch 172:\n",
      "Train Loss: 2.0264\n",
      "Val Loss: 2.0653\n",
      "Test Loss: 2.0445\n"
     ]
    },
    {
     "name": "stderr",
     "output_type": "stream",
     "text": [
      "  2%|▏         | 174/10000 [00:32<29:45,  5.50it/s]"
     ]
    },
    {
     "name": "stdout",
     "output_type": "stream",
     "text": [
      "Epoch 173:\n",
      "Train Loss: 2.0273\n",
      "Val Loss: 2.0649\n",
      "Test Loss: 2.0436\n",
      "Epoch 174:\n",
      "Train Loss: 2.0296\n",
      "Val Loss: 2.0637\n",
      "Test Loss: 2.0422\n"
     ]
    },
    {
     "name": "stderr",
     "output_type": "stream",
     "text": [
      "  2%|▏         | 176/10000 [00:32<29:57,  5.46it/s]"
     ]
    },
    {
     "name": "stdout",
     "output_type": "stream",
     "text": [
      "Epoch 175:\n",
      "Train Loss: 2.0000\n",
      "Val Loss: 2.0614\n",
      "Test Loss: 2.0399\n",
      "Epoch 176:\n",
      "Train Loss: 2.0032\n",
      "Val Loss: 2.0600\n",
      "Test Loss: 2.0386\n"
     ]
    },
    {
     "name": "stderr",
     "output_type": "stream",
     "text": [
      "  2%|▏         | 178/10000 [00:33<29:46,  5.50it/s]"
     ]
    },
    {
     "name": "stdout",
     "output_type": "stream",
     "text": [
      "Epoch 177:\n",
      "Train Loss: 2.0181\n",
      "Val Loss: 2.0586\n",
      "Test Loss: 2.0373\n",
      "Epoch 178:\n",
      "Train Loss: 2.0114\n",
      "Val Loss: 2.0570\n",
      "Test Loss: 2.0357\n"
     ]
    },
    {
     "name": "stderr",
     "output_type": "stream",
     "text": [
      "  2%|▏         | 180/10000 [00:33<29:40,  5.52it/s]"
     ]
    },
    {
     "name": "stdout",
     "output_type": "stream",
     "text": [
      "Epoch 179:\n",
      "Train Loss: 2.0198\n",
      "Val Loss: 2.0552\n",
      "Test Loss: 2.0342\n",
      "Epoch 180:\n",
      "Train Loss: 2.0064\n",
      "Val Loss: 2.0532\n",
      "Test Loss: 2.0327\n"
     ]
    },
    {
     "name": "stderr",
     "output_type": "stream",
     "text": [
      "  2%|▏         | 182/10000 [00:33<29:42,  5.51it/s]"
     ]
    },
    {
     "name": "stdout",
     "output_type": "stream",
     "text": [
      "Epoch 181:\n",
      "Train Loss: 1.9917\n",
      "Val Loss: 2.0527\n",
      "Test Loss: 2.0323\n",
      "Epoch 182:\n",
      "Train Loss: 2.0085\n",
      "Val Loss: 2.0522\n",
      "Test Loss: 2.0318\n"
     ]
    },
    {
     "name": "stderr",
     "output_type": "stream",
     "text": [
      "  2%|▏         | 184/10000 [00:34<29:42,  5.51it/s]"
     ]
    },
    {
     "name": "stdout",
     "output_type": "stream",
     "text": [
      "Epoch 183:\n",
      "Train Loss: 1.9932\n",
      "Val Loss: 2.0512\n",
      "Test Loss: 2.0307\n",
      "Epoch 184:\n",
      "Train Loss: 2.0085\n",
      "Val Loss: 2.0495\n",
      "Test Loss: 2.0293\n"
     ]
    },
    {
     "name": "stderr",
     "output_type": "stream",
     "text": [
      "  2%|▏         | 186/10000 [00:34<29:38,  5.52it/s]"
     ]
    },
    {
     "name": "stdout",
     "output_type": "stream",
     "text": [
      "Epoch 185:\n",
      "Train Loss: 1.9845\n",
      "Val Loss: 2.0469\n",
      "Test Loss: 2.0274\n",
      "Epoch 186:\n",
      "Train Loss: 1.9866\n",
      "Val Loss: 2.0448\n",
      "Test Loss: 2.0261\n"
     ]
    },
    {
     "name": "stderr",
     "output_type": "stream",
     "text": [
      "  2%|▏         | 188/10000 [00:34<30:17,  5.40it/s]"
     ]
    },
    {
     "name": "stdout",
     "output_type": "stream",
     "text": [
      "Epoch 187:\n",
      "Train Loss: 2.0039\n",
      "Val Loss: 2.0431\n",
      "Test Loss: 2.0252\n",
      "Epoch 188:\n",
      "Train Loss: 1.9860\n",
      "Val Loss: 2.0409\n",
      "Test Loss: 2.0238\n"
     ]
    },
    {
     "name": "stderr",
     "output_type": "stream",
     "text": [
      "  2%|▏         | 190/10000 [00:35<29:51,  5.48it/s]"
     ]
    },
    {
     "name": "stdout",
     "output_type": "stream",
     "text": [
      "Epoch 189:\n",
      "Train Loss: 1.9731\n",
      "Val Loss: 2.0403\n",
      "Test Loss: 2.0227\n",
      "Epoch 190:\n",
      "Train Loss: 1.9861\n",
      "Val Loss: 2.0409\n",
      "Test Loss: 2.0222\n"
     ]
    },
    {
     "name": "stderr",
     "output_type": "stream",
     "text": [
      "  2%|▏         | 192/10000 [00:35<29:45,  5.49it/s]"
     ]
    },
    {
     "name": "stdout",
     "output_type": "stream",
     "text": [
      "Epoch 191:\n",
      "Train Loss: 1.9853\n",
      "Val Loss: 2.0412\n",
      "Test Loss: 2.0217\n",
      "Epoch 192:\n",
      "Train Loss: 1.9635\n",
      "Val Loss: 2.0415\n",
      "Test Loss: 2.0212\n"
     ]
    },
    {
     "name": "stderr",
     "output_type": "stream",
     "text": [
      "  2%|▏         | 194/10000 [00:35<29:41,  5.50it/s]"
     ]
    },
    {
     "name": "stdout",
     "output_type": "stream",
     "text": [
      "Epoch 193:\n",
      "Train Loss: 1.9709\n",
      "Val Loss: 2.0403\n",
      "Test Loss: 2.0204\n",
      "Epoch 194:\n",
      "Train Loss: 1.9738\n",
      "Val Loss: 2.0379\n",
      "Test Loss: 2.0185\n"
     ]
    },
    {
     "name": "stderr",
     "output_type": "stream",
     "text": [
      "  2%|▏         | 196/10000 [00:36<29:50,  5.47it/s]"
     ]
    },
    {
     "name": "stdout",
     "output_type": "stream",
     "text": [
      "Epoch 195:\n",
      "Train Loss: 1.9723\n",
      "Val Loss: 2.0361\n",
      "Test Loss: 2.0169\n",
      "Epoch 196:\n",
      "Train Loss: 1.9754\n",
      "Val Loss: 2.0355\n",
      "Test Loss: 2.0160\n"
     ]
    },
    {
     "name": "stderr",
     "output_type": "stream",
     "text": [
      "  2%|▏         | 197/10000 [00:36<29:49,  5.48it/s]"
     ]
    },
    {
     "name": "stdout",
     "output_type": "stream",
     "text": [
      "Epoch 197:\n",
      "Train Loss: 1.9634\n",
      "Val Loss: 2.0354\n",
      "Test Loss: 2.0152\n"
     ]
    },
    {
     "name": "stderr",
     "output_type": "stream",
     "text": [
      "  2%|▏         | 199/10000 [00:36<31:20,  5.21it/s]"
     ]
    },
    {
     "name": "stdout",
     "output_type": "stream",
     "text": [
      "Epoch 198:\n",
      "Train Loss: 1.9683\n",
      "Val Loss: 2.0356\n",
      "Test Loss: 2.0146\n",
      "Epoch 199:\n",
      "Train Loss: 1.9519\n",
      "Val Loss: 2.0354\n",
      "Test Loss: 2.0132\n"
     ]
    },
    {
     "name": "stderr",
     "output_type": "stream",
     "text": [
      "  2%|▏         | 201/10000 [00:37<31:07,  5.25it/s]"
     ]
    },
    {
     "name": "stdout",
     "output_type": "stream",
     "text": [
      "Epoch 200:\n",
      "Train Loss: 1.9497\n",
      "Val Loss: 2.0345\n",
      "Test Loss: 2.0121\n",
      "Epoch 201:\n",
      "Train Loss: 1.9423\n",
      "Val Loss: 2.0323\n",
      "Test Loss: 2.0109\n"
     ]
    },
    {
     "name": "stderr",
     "output_type": "stream",
     "text": [
      "  2%|▏         | 203/10000 [00:37<30:16,  5.39it/s]"
     ]
    },
    {
     "name": "stdout",
     "output_type": "stream",
     "text": [
      "Epoch 202:\n",
      "Train Loss: 1.9611\n",
      "Val Loss: 2.0312\n",
      "Test Loss: 2.0107\n",
      "Epoch 203:\n",
      "Train Loss: 1.9452\n",
      "Val Loss: 2.0308\n",
      "Test Loss: 2.0110\n"
     ]
    },
    {
     "name": "stderr",
     "output_type": "stream",
     "text": [
      "  2%|▏         | 205/10000 [00:38<29:58,  5.45it/s]"
     ]
    },
    {
     "name": "stdout",
     "output_type": "stream",
     "text": [
      "Epoch 204:\n",
      "Train Loss: 1.9562\n",
      "Val Loss: 2.0319\n",
      "Test Loss: 2.0108\n",
      "Epoch 205:\n",
      "Train Loss: 1.9451\n",
      "Val Loss: 2.0352\n",
      "Test Loss: 2.0122\n"
     ]
    },
    {
     "name": "stderr",
     "output_type": "stream",
     "text": [
      "  2%|▏         | 207/10000 [00:38<29:49,  5.47it/s]"
     ]
    },
    {
     "name": "stdout",
     "output_type": "stream",
     "text": [
      "Epoch 206:\n",
      "Train Loss: 1.9465\n",
      "Val Loss: 2.0360\n",
      "Test Loss: 2.0125\n",
      "Epoch 207:\n",
      "Train Loss: 1.9377\n",
      "Val Loss: 2.0323\n",
      "Test Loss: 2.0094\n"
     ]
    },
    {
     "name": "stderr",
     "output_type": "stream",
     "text": [
      "  2%|▏         | 209/10000 [00:38<29:43,  5.49it/s]"
     ]
    },
    {
     "name": "stdout",
     "output_type": "stream",
     "text": [
      "Epoch 208:\n",
      "Train Loss: 1.9375\n",
      "Val Loss: 2.0288\n",
      "Test Loss: 2.0074\n",
      "Epoch 209:\n",
      "Train Loss: 1.9446\n",
      "Val Loss: 2.0275\n",
      "Test Loss: 2.0067\n"
     ]
    },
    {
     "name": "stderr",
     "output_type": "stream",
     "text": [
      "  2%|▏         | 211/10000 [00:39<29:41,  5.50it/s]"
     ]
    },
    {
     "name": "stdout",
     "output_type": "stream",
     "text": [
      "Epoch 210:\n",
      "Train Loss: 1.9316\n",
      "Val Loss: 2.0263\n",
      "Test Loss: 2.0056\n",
      "Epoch 211:\n",
      "Train Loss: 1.9351\n",
      "Val Loss: 2.0272\n",
      "Test Loss: 2.0050\n"
     ]
    },
    {
     "name": "stderr",
     "output_type": "stream",
     "text": [
      "  2%|▏         | 213/10000 [00:39<29:45,  5.48it/s]"
     ]
    },
    {
     "name": "stdout",
     "output_type": "stream",
     "text": [
      "Epoch 212:\n",
      "Train Loss: 1.9126\n",
      "Val Loss: 2.0302\n",
      "Test Loss: 2.0056\n",
      "Epoch 213:\n",
      "Train Loss: 1.9144\n",
      "Val Loss: 2.0323\n",
      "Test Loss: 2.0064\n"
     ]
    },
    {
     "name": "stderr",
     "output_type": "stream",
     "text": [
      "  2%|▏         | 214/10000 [00:39<30:23,  5.37it/s]"
     ]
    },
    {
     "name": "stdout",
     "output_type": "stream",
     "text": [
      "Epoch 214:\n",
      "Train Loss: 1.9232\n",
      "Val Loss: 2.0326\n",
      "Test Loss: 2.0064\n",
      "Epoch 215:\n",
      "Train Loss: 1.9467\n",
      "Val Loss: 2.0307\n",
      "Test Loss: 2.0050\n",
      "early stopping based on loss reduction when we compare to val dataset\n"
     ]
    },
    {
     "name": "stderr",
     "output_type": "stream",
     "text": [
      "\n"
     ]
    }
   ],
   "source": [
    "mlp = MLP(\n",
    "    input_size=32*32*3,\n",
    "    hidden_layers=hidden_layers,\n",
    "    num_classes=10,\n",
    "    activation_function=best_activation,\n",
    "    dropout_rate=dropout_rate,\n",
    "    use_batch_norm=use_batch_norm\n",
    ")\n",
    "# mlp.cpu()\n",
    "mlp.cuda()\n",
    "\n",
    "optimizer = torch.optim.Adam(mlp.parameters(), \n",
    "                             lr=study.best_params['learning_rate'], \n",
    "                             weight_decay=study.best_params['weight_decay'])\n",
    "\n",
    "best_val_loss = float('inf')\n",
    "patience = 5\n",
    "patience_counter = 0\n",
    "\n",
    "arr_losses_train = []\n",
    "arr_losses_test  = []\n",
    "arr_losses_val   = []\n",
    "\n",
    "# main loop\n",
    "num_epochs       = 10000\n",
    "for epoch in tqdm(range(num_epochs)):\n",
    "    mlp.train()\n",
    "    epoch_loss = 0.0\n",
    "    for i, (images, labels) in enumerate(train_loader):\n",
    "        images = images.view(-1, 32*32*3).cuda()\n",
    "        labels = labels.cuda()\n",
    "        optimizer.zero_grad()\n",
    "\n",
    "        # forward pass\n",
    "        outputs = mlp.forward(images)\n",
    "        loss = loss_function(outputs, labels)\n",
    "        loss.backward()\n",
    "        optimizer.step()\n",
    "\n",
    "        epoch_loss += loss.item()\n",
    "\n",
    "        if (i+1) % 1000 == 0:\n",
    "            tqdm.write(f' Epoch {epoch + 1}/{num_epochs}, Step {i+1}/{len(train_dataset) // study.best_params['batch_size']}, Loss: {loss}')\n",
    "\n",
    "    mlp.eval()\n",
    "    train_loss = epoch_loss/len(train_loader)\n",
    "    val_loss   = evaluate_model(mlp, val_loader, loss_function)\n",
    "    test_loss  = evaluate_model(mlp, test_loader, loss_function)\n",
    "\n",
    "    arr_losses_train.append(train_loss)\n",
    "    arr_losses_val.append(val_loss)\n",
    "    arr_losses_test.append(test_loss)\n",
    "\n",
    "    tqdm.write(f'Epoch {epoch+1}:')\n",
    "    tqdm.write(f'Train Loss: {train_loss:.4f}')\n",
    "    tqdm.write(f'Val Loss: {val_loss:.4f}')\n",
    "    tqdm.write(f'Test Loss: {test_loss:.4f}')\n",
    "\n",
    "\n",
    "    # early stopping \n",
    "    if val_loss < best_val_loss:\n",
    "        best_val_loss = val_loss\n",
    "        patience_counter = 0\n",
    "\n",
    "    else:\n",
    "        patience_counter += 1\n",
    "        if patience_counter >= patience:\n",
    "            tqdm.write(\"early stopping based on loss reduction when we compare to val dataset\")\n",
    "            break"
   ]
  },
  {
   "cell_type": "markdown",
   "id": "065ed6dc",
   "metadata": {},
   "source": [
    "# Evaluate best model"
   ]
  },
  {
   "cell_type": "code",
   "execution_count": 14,
   "id": "780ccdff",
   "metadata": {},
   "outputs": [
    {
     "data": {
      "image/png": "[encoded data removed]",
      "text/plain": [
       "<Figure size 640x480 with 1 Axes>"
      ]
     },
     "metadata": {},
     "output_type": "display_data"
    }
   ],
   "source": [
    "show_loss_through_epochs(arr_losses_train, arr_losses_test, arr_losses_val)"
   ]
  },
  {
   "cell_type": "code",
   "execution_count": 15,
   "id": "cc2d66f1",
   "metadata": {},
   "outputs": [
    {
     "name": "stderr",
     "output_type": "stream",
     "text": [
      "Clipping input data to the valid range for imshow with RGB data ([0..1] for floats or [0..255] for integers). Got range [-0.558952..1.7502832].\n",
      "Clipping input data to the valid range for imshow with RGB data ([0..1] for floats or [0..255] for integers). Got range [-0.5247024..1.7938564].\n",
      "Clipping input data to the valid range for imshow with RGB data ([0..1] for floats or [0..255] for integers). Got range [-0.558952..1.7502832].\n",
      "Clipping input data to the valid range for imshow with RGB data ([0..1] for floats or [0..255] for integers). Got range [-0.558952..1.8112855].\n",
      "Clipping input data to the valid range for imshow with RGB data ([0..1] for floats or [0..255] for integers). Got range [-0.5332649..1.82].\n",
      "Clipping input data to the valid range for imshow with RGB data ([0..1] for floats or [0..255] for integers). Got range [-0.44764107..1.7938564].\n",
      "Clipping input data to the valid range for imshow with RGB data ([0..1] for floats or [0..255] for integers). Got range [-0.24214405..1.6369936].\n",
      "Clipping input data to the valid range for imshow with RGB data ([0..1] for floats or [0..255] for integers). Got range [-0.49901533..1.4079132].\n",
      "Clipping input data to the valid range for imshow with RGB data ([0..1] for floats or [0..255] for integers). Got range [-0.4828431..1.2477095].\n",
      "Clipping input data to the valid range for imshow with RGB data ([0..1] for floats or [0..255] for integers). Got range [-0.55038965..1.82].\n",
      "/tmp/ipykernel_42601/3298405776.py:86: UserWarning: tight_layout not applied: number of columns in subplot specifications must be multiples of one another.\n",
      "  plt.tight_layout(h_pad=2)\n"
     ]
    },
    {
     "data": {
      "image/png": "[encoded data removed]",
      "text/plain": [
       "<Figure size 2400x2000 with 11 Axes>"
      ]
     },
     "metadata": {},
     "output_type": "display_data"
    }
   ],
   "source": [
    "show_predictions(mlp, test_loader, num_samples=5)"
   ]
  },
  {
   "cell_type": "code",
   "execution_count": 16,
   "id": "f0b8f37b",
   "metadata": {},
   "outputs": [
    {
     "name": "stdout",
     "output_type": "stream",
     "text": [
      "Scores of your model\n",
      " {'accuracy': 0.21, 'balanced_accuracy': np.float64(0.2188233533300532), 'f1_score': 0.12799800556197644, 'precision': 0.12360969001109298, 'recall': 0.21}\n",
      "\n",
      "\n"
     ]
    },
    {
     "name": "stderr",
     "output_type": "stream",
     "text": [
      "/home/eduardoamorim/Área de trabalho/cin_2025_1/NN/nn-exps/.venvNN/lib/python3.12/site-packages/sklearn/metrics/_classification.py:1565: UndefinedMetricWarning: Precision is ill-defined and being set to 0.0 in labels with no predicted samples. Use `zero_division` parameter to control this behavior.\n",
      "  _warn_prf(average, modifier, f\"{metric.capitalize()} is\", len(result))\n"
     ]
    }
   ],
   "source": [
    "mlp.eval()\n",
    "predictions = []\n",
    "labels = []\n",
    "\n",
    "for images, label in test_loader:\n",
    "  images = images.view(-1,32*32*3).cuda()\n",
    "  label = label.cuda()\n",
    "\n",
    "  output = mlp(images)\n",
    "  _, predicted = torch.max(output,1)\n",
    "\n",
    "  predictions.extend(predicted.cpu().numpy())\n",
    "  labels.extend(label.cpu().numpy())\n",
    "\n",
    "scores = get_scores(labels, predictions)\n",
    "print(f\"Scores of your model\\n {scores}\\n\\n\")"
   ]
  },
  {
   "cell_type": "code",
   "execution_count": 17,
   "id": "e6b4cbab",
   "metadata": {},
   "outputs": [
    {
     "name": "stdout",
     "output_type": "stream",
     "text": [
      "\n",
      " shape dataset teste -> 1000\n",
      "\n",
      "(repr x acc top1) por classe(conjunto teste):\n",
      "\n",
      "airplane:\n",
      "  Acurácia: 9.71%\n",
      "  Número de amostras: 103\n",
      "  Representatividade: 10.30%\n",
      "\n",
      "automobile:\n",
      "  Acurácia: 51.69%\n",
      "  Número de amostras: 89\n",
      "  Representatividade: 8.90%\n",
      "\n",
      "bird:\n",
      "  Acurácia: 0.00%\n",
      "  Número de amostras: 100\n",
      "  Representatividade: 10.00%\n",
      "\n",
      "cat:\n",
      "  Acurácia: 2.91%\n",
      "  Número de amostras: 103\n",
      "  Representatividade: 10.30%\n",
      "\n",
      "deer:\n",
      "  Acurácia: 56.67%\n",
      "  Número de amostras: 90\n",
      "  Representatividade: 9.00%\n",
      "\n",
      "dog:\n",
      "  Acurácia: 18.60%\n",
      "  Número de amostras: 86\n",
      "  Representatividade: 8.60%\n",
      "\n",
      "frog:\n",
      "  Acurácia: 0.00%\n",
      "  Número de amostras: 112\n",
      "  Representatividade: 11.20%\n",
      "\n",
      "horse:\n",
      "  Acurácia: 0.00%\n",
      "  Número de amostras: 102\n",
      "  Representatividade: 10.20%\n",
      "\n",
      "ship:\n",
      "  Acurácia: 79.25%\n",
      "  Número de amostras: 106\n",
      "  Representatividade: 10.60%\n",
      "\n",
      "truck:\n",
      "  Acurácia: 0.00%\n",
      "  Número de amostras: 109\n",
      "  Representatividade: 10.90%\n"
     ]
    }
   ],
   "source": [
    "classes = ['airplane', 'automobile', 'bird', 'cat', 'deer', \n",
    "           'dog', 'frog', 'horse', 'ship', 'truck'] # .venvNN/lib/python3.12/site-packages/torchvision/prototype/datasets/_builtin/cifar10.categories\n",
    "\n",
    "labels = np.array(labels)\n",
    "predictions = np.array(predictions)\n",
    "\n",
    "stats = {}\n",
    "\n",
    "print(f\"\\n shape dataset teste -> {len(test_dataset)}\")\n",
    "print(\"\\n(repr x acc top1) por classe(conjunto teste):\")\n",
    "\n",
    "for i in range(10):\n",
    "    mask = labels == i\n",
    "    class_acc = np.mean(predictions[mask] == labels[mask]) * 100\n",
    "    num_samples = np.sum(mask)\n",
    "    class_repr = (num_samples / len(labels)) * 100\n",
    "\n",
    "    stats[classes[i]] = {\n",
    "        'acuracia': f\"{class_acc:.2f}%\",\n",
    "        'num_amostras': num_samples,\n",
    "        'representatividade': f\"{class_repr:.2f}%\"\n",
    "    }\n",
    "\n",
    "for classe, metricas in stats.items():\n",
    "    print(f\"\\n{classe}:\")\n",
    "    print(f\"  Acurácia: {metricas['acuracia']}\")\n",
    "    print(f\"  Número de amostras: {metricas['num_amostras']}\")\n",
    "    print(f\"  Representatividade: {metricas['representatividade']}\")"
   ]
  }
 ],
 "metadata": {
  "kernelspec": {
   "display_name": ".venvNN",
   "language": "python",
   "name": "python3"
  },
  "language_info": {
   "codemirror_mode": {
    "name": "ipython",
    "version": 3
   },
   "file_extension": ".py",
   "mimetype": "text/x-python",
   "name": "python",
   "nbconvert_exporter": "python",
   "pygments_lexer": "ipython3",
   "version": "3.12.3"
  }
 },
 "nbformat": 4,
 "nbformat_minor": 5
}
