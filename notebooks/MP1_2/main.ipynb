{
 "cells": [
  {
   "cell_type": "markdown",
   "id": "a1449c2e",
   "metadata": {},
   "source": [
    "- coisas para add \n",
    "    - data augmentation DONE \n",
    "    - matriz de confusao  DONE \n",
    "    - acuracia ao longo do tempo DONE \n",
    "    - nova ativacao(leaky relu) DONE \n",
    "    - tamanho dos modelos e arquiteura final  DONE \n",
    "\n",
    "    - CNN DONE "
   ]
  },
  {
   "cell_type": "markdown",
   "id": "8dbb3dac",
   "metadata": {},
   "source": [
    "# Imports"
   ]
  },
  {
   "cell_type": "code",
   "execution_count": 18,
   "id": "49818bca",
   "metadata": {},
   "outputs": [],
   "source": [
    "import torch\n",
    "import torch.nn as nn\n",
    "import torchvision\n",
    "import torchvision.transforms as transforms\n",
    "\n",
    "import optuna \n",
    "\n",
    "import numpy as np\n",
    "\n",
    "from tqdm import tqdm\n",
    "\n",
    "import matplotlib.pyplot as plt\n",
    "\n",
    "from sklearn import metrics\n",
    "\n",
    "import seaborn as sns\n",
    "\n",
    "from torchinfo import summary"
   ]
  },
  {
   "cell_type": "markdown",
   "id": "6fbd66a4",
   "metadata": {},
   "source": [
    "# Helper functions and MLP class"
   ]
  },
  {
   "cell_type": "code",
   "execution_count": 19,
   "id": "60557936",
   "metadata": {},
   "outputs": [],
   "source": [
    "class CNN(nn.Module):\n",
    "    def __init__(self, num_conv_layers, conv_channels, kernel_sizes, num_fc_layers, fc_hidden_sizes, \n",
    "                 num_classes=10, activation_function=nn.ReLU(), dropout_rate=0.0, use_batch_norm=True, pool_frequency=2):\n",
    "        super(CNN, self).__init__()\n",
    "        self.activation_function = activation_function\n",
    "        self.dropout = nn.Dropout(p=dropout_rate)\n",
    "        self.use_batch_norm = use_batch_norm\n",
    "        self.pool_frequency = pool_frequency\n",
    "        \n",
    "    \n",
    "        self.conv_layers = nn.ModuleList()\n",
    "        self.conv_batch_norms = nn.ModuleList()\n",
    "        \n",
    "        in_channels = 3\n",
    "        for i in range(num_conv_layers):\n",
    "            out_channels = conv_channels[i]\n",
    "            kernel_size = kernel_sizes[i]\n",
    "            padding = kernel_size // 2 \n",
    "            \n",
    "            self.conv_layers.append(nn.Conv2d(in_channels, out_channels, kernel_size, padding=padding))\n",
    "            \n",
    "            if use_batch_norm:\n",
    "                self.conv_batch_norms.append(nn.BatchNorm2d(out_channels))\n",
    "                \n",
    "            in_channels = out_channels\n",
    "        \n",
    "    \n",
    "        self.pool = nn.MaxPool2d(kernel_size=2, stride=2)\n",
    "        \n",
    "    \n",
    "        self.conv_output_size = self._calculate_conv_output_size()\n",
    "        \n",
    "    \n",
    "        self.fc_layers = nn.ModuleList()\n",
    "        self.fc_batch_norms = nn.ModuleList()\n",
    "        \n",
    "        fc_sizes = [self.conv_output_size] + fc_hidden_sizes + [num_classes]\n",
    "        for i in range(len(fc_sizes) - 1):\n",
    "            self.fc_layers.append(nn.Linear(fc_sizes[i], fc_sizes[i+1]))\n",
    "            \n",
    "            if use_batch_norm and i < len(fc_sizes) - 2:\n",
    "                self.fc_batch_norms.append(nn.BatchNorm1d(fc_sizes[i+1]))\n",
    "    \n",
    "    def _calculate_conv_output_size(self):\n",
    "        \"\"\"Calcula dinamicamente o tamanho da saída das camadas convolucionais\"\"\"\n",
    "        \n",
    "        with torch.no_grad():\n",
    "            x = torch.randn(1, 3, 32, 32)  \n",
    "            \n",
    "            \n",
    "            for i, conv_layer in enumerate(self.conv_layers):\n",
    "                x = conv_layer(x)\n",
    "                \n",
    "                if (i + 1) % self.pool_frequency == 0:\n",
    "                    x = self.pool(x)\n",
    "            \n",
    "            \n",
    "            return x.view(1, -1).size(1)\n",
    "    \n",
    "    def forward(self, x):\n",
    "\n",
    "        for i, conv_layer in enumerate(self.conv_layers):\n",
    "            x = conv_layer(x)\n",
    "            \n",
    "            if self.use_batch_norm and i < len(self.conv_batch_norms):\n",
    "                x = self.conv_batch_norms[i](x)\n",
    "                \n",
    "            x = self.activation_function(x)\n",
    "            \n",
    "            \n",
    "            if (i + 1) % self.pool_frequency == 0:\n",
    "                x = self.pool(x)\n",
    "                \n",
    "            x = self.dropout(x)\n",
    "        \n",
    "     \n",
    "        x = x.view(x.size(0), -1)\n",
    "    \n",
    "        for i, fc_layer in enumerate(self.fc_layers[:-1]):\n",
    "            x = fc_layer(x)\n",
    "            \n",
    "            if self.use_batch_norm and i < len(self.fc_batch_norms):\n",
    "                x = self.fc_batch_norms[i](x)\n",
    "                \n",
    "            x = self.activation_function(x)\n",
    "            x = self.dropout(x)\n",
    "        \n",
    "        x = self.fc_layers[-1](x)\n",
    "        return x"
   ]
  },
  {
   "cell_type": "code",
   "execution_count": 20,
   "id": "d3da68d5",
   "metadata": {},
   "outputs": [],
   "source": [
    "def get_scores(targets, predictions):\n",
    "    return {\n",
    "        \"accuracy\"         : metrics.accuracy_score(targets, predictions),\n",
    "        \"balanced_accuracy\": metrics.balanced_accuracy_score(targets, predictions),\n",
    "        \"f1_score\"         : metrics.f1_score(targets, predictions, average=\"weighted\"),\n",
    "        \"precision\"        : metrics.precision_score(targets, predictions, average=\"weighted\"),\n",
    "        \"recall\"           : metrics.recall_score(targets, predictions, average=\"weighted\"),\n",
    "        \"f1_score\"         : metrics.f1_score(targets, predictions, average=\"weighted\")\n",
    "    }\n",
    "\n",
    "def evaluate_model(model, data_loader, loss_function):\n",
    "    model.eval()\n",
    "    total_loss = 0.0\n",
    "    with torch.no_grad():\n",
    "        for images, labels in data_loader:\n",
    "            images = images.cuda()  \n",
    "            labels = labels.cuda()\n",
    "            outputs = model(images)\n",
    "            loss = loss_function(outputs, labels)\n",
    "            total_loss += loss.item()\n",
    "\n",
    "    return total_loss / len(data_loader)\n",
    "\n",
    "def evaluate_accuracy(model, data_loader):\n",
    "    model.eval()\n",
    "    correct = 0\n",
    "    total = 0\n",
    "    with torch.no_grad():\n",
    "        for images, labels in data_loader:\n",
    "            images = images.cuda() \n",
    "            labels = labels.cuda()\n",
    "            outputs = model(images)\n",
    "            _, predicted = torch.max(outputs.data, 1)\n",
    "            total += labels.size(0)\n",
    "            correct += (predicted == labels).sum().item()\n",
    "    \n",
    "    return correct / total\n",
    "\n",
    "def show_loss_through_epochs(arr_losses_train, arr_losses_test, arr_losses_val):\n",
    "    plt.plot(arr_losses_train, label = \"train loss\")\n",
    "    plt.plot(arr_losses_val, label = \"val loss\")\n",
    "    plt.plot(arr_losses_test, label = \"test loss\")\n",
    "    plt.xlabel(\"epoch\")\n",
    "    plt.ylabel(\"loss\")\n",
    "    plt.grid()\n",
    "    plt.legend()\n",
    "    return None\n",
    "\n",
    "def show_accuracy_through_epochs(arr_acc_train, arr_acc_test, arr_acc_val):\n",
    "    plt.plot(arr_acc_train, label = \"train accuracy\")\n",
    "    plt.plot(arr_acc_val, label = \"val accuracy\")\n",
    "    plt.plot(arr_acc_test, label = \"test accuracy\")\n",
    "    plt.xlabel(\"epoch\")\n",
    "    plt.ylabel(\"accuracy\")\n",
    "    plt.grid()\n",
    "    plt.legend()\n",
    "    return None\n",
    "\n",
    "def show_predictions(model, dataloader, num_samples):\n",
    "    model.eval()\n",
    "    correct_samples = []\n",
    "    wrong_samples = []\n",
    "\n",
    "    classes = ['airplane', 'automobile', 'bird', 'cat', 'deer',\n",
    "               'dog', 'frog', 'horse', 'ship', 'truck']\n",
    "    \n",
    "    with torch.no_grad():\n",
    "        for images, labels in dataloader:\n",
    "            original_images = images\n",
    "\n",
    "            images = images.cuda()\n",
    "            labels = labels.cuda()\n",
    "\n",
    "            outputs = model.forward(images)\n",
    "            _, predicted = torch.max(outputs.data, 1)\n",
    "\n",
    "            for i in range(len(labels)):\n",
    "                pred = predicted[i].cpu().item()\n",
    "                true = labels[i].cpu().item()\n",
    "                img = original_images[i]\n",
    "\n",
    "                if pred == true and len(correct_samples) < num_samples:\n",
    "                    correct_samples.append((img, pred, true))\n",
    "                elif pred != true and len(wrong_samples) < num_samples:\n",
    "                    wrong_samples.append((img, pred, true))\n",
    "\n",
    "                if len(correct_samples) >= num_samples and len(wrong_samples) >= num_samples:\n",
    "                    break\n",
    "\n",
    "    plt.figure(figsize=(24, 20))\n",
    "    \n",
    "    plt.subplot(1, 2, 1)\n",
    "    # acertos\n",
    "    for idx, (img, pred, true) in enumerate(correct_samples):\n",
    "        plt.subplot(2, num_samples, idx + 1)\n",
    "        img = img.permute(1, 2, 0)  \n",
    "        img = img * 0.5 + 0.5 \n",
    "        plt.imshow(img)\n",
    "        plt.title(f'Correto!\\nPred: {classes[pred]}\\nTrue: {classes[true]}')\n",
    "        plt.axis('off')\n",
    "\n",
    "    # erros\n",
    "    for idx, (img, pred, true) in enumerate(wrong_samples):\n",
    "        plt.subplot(2, num_samples, idx + num_samples + 1)\n",
    "        img = img.permute(1, 2, 0)\n",
    "        img = img * 0.5 + 0.5\n",
    "        plt.imshow(img)\n",
    "        plt.title(f'Erro!\\nPred: {classes[pred]}\\nTrue: {classes[true]}')\n",
    "        plt.axis('off')\n",
    "    \n",
    "    plt.tight_layout(h_pad=2)\n",
    "    plt.show()\n",
    "\n",
    "    return None\n",
    "\n",
    "def objective(trial):\n",
    "    global train_dataset_global, validation_dataset_global\n",
    "\n",
    "    activation_name = trial.suggest_categorical('activation', ['ReLU', 'Sigmoid', 'Tanh', 'LeakyReLU'])\n",
    "    activation_functions = {\n",
    "        'ReLU': nn.ReLU(),\n",
    "        'Sigmoid': nn.Sigmoid(),\n",
    "        'Tanh': nn.Tanh(),\n",
    "        'LeakyReLU' : nn.LeakyReLU()\n",
    "    }\n",
    "    activation_function = activation_functions[activation_name]\n",
    "    learning_rate = trial.suggest_float('learning_rate', 1e-5, 1e-2, log=True)\n",
    "    batch_size = trial.suggest_int('batch_size', 32, 512)\n",
    "\n",
    "    dropout_rate = trial.suggest_float('dropout_rate', 0.0, 0.5)\n",
    "    weight_decay = trial.suggest_float('weight_decay', 1e-5, 1e-2, log=True)\n",
    "    use_batch_norm = trial.suggest_categorical('use_batch_norm', [True, False])\n",
    "\n",
    "    num_conv_layers = trial.suggest_int('num_conv_layers', 2, 6)\n",
    "    \n",
    "    pool_frequency = trial.suggest_int('pool_frequency', 2, 3)  \n",
    "    \n",
    "    conv_channels = []\n",
    "    kernel_sizes = []\n",
    "    \n",
    "    for i in range(num_conv_layers):\n",
    "        if i == 0:\n",
    "            channels = trial.suggest_int(f'conv_channels_l{i}', 16, 64)\n",
    "        else:\n",
    "            prev_channels = conv_channels[i-1]\n",
    "            channels = trial.suggest_int(f'conv_channels_l{i}', prev_channels, min(prev_channels * 2, 256))\n",
    "            \n",
    "        kernel_size = trial.suggest_categorical(f'kernel_size_l{i}', [3, 5])\n",
    "        conv_channels.append(channels)\n",
    "        kernel_sizes.append(kernel_size)\n",
    "    \n",
    "\n",
    "    num_fc_layers = trial.suggest_int('num_fc_layers', 1, 3)\n",
    "    fc_hidden_sizes = []\n",
    "    for i in range(num_fc_layers):\n",
    "        fc_size = trial.suggest_int(f'fc_units_l{i}', 64, 512)\n",
    "        fc_hidden_sizes.append(fc_size)\n",
    "\n",
    "    num_classes = 10\n",
    "    loss_function = nn.CrossEntropyLoss()\n",
    "    \n",
    "    train_loader = torch.utils.data.DataLoader(\n",
    "        dataset=train_dataset_global, \n",
    "        batch_size=batch_size, \n",
    "        shuffle=True\n",
    "    )\n",
    "    val_loader = torch.utils.data.DataLoader(\n",
    "        dataset=validation_dataset_global, \n",
    "        batch_size=batch_size, \n",
    "        shuffle=False\n",
    "    )\n",
    "\n",
    "    try:\n",
    "        model = CNN(\n",
    "            num_conv_layers=num_conv_layers,\n",
    "            conv_channels=conv_channels,\n",
    "            kernel_sizes=kernel_sizes,\n",
    "            num_fc_layers=num_fc_layers,\n",
    "            fc_hidden_sizes=fc_hidden_sizes,\n",
    "            num_classes=num_classes,\n",
    "            activation_function=activation_function,\n",
    "            dropout_rate=dropout_rate,\n",
    "            use_batch_norm=use_batch_norm,\n",
    "            pool_frequency=pool_frequency  \n",
    "        ).cuda()\n",
    "        \n",
    "        with torch.no_grad():\n",
    "            test_input = torch.randn(2, 3, 32, 32).cuda()\n",
    "            test_output = model(test_input)\n",
    "            \n",
    "    except Exception as e:\n",
    "        print(f\"Erro na criação do modelo: {e}\")\n",
    "        return float('inf')\n",
    "    \n",
    "    optimizer = torch.optim.Adam(model.parameters(), lr=learning_rate, weight_decay=weight_decay)\n",
    "    \n",
    "    best_val_loss = float('inf')\n",
    "    patience = 7\n",
    "    patience_counter = 0\n",
    "    \n",
    "    try:\n",
    "        for epoch in range(100):  \n",
    "            model.train()\n",
    "            for images, labels in train_loader:\n",
    "                images = images.cuda()\n",
    "                labels = labels.cuda()\n",
    "                \n",
    "                optimizer.zero_grad()\n",
    "                outputs = model(images)\n",
    "                loss = loss_function(outputs, labels)\n",
    "                loss.backward()\n",
    "                optimizer.step()\n",
    "            \n",
    "            model.eval()\n",
    "            val_loss = evaluate_model(model, val_loader, loss_function)\n",
    "            \n",
    "            if val_loss < best_val_loss:\n",
    "                best_val_loss = val_loss\n",
    "                patience_counter = 0\n",
    "            else:\n",
    "                patience_counter += 1\n",
    "                \n",
    "            if patience_counter >= patience:\n",
    "                break\n",
    "                \n",
    "    except Exception as e:\n",
    "        print(f\"Erro no treinamento: {e}\")\n",
    "        return float('inf')\n",
    "    \n",
    "    return best_val_loss"
   ]
  },
  {
   "cell_type": "markdown",
   "id": "93b8922c",
   "metadata": {},
   "source": [
    "# Setup"
   ]
  },
  {
   "cell_type": "code",
   "execution_count": 21,
   "id": "25cc0de3",
   "metadata": {},
   "outputs": [],
   "source": [
    "transform_train = transforms.Compose([\n",
    "    transforms.RandomHorizontalFlip(p=0.5),\n",
    "    transforms.RandomRotation(degrees=10),\n",
    "    transforms.RandomCrop(32, padding=4),\n",
    "    transforms.ColorJitter(brightness=0.2, contrast=0.2, saturation=0.2, hue=0.1),\n",
    "    transforms.RandomAffine(degrees=0, translate=(0.1, 0.1)),\n",
    "    \n",
    "    transforms.ToTensor(),\n",
    "    transforms.Normalize(mean=[0.485, 0.456, 0.406], std=[0.229, 0.224, 0.225]) \n",
    "])\n",
    "\n",
    "transform_test = transforms.Compose([\n",
    "    transforms.ToTensor(),\n",
    "    transforms.Normalize(mean=[0.485, 0.456, 0.406], std=[0.229, 0.224, 0.225])\n",
    "])\n",
    "\n",
    "train_dataset = torchvision.datasets.CIFAR10(root='./data', train=True, download=True, transform=transform_train)\n",
    "test_dataset = torchvision.datasets.CIFAR10(root='./data', train=False, download=True, transform=transform_test)\n",
    "\n",
    "train_size = int(0.8 * len(train_dataset))\n",
    "val_size = len(train_dataset) - train_size\n",
    "\n",
    "train_dataset, validation_dataset = torch.utils.data.random_split(train_dataset, [train_size, val_size])\n",
    "\n",
    "validation_dataset.dataset.transform = transform_test"
   ]
  },
  {
   "cell_type": "code",
   "execution_count": 22,
   "id": "96dfadbb",
   "metadata": {},
   "outputs": [],
   "source": [
    "# just to run fast\n",
    "subset_sample      = 2000\n",
    "\n",
    "train_dataset      = torch.utils.data.Subset(train_dataset, range(subset_sample))\n",
    "validation_dataset = torch.utils.data.Subset(validation_dataset, range(subset_sample))\n",
    "test_dataset       = torch.utils.data.Subset(test_dataset, range(subset_sample))\n"
   ]
  },
  {
   "cell_type": "code",
   "execution_count": 23,
   "id": "2f802c05",
   "metadata": {},
   "outputs": [],
   "source": [
    "train_dataset_global = train_dataset\n",
    "validation_dataset_global = validation_dataset"
   ]
  },
  {
   "cell_type": "markdown",
   "id": "0ba4092f",
   "metadata": {},
   "source": [
    "# Def hyperparameters and Loaders"
   ]
  },
  {
   "cell_type": "code",
   "execution_count": 24,
   "id": "e3230a72",
   "metadata": {},
   "outputs": [],
   "source": [
    "loss_function       = nn.CrossEntropyLoss()"
   ]
  },
  {
   "cell_type": "markdown",
   "id": "d8bbd35e",
   "metadata": {},
   "source": [
    "# Main training Loop"
   ]
  },
  {
   "cell_type": "markdown",
   "id": "f0eb17a2",
   "metadata": {},
   "source": [
    "## Optuna optimization"
   ]
  },
  {
   "cell_type": "code",
   "execution_count": 8,
   "id": "b6ebca3b",
   "metadata": {},
   "outputs": [
    {
     "name": "stderr",
     "output_type": "stream",
     "text": [
      "[I 2025-06-14 22:23:32,895] A new study created in memory with name: no-name-ab7f438e-1c72-49ec-81cd-679edee8922a\n"
     ]
    }
   ],
   "source": [
    "n_trials=50\n",
    "study = optuna.create_study(direction='minimize')\n",
    "study.optimize(objective, n_trials=n_trials)"
   ]
  },
  {
   "cell_type": "markdown",
   "id": "e5a09e96",
   "metadata": {},
   "source": [
    "## Best founded model"
   ]
  },
  {
   "cell_type": "code",
   "execution_count": 10,
   "id": "bb1b80e3",
   "metadata": {},
   "outputs": [
    {
     "data": {
      "text/plain": [
       "{'activation': 'Tanh',\n",
       " 'learning_rate': 2.661614529026924e-05,\n",
       " 'batch_size': 313,\n",
       " 'dropout_rate': 0.39876406291127253,\n",
       " 'weight_decay': 0.00019805086510847616,\n",
       " 'use_batch_norm': True,\n",
       " 'num_conv_layers': 5,\n",
       " 'pool_frequency': 3,\n",
       " 'conv_channels_l0': 23,\n",
       " 'kernel_size_l0': 3,\n",
       " 'conv_channels_l1': 35,\n",
       " 'kernel_size_l1': 5,\n",
       " 'conv_channels_l2': 58,\n",
       " 'kernel_size_l2': 3,\n",
       " 'conv_channels_l3': 70,\n",
       " 'kernel_size_l3': 3,\n",
       " 'conv_channels_l4': 92,\n",
       " 'kernel_size_l4': 5,\n",
       " 'num_fc_layers': 3,\n",
       " 'fc_units_l0': 396,\n",
       " 'fc_units_l1': 125,\n",
       " 'fc_units_l2': 494}"
      ]
     },
     "execution_count": 10,
     "metadata": {},
     "output_type": "execute_result"
    }
   ],
   "source": [
    "study.best_params"
   ]
  },
  {
   "cell_type": "code",
   "execution_count": 11,
   "id": "d2ae28a3",
   "metadata": {},
   "outputs": [],
   "source": [
    "activation_functions = {\n",
    "    'ReLU': nn.ReLU(),\n",
    "    'Sigmoid': nn.Sigmoid(),\n",
    "    'Tanh': nn.Tanh(),\n",
    "    'LeakyReLU' : nn.LeakyReLU()\n",
    "}\n",
    "\n",
    "best_activation = activation_functions[study.best_params['activation']]\n",
    "\n",
    "# reg params\n",
    "dropout_rate=study.best_params['dropout_rate']\n",
    "use_batch_norm=study.best_params['use_batch_norm']\n",
    "\n",
    "train_loader = torch.utils.data.DataLoader(\n",
    "    dataset=train_dataset_global, \n",
    "    batch_size=study.best_params['batch_size'], \n",
    "    shuffle=True\n",
    ")\n",
    "val_loader = torch.utils.data.DataLoader(\n",
    "    dataset=validation_dataset_global, \n",
    "    batch_size=study.best_params['batch_size'], \n",
    "    shuffle=False\n",
    ")\n",
    "\n",
    "test_loader = torch.utils.data.DataLoader(\n",
    "    dataset=test_dataset, \n",
    "    batch_size=study.best_params['batch_size'], \n",
    "    shuffle=False\n",
    ")\n"
   ]
  },
  {
   "cell_type": "code",
   "execution_count": null,
   "id": "b04aa267",
   "metadata": {},
   "outputs": [
    {
     "name": "stderr",
     "output_type": "stream",
     "text": [
      "  0%|          | 0/10000 [00:00<?, ?it/s]"
     ]
    },
    {
     "name": "stderr",
     "output_type": "stream",
     "text": [
      "  0%|          | 1/10000 [00:01<3:19:21,  1.20s/it]"
     ]
    },
    {
     "name": "stdout",
     "output_type": "stream",
     "text": [
      "Epoch 1:\n",
      "Train Loss: 2.4076\n",
      "Val Loss: 2.2933\n",
      "Test Loss: 2.2923\n"
     ]
    },
    {
     "name": "stderr",
     "output_type": "stream",
     "text": [
      "  0%|          | 2/10000 [00:02<3:18:46,  1.19s/it]"
     ]
    },
    {
     "name": "stdout",
     "output_type": "stream",
     "text": [
      "Epoch 2:\n",
      "Train Loss: 2.3810\n",
      "Val Loss: 2.2562\n",
      "Test Loss: 2.2564\n"
     ]
    },
    {
     "name": "stderr",
     "output_type": "stream",
     "text": [
      "  0%|          | 3/10000 [00:03<3:17:38,  1.19s/it]"
     ]
    },
    {
     "name": "stdout",
     "output_type": "stream",
     "text": [
      "Epoch 3:\n",
      "Train Loss: 2.3538\n",
      "Val Loss: 2.2021\n",
      "Test Loss: 2.2020\n"
     ]
    },
    {
     "name": "stderr",
     "output_type": "stream",
     "text": [
      "  0%|          | 4/10000 [00:04<3:16:11,  1.18s/it]"
     ]
    },
    {
     "name": "stdout",
     "output_type": "stream",
     "text": [
      "Epoch 4:\n",
      "Train Loss: 2.3453\n",
      "Val Loss: 2.1579\n",
      "Test Loss: 2.1559\n"
     ]
    },
    {
     "name": "stderr",
     "output_type": "stream",
     "text": [
      "  0%|          | 5/10000 [00:05<3:15:09,  1.17s/it]"
     ]
    },
    {
     "name": "stdout",
     "output_type": "stream",
     "text": [
      "Epoch 5:\n",
      "Train Loss: 2.3302\n",
      "Val Loss: 2.1285\n",
      "Test Loss: 2.1245\n"
     ]
    },
    {
     "name": "stderr",
     "output_type": "stream",
     "text": [
      "  0%|          | 6/10000 [00:07<3:14:29,  1.17s/it]"
     ]
    },
    {
     "name": "stdout",
     "output_type": "stream",
     "text": [
      "Epoch 6:\n",
      "Train Loss: 2.3403\n",
      "Val Loss: 2.1105\n",
      "Test Loss: 2.1051\n"
     ]
    },
    {
     "name": "stderr",
     "output_type": "stream",
     "text": [
      "  0%|          | 7/10000 [00:08<3:14:19,  1.17s/it]"
     ]
    },
    {
     "name": "stdout",
     "output_type": "stream",
     "text": [
      "Epoch 7:\n",
      "Train Loss: 2.3184\n",
      "Val Loss: 2.0970\n",
      "Test Loss: 2.0908\n"
     ]
    },
    {
     "name": "stderr",
     "output_type": "stream",
     "text": [
      "  0%|          | 8/10000 [00:09<3:14:13,  1.17s/it]"
     ]
    },
    {
     "name": "stdout",
     "output_type": "stream",
     "text": [
      "Epoch 8:\n",
      "Train Loss: 2.2938\n",
      "Val Loss: 2.0908\n",
      "Test Loss: 2.0838\n"
     ]
    },
    {
     "name": "stderr",
     "output_type": "stream",
     "text": [
      "  0%|          | 9/10000 [00:10<3:15:07,  1.17s/it]"
     ]
    },
    {
     "name": "stdout",
     "output_type": "stream",
     "text": [
      "Epoch 9:\n",
      "Train Loss: 2.2734\n",
      "Val Loss: 2.0880\n",
      "Test Loss: 2.0808\n"
     ]
    },
    {
     "name": "stderr",
     "output_type": "stream",
     "text": [
      "  0%|          | 10/10000 [00:11<3:14:57,  1.17s/it]"
     ]
    },
    {
     "name": "stdout",
     "output_type": "stream",
     "text": [
      "Epoch 10:\n",
      "Train Loss: 2.2402\n",
      "Val Loss: 2.0861\n",
      "Test Loss: 2.0782\n"
     ]
    },
    {
     "name": "stderr",
     "output_type": "stream",
     "text": [
      "  0%|          | 11/10000 [00:12<3:14:59,  1.17s/it]"
     ]
    },
    {
     "name": "stdout",
     "output_type": "stream",
     "text": [
      "Epoch 11:\n",
      "Train Loss: 2.2692\n",
      "Val Loss: 2.0883\n",
      "Test Loss: 2.0790\n"
     ]
    },
    {
     "name": "stderr",
     "output_type": "stream",
     "text": [
      "  0%|          | 12/10000 [00:14<3:15:03,  1.17s/it]"
     ]
    },
    {
     "name": "stdout",
     "output_type": "stream",
     "text": [
      "Epoch 12:\n",
      "Train Loss: 2.2508\n",
      "Val Loss: 2.0876\n",
      "Test Loss: 2.0774\n"
     ]
    },
    {
     "name": "stderr",
     "output_type": "stream",
     "text": [
      "  0%|          | 13/10000 [00:15<3:14:00,  1.17s/it]"
     ]
    },
    {
     "name": "stdout",
     "output_type": "stream",
     "text": [
      "Epoch 13:\n",
      "Train Loss: 2.2290\n",
      "Val Loss: 2.0855\n",
      "Test Loss: 2.0742\n"
     ]
    },
    {
     "name": "stderr",
     "output_type": "stream",
     "text": [
      "  0%|          | 14/10000 [00:16<3:13:12,  1.16s/it]"
     ]
    },
    {
     "name": "stdout",
     "output_type": "stream",
     "text": [
      "Epoch 14:\n",
      "Train Loss: 2.2010\n",
      "Val Loss: 2.0830\n",
      "Test Loss: 2.0715\n"
     ]
    },
    {
     "name": "stderr",
     "output_type": "stream",
     "text": [
      "  0%|          | 15/10000 [00:17<3:12:32,  1.16s/it]"
     ]
    },
    {
     "name": "stdout",
     "output_type": "stream",
     "text": [
      "Epoch 15:\n",
      "Train Loss: 2.1928\n",
      "Val Loss: 2.0803\n",
      "Test Loss: 2.0691\n"
     ]
    },
    {
     "name": "stderr",
     "output_type": "stream",
     "text": [
      "  0%|          | 16/10000 [00:18<3:12:35,  1.16s/it]"
     ]
    },
    {
     "name": "stdout",
     "output_type": "stream",
     "text": [
      "Epoch 16:\n",
      "Train Loss: 2.1574\n",
      "Val Loss: 2.0740\n",
      "Test Loss: 2.0632\n"
     ]
    },
    {
     "name": "stderr",
     "output_type": "stream",
     "text": [
      "  0%|          | 17/10000 [00:19<3:12:11,  1.16s/it]"
     ]
    },
    {
     "name": "stdout",
     "output_type": "stream",
     "text": [
      "Epoch 17:\n",
      "Train Loss: 2.1448\n",
      "Val Loss: 2.0671\n",
      "Test Loss: 2.0574\n"
     ]
    },
    {
     "name": "stderr",
     "output_type": "stream",
     "text": [
      "  0%|          | 18/10000 [00:20<3:12:23,  1.16s/it]"
     ]
    },
    {
     "name": "stdout",
     "output_type": "stream",
     "text": [
      "Epoch 18:\n",
      "Train Loss: 2.1396\n",
      "Val Loss: 2.0613\n",
      "Test Loss: 2.0522\n"
     ]
    },
    {
     "name": "stderr",
     "output_type": "stream",
     "text": [
      "  0%|          | 19/10000 [00:22<3:12:20,  1.16s/it]"
     ]
    },
    {
     "name": "stdout",
     "output_type": "stream",
     "text": [
      "Epoch 19:\n",
      "Train Loss: 2.1146\n",
      "Val Loss: 2.0576\n",
      "Test Loss: 2.0493\n"
     ]
    },
    {
     "name": "stderr",
     "output_type": "stream",
     "text": [
      "  0%|          | 20/10000 [00:23<3:11:56,  1.15s/it]"
     ]
    },
    {
     "name": "stdout",
     "output_type": "stream",
     "text": [
      "Epoch 20:\n",
      "Train Loss: 2.1182\n",
      "Val Loss: 2.0531\n",
      "Test Loss: 2.0456\n"
     ]
    },
    {
     "name": "stderr",
     "output_type": "stream",
     "text": [
      "  0%|          | 21/10000 [00:24<3:11:47,  1.15s/it]"
     ]
    },
    {
     "name": "stdout",
     "output_type": "stream",
     "text": [
      "Epoch 21:\n",
      "Train Loss: 2.0912\n",
      "Val Loss: 2.0505\n",
      "Test Loss: 2.0426\n"
     ]
    },
    {
     "name": "stderr",
     "output_type": "stream",
     "text": [
      "  0%|          | 22/10000 [00:25<3:11:52,  1.15s/it]"
     ]
    },
    {
     "name": "stdout",
     "output_type": "stream",
     "text": [
      "Epoch 22:\n",
      "Train Loss: 2.1085\n",
      "Val Loss: 2.0477\n",
      "Test Loss: 2.0402\n"
     ]
    },
    {
     "name": "stderr",
     "output_type": "stream",
     "text": [
      "  0%|          | 23/10000 [00:26<3:12:32,  1.16s/it]"
     ]
    },
    {
     "name": "stdout",
     "output_type": "stream",
     "text": [
      "Epoch 23:\n",
      "Train Loss: 2.0849\n",
      "Val Loss: 2.0470\n",
      "Test Loss: 2.0395\n"
     ]
    },
    {
     "name": "stderr",
     "output_type": "stream",
     "text": [
      "  0%|          | 24/10000 [00:27<3:12:30,  1.16s/it]"
     ]
    },
    {
     "name": "stdout",
     "output_type": "stream",
     "text": [
      "Epoch 24:\n",
      "Train Loss: 2.0749\n",
      "Val Loss: 2.0462\n",
      "Test Loss: 2.0394\n"
     ]
    },
    {
     "name": "stderr",
     "output_type": "stream",
     "text": [
      "  0%|          | 25/10000 [00:29<3:12:01,  1.15s/it]"
     ]
    },
    {
     "name": "stdout",
     "output_type": "stream",
     "text": [
      "Epoch 25:\n",
      "Train Loss: 2.0700\n",
      "Val Loss: 2.0468\n",
      "Test Loss: 2.0399\n"
     ]
    },
    {
     "name": "stderr",
     "output_type": "stream",
     "text": [
      "  0%|          | 26/10000 [00:30<3:11:48,  1.15s/it]"
     ]
    },
    {
     "name": "stdout",
     "output_type": "stream",
     "text": [
      "Epoch 26:\n",
      "Train Loss: 2.0783\n",
      "Val Loss: 2.0420\n",
      "Test Loss: 2.0369\n"
     ]
    },
    {
     "name": "stderr",
     "output_type": "stream",
     "text": [
      "  0%|          | 27/10000 [00:31<3:11:43,  1.15s/it]"
     ]
    },
    {
     "name": "stdout",
     "output_type": "stream",
     "text": [
      "Epoch 27:\n",
      "Train Loss: 2.0517\n",
      "Val Loss: 2.0422\n",
      "Test Loss: 2.0376\n"
     ]
    },
    {
     "name": "stderr",
     "output_type": "stream",
     "text": [
      "  0%|          | 28/10000 [00:32<3:11:24,  1.15s/it]"
     ]
    },
    {
     "name": "stdout",
     "output_type": "stream",
     "text": [
      "Epoch 28:\n",
      "Train Loss: 2.0601\n",
      "Val Loss: 2.0390\n",
      "Test Loss: 2.0358\n"
     ]
    },
    {
     "name": "stderr",
     "output_type": "stream",
     "text": [
      "  0%|          | 29/10000 [00:33<3:11:32,  1.15s/it]"
     ]
    },
    {
     "name": "stdout",
     "output_type": "stream",
     "text": [
      "Epoch 29:\n",
      "Train Loss: 2.0534\n",
      "Val Loss: 2.0376\n",
      "Test Loss: 2.0359\n"
     ]
    },
    {
     "name": "stderr",
     "output_type": "stream",
     "text": [
      "  0%|          | 30/10000 [00:34<3:12:17,  1.16s/it]"
     ]
    },
    {
     "name": "stdout",
     "output_type": "stream",
     "text": [
      "Epoch 30:\n",
      "Train Loss: 2.0230\n",
      "Val Loss: 2.0369\n",
      "Test Loss: 2.0365\n"
     ]
    },
    {
     "name": "stderr",
     "output_type": "stream",
     "text": [
      "  0%|          | 31/10000 [00:36<3:11:46,  1.15s/it]"
     ]
    },
    {
     "name": "stdout",
     "output_type": "stream",
     "text": [
      "Epoch 31:\n",
      "Train Loss: 2.0291\n",
      "Val Loss: 2.0386\n",
      "Test Loss: 2.0392\n"
     ]
    },
    {
     "name": "stderr",
     "output_type": "stream",
     "text": [
      "  0%|          | 32/10000 [00:37<3:11:46,  1.15s/it]"
     ]
    },
    {
     "name": "stdout",
     "output_type": "stream",
     "text": [
      "Epoch 32:\n",
      "Train Loss: 2.0356\n",
      "Val Loss: 2.0369\n",
      "Test Loss: 2.0389\n"
     ]
    },
    {
     "name": "stderr",
     "output_type": "stream",
     "text": [
      "  0%|          | 33/10000 [00:38<3:11:56,  1.16s/it]"
     ]
    },
    {
     "name": "stdout",
     "output_type": "stream",
     "text": [
      "Epoch 33:\n",
      "Train Loss: 2.0098\n",
      "Val Loss: 2.0341\n",
      "Test Loss: 2.0395\n"
     ]
    },
    {
     "name": "stderr",
     "output_type": "stream",
     "text": [
      "  0%|          | 34/10000 [00:39<3:11:42,  1.15s/it]"
     ]
    },
    {
     "name": "stdout",
     "output_type": "stream",
     "text": [
      "Epoch 34:\n",
      "Train Loss: 1.9969\n",
      "Val Loss: 2.0345\n",
      "Test Loss: 2.0417\n"
     ]
    },
    {
     "name": "stderr",
     "output_type": "stream",
     "text": [
      "  0%|          | 35/10000 [00:40<3:11:17,  1.15s/it]"
     ]
    },
    {
     "name": "stdout",
     "output_type": "stream",
     "text": [
      "Epoch 35:\n",
      "Train Loss: 2.0264\n",
      "Val Loss: 2.0352\n",
      "Test Loss: 2.0442\n"
     ]
    },
    {
     "name": "stderr",
     "output_type": "stream",
     "text": [
      "  0%|          | 36/10000 [00:41<3:11:14,  1.15s/it]"
     ]
    },
    {
     "name": "stdout",
     "output_type": "stream",
     "text": [
      "Epoch 36:\n",
      "Train Loss: 2.0167\n",
      "Val Loss: 2.0331\n",
      "Test Loss: 2.0452\n"
     ]
    },
    {
     "name": "stderr",
     "output_type": "stream",
     "text": [
      "  0%|          | 37/10000 [00:42<3:11:02,  1.15s/it]"
     ]
    },
    {
     "name": "stdout",
     "output_type": "stream",
     "text": [
      "Epoch 37:\n",
      "Train Loss: 1.9990\n",
      "Val Loss: 2.0330\n",
      "Test Loss: 2.0478\n"
     ]
    },
    {
     "name": "stderr",
     "output_type": "stream",
     "text": [
      "  0%|          | 38/10000 [00:44<3:11:14,  1.15s/it]"
     ]
    },
    {
     "name": "stdout",
     "output_type": "stream",
     "text": [
      "Epoch 38:\n",
      "Train Loss: 1.9903\n",
      "Val Loss: 2.0348\n",
      "Test Loss: 2.0512\n"
     ]
    },
    {
     "name": "stderr",
     "output_type": "stream",
     "text": [
      "  0%|          | 39/10000 [00:45<3:11:13,  1.15s/it]"
     ]
    },
    {
     "name": "stdout",
     "output_type": "stream",
     "text": [
      "Epoch 39:\n",
      "Train Loss: 1.9789\n",
      "Val Loss: 2.0356\n",
      "Test Loss: 2.0541\n"
     ]
    },
    {
     "name": "stderr",
     "output_type": "stream",
     "text": [
      "  0%|          | 40/10000 [00:46<3:11:18,  1.15s/it]"
     ]
    },
    {
     "name": "stdout",
     "output_type": "stream",
     "text": [
      "Epoch 40:\n",
      "Train Loss: 2.0083\n",
      "Val Loss: 2.0386\n",
      "Test Loss: 2.0599\n"
     ]
    },
    {
     "name": "stderr",
     "output_type": "stream",
     "text": [
      "  0%|          | 41/10000 [00:47<3:11:03,  1.15s/it]"
     ]
    },
    {
     "name": "stdout",
     "output_type": "stream",
     "text": [
      "Epoch 41:\n",
      "Train Loss: 1.9859\n",
      "Val Loss: 2.0423\n",
      "Test Loss: 2.0646\n"
     ]
    },
    {
     "name": "stderr",
     "output_type": "stream",
     "text": [
      "  0%|          | 41/10000 [00:48<3:17:01,  1.19s/it]"
     ]
    },
    {
     "name": "stdout",
     "output_type": "stream",
     "text": [
      "Epoch 42:\n",
      "Train Loss: 1.9673\n",
      "Val Loss: 2.0463\n",
      "Test Loss: 2.0709\n",
      "early stopping based on loss reduction when we compare to val dataset\n"
     ]
    },
    {
     "name": "stderr",
     "output_type": "stream",
     "text": [
      "\n"
     ]
    }
   ],
   "source": [
    "best_params = study.best_params\n",
    "\n",
    "cnn = CNN(\n",
    "    num_conv_layers=best_params['num_conv_layers'],\n",
    "    conv_channels=[best_params[f'conv_channels_l{i}'] for i in range(best_params['num_conv_layers'])],\n",
    "    kernel_sizes=[best_params[f'kernel_size_l{i}'] for i in range(best_params['num_conv_layers'])],\n",
    "    num_fc_layers=best_params['num_fc_layers'],\n",
    "    fc_hidden_sizes=[best_params[f'fc_units_l{i}'] for i in range(best_params['num_fc_layers'])],\n",
    "    num_classes=10,\n",
    "    activation_function=activation_functions[best_params['activation']],\n",
    "    dropout_rate=best_params['dropout_rate'],\n",
    "    use_batch_norm=best_params['use_batch_norm']\n",
    ").cuda()\n",
    "\n",
    "optimizer = torch.optim.Adam(cnn.parameters(), \n",
    "                             lr=study.best_params['learning_rate'], \n",
    "                             weight_decay=study.best_params['weight_decay'])\n",
    "\n",
    "best_val_loss = float('inf')\n",
    "patience = 5\n",
    "patience_counter = 0\n",
    "\n",
    "arr_losses_train = []\n",
    "arr_losses_test  = []\n",
    "arr_losses_val   = []\n",
    "\n",
    "arr_acc_train = []\n",
    "arr_acc_test  = []\n",
    "arr_acc_val   = []\n",
    "\n",
    "# main loop\n",
    "num_epochs       = 10000\n",
    "for epoch in tqdm(range(num_epochs)):\n",
    "    cnn.train()\n",
    "    epoch_loss = 0.0\n",
    "    for i, (images, labels) in enumerate(train_loader):\n",
    "        images = images.cuda()\n",
    "        labels = labels.cuda()\n",
    "        optimizer.zero_grad()\n",
    "\n",
    "        # forward pass\n",
    "        outputs = cnn.forward(images)\n",
    "        loss = loss_function(outputs, labels)\n",
    "        loss.backward()\n",
    "        optimizer.step()\n",
    "\n",
    "        epoch_loss += loss.item()\n",
    "\n",
    "        if (i+1) % 1000 == 0:\n",
    "            tqdm.write(f' Epoch {epoch + 1}/{num_epochs}, Step {i+1}/{len(train_dataset) // study.best_params['batch_size']}, Loss: {loss}')\n",
    "\n",
    "    cnn.eval()\n",
    "    train_loss = epoch_loss/len(train_loader)\n",
    "    val_loss   = evaluate_model(cnn, val_loader, loss_function)\n",
    "    test_loss  = evaluate_model(cnn, test_loader, loss_function)\n",
    "\n",
    "    train_acc = evaluate_accuracy(cnn, train_loader)\n",
    "    val_acc   = evaluate_accuracy(cnn, val_loader)\n",
    "    test_acc  = evaluate_accuracy(cnn, test_loader)\n",
    "\n",
    "    arr_losses_train.append(train_loss)\n",
    "    arr_losses_val.append(val_loss)\n",
    "    arr_losses_test.append(test_loss)\n",
    "\n",
    "    arr_acc_train.append(train_acc)\n",
    "    arr_acc_val.append(val_acc)\n",
    "    arr_acc_test.append(test_acc)\n",
    "\n",
    "    tqdm.write(f'Epoch {epoch+1}:')\n",
    "    tqdm.write(f'Train Loss: {train_loss:.4f}')\n",
    "    tqdm.write(f'Val Loss: {val_loss:.4f}')\n",
    "    tqdm.write(f'Test Loss: {test_loss:.4f}')\n",
    "\n",
    "\n",
    "    # early stopping \n",
    "    if val_loss < best_val_loss:\n",
    "        best_val_loss = val_loss\n",
    "        patience_counter = 0\n",
    "\n",
    "    else:\n",
    "        patience_counter += 1\n",
    "        if patience_counter >= patience:\n",
    "            tqdm.write(\"early stopping based on loss reduction when we compare to val dataset\")\n",
    "            break"
   ]
  },
  {
   "cell_type": "markdown",
   "id": "065ed6dc",
   "metadata": {},
   "source": [
    "# Evaluate best model"
   ]
  },
  {
   "cell_type": "code",
   "execution_count": 24,
   "id": "bb9bfefe",
   "metadata": {},
   "outputs": [
    {
     "data": {
      "text/plain": [
       "==========================================================================================\n",
       "Layer (type:depth-idx)                   Output Shape              Param #\n",
       "==========================================================================================\n",
       "CNN                                      [1, 10]                   --\n",
       "├─ModuleList: 1-18                       --                        (recursive)\n",
       "│    └─Conv2d: 2-1                       [1, 22, 32, 32]           1,672\n",
       "├─Sigmoid: 1-2                           [1, 22, 32, 32]           --\n",
       "├─Dropout: 1-3                           [1, 22, 32, 32]           --\n",
       "├─ModuleList: 1-18                       --                        (recursive)\n",
       "│    └─Conv2d: 2-2                       [1, 39, 32, 32]           21,489\n",
       "├─Sigmoid: 1-5                           [1, 39, 32, 32]           --\n",
       "├─MaxPool2d: 1-6                         [1, 39, 16, 16]           --\n",
       "├─Dropout: 1-7                           [1, 39, 16, 16]           --\n",
       "├─ModuleList: 1-18                       --                        (recursive)\n",
       "│    └─Conv2d: 2-3                       [1, 74, 16, 16]           26,048\n",
       "├─Sigmoid: 1-9                           [1, 74, 16, 16]           --\n",
       "├─Dropout: 1-10                          [1, 74, 16, 16]           --\n",
       "├─ModuleList: 1-18                       --                        (recursive)\n",
       "│    └─Conv2d: 2-4                       [1, 89, 16, 16]           59,363\n",
       "├─Sigmoid: 1-12                          [1, 89, 16, 16]           --\n",
       "├─MaxPool2d: 1-13                        [1, 89, 8, 8]             --\n",
       "├─Dropout: 1-14                          [1, 89, 8, 8]             --\n",
       "├─ModuleList: 1-18                       --                        (recursive)\n",
       "│    └─Conv2d: 2-5                       [1, 153, 8, 8]            340,578\n",
       "├─Sigmoid: 1-16                          [1, 153, 8, 8]            --\n",
       "├─Dropout: 1-17                          [1, 153, 8, 8]            --\n",
       "├─ModuleList: 1-18                       --                        (recursive)\n",
       "│    └─Conv2d: 2-6                       [1, 233, 8, 8]            321,074\n",
       "├─Sigmoid: 1-19                          [1, 233, 8, 8]            --\n",
       "├─MaxPool2d: 1-20                        [1, 233, 4, 4]            --\n",
       "├─Dropout: 1-21                          [1, 233, 4, 4]            --\n",
       "├─ModuleList: 1-25                       --                        (recursive)\n",
       "│    └─Linear: 2-7                       [1, 224]                  835,296\n",
       "├─Sigmoid: 1-23                          [1, 224]                  --\n",
       "├─Dropout: 1-24                          [1, 224]                  --\n",
       "├─ModuleList: 1-25                       --                        (recursive)\n",
       "│    └─Linear: 2-8                       [1, 10]                   2,250\n",
       "==========================================================================================\n",
       "Total params: 1,607,770\n",
       "Trainable params: 1,607,770\n",
       "Non-trainable params: 0\n",
       "Total mult-adds (Units.MEGABYTES): 88.77\n",
       "==========================================================================================\n",
       "Input size (MB): 0.01\n",
       "Forward/backward pass size (MB): 1.03\n",
       "Params size (MB): 6.43\n",
       "Estimated Total Size (MB): 7.48\n",
       "=========================================================================================="
      ]
     },
     "execution_count": 24,
     "metadata": {},
     "output_type": "execute_result"
    }
   ],
   "source": [
    "summary(cnn, (1, 3, 32, 32))"
   ]
  },
  {
   "cell_type": "code",
   "execution_count": null,
   "id": "780ccdff",
   "metadata": {},
   "outputs": [
    {
     "data": {
      "image/png": "[encoded data removed]",
      "text/plain": [
       "<Figure size 640x480 with 1 Axes>"
      ]
     },
     "metadata": {},
     "output_type": "display_data"
    },
    {
     "data": {
      "image/png": "[encoded data removed]",
      "text/plain": [
       "<Figure size 640x480 with 1 Axes>"
      ]
     },
     "metadata": {},
     "output_type": "display_data"
    }
   ],
   "source": [
    "show_loss_through_epochs(arr_losses_train, arr_losses_test, arr_losses_val)\n",
    "\n",
    "plt.figure()  \n",
    "show_accuracy_through_epochs(arr_acc_train, arr_acc_test, arr_acc_val)"
   ]
  },
  {
   "cell_type": "code",
   "execution_count": null,
   "id": "cc2d66f1",
   "metadata": {},
   "outputs": [
    {
     "name": "stderr",
     "output_type": "stream",
     "text": [
      "Clipping input data to the valid range for imshow with RGB data ([0..1] for floats or [0..255] for integers). Got range [-0.44764107..1.7938564].\n",
      "Clipping input data to the valid range for imshow with RGB data ([0..1] for floats or [0..255] for integers). Got range [-0.558952..1.7502832].\n",
      "Clipping input data to the valid range for imshow with RGB data ([0..1] for floats or [0..255] for integers). Got range [-0.5247024..1.7938564].\n",
      "Clipping input data to the valid range for imshow with RGB data ([0..1] for floats or [0..255] for integers). Got range [-0.4828431..1.2477095].\n",
      "Clipping input data to the valid range for imshow with RGB data ([0..1] for floats or [0..255] for integers). Got range [-0.558952..1.8112855].\n",
      "Clipping input data to the valid range for imshow with RGB data ([0..1] for floats or [0..255] for integers). Got range [-0.24214405..1.6369936].\n",
      "Clipping input data to the valid range for imshow with RGB data ([0..1] for floats or [0..255] for integers). Got range [-0.49901533..1.4079132].\n",
      "Clipping input data to the valid range for imshow with RGB data ([0..1] for floats or [0..255] for integers). Got range [-0.55038965..1.82].\n",
      "Clipping input data to the valid range for imshow with RGB data ([0..1] for floats or [0..255] for integers). Got range [-0.3791421..1.8025708].\n",
      "Clipping input data to the valid range for imshow with RGB data ([0..1] for floats or [0..255] for integers). Got range [-0.39626682..1.6792717].\n",
      "/tmp/ipykernel_97546/848142233.py:111: UserWarning: tight_layout not applied: number of columns in subplot specifications must be multiples of one another.\n",
      "  plt.tight_layout(h_pad=2)\n"
     ]
    },
    {
     "data": {
      "image/png": "[encoded data removed]",
      "text/plain": [
       "<Figure size 2400x2000 with 11 Axes>"
      ]
     },
     "metadata": {},
     "output_type": "display_data"
    }
   ],
   "source": [
    "show_predictions(cnn, test_loader, num_samples=5)"
   ]
  },
  {
   "cell_type": "code",
   "execution_count": 15,
   "id": "f0b8f37b",
   "metadata": {},
   "outputs": [
    {
     "name": "stdout",
     "output_type": "stream",
     "text": [
      "Scores of your model\n",
      " {'accuracy': 0.2595, 'balanced_accuracy': np.float64(0.25453218483957396), 'f1_score': 0.22751161171197742, 'precision': 0.3417631431076225, 'recall': 0.2595}\n",
      "\n",
      "\n"
     ]
    }
   ],
   "source": [
    "cnn.eval()\n",
    "predictions = []\n",
    "labels = []\n",
    "\n",
    "for images, label in test_loader:\n",
    "  images = images.cuda()\n",
    "  label = label.cuda()\n",
    "\n",
    "  output = cnn(images)\n",
    "  _, predicted = torch.max(output,1)\n",
    "\n",
    "  predictions.extend(predicted.cpu().numpy())\n",
    "  labels.extend(label.cpu().numpy())\n",
    "\n",
    "scores = get_scores(labels, predictions)\n",
    "print(f\"Scores of your model\\n {scores}\\n\\n\")"
   ]
  },
  {
   "cell_type": "code",
   "execution_count": 16,
   "id": "e6b4cbab",
   "metadata": {},
   "outputs": [
    {
     "name": "stdout",
     "output_type": "stream",
     "text": [
      "\n",
      " shape dataset teste -> 2000\n",
      "\n",
      "(repr x acc top1) por classe(conjunto teste):\n",
      "\n",
      "airplane:\n",
      "  Acurácia: 12.24%\n",
      "  Número de amostras: 196\n",
      "  Representatividade: 9.80%\n",
      "\n",
      "automobile:\n",
      "  Acurácia: 6.57%\n",
      "  Número de amostras: 198\n",
      "  Representatividade: 9.90%\n",
      "\n",
      "bird:\n",
      "  Acurácia: 45.64%\n",
      "  Número de amostras: 195\n",
      "  Representatividade: 9.75%\n",
      "\n",
      "cat:\n",
      "  Acurácia: 4.52%\n",
      "  Número de amostras: 199\n",
      "  Representatividade: 9.95%\n",
      "\n",
      "deer:\n",
      "  Acurácia: 34.85%\n",
      "  Número de amostras: 198\n",
      "  Representatividade: 9.90%\n",
      "\n",
      "dog:\n",
      "  Acurácia: 9.19%\n",
      "  Número de amostras: 185\n",
      "  Representatividade: 9.25%\n",
      "\n",
      "frog:\n",
      "  Acurácia: 23.15%\n",
      "  Número de amostras: 216\n",
      "  Representatividade: 10.80%\n",
      "\n",
      "horse:\n",
      "  Acurácia: 30.05%\n",
      "  Número de amostras: 193\n",
      "  Representatividade: 9.65%\n",
      "\n",
      "ship:\n",
      "  Acurácia: 76.50%\n",
      "  Número de amostras: 217\n",
      "  Representatividade: 10.85%\n",
      "\n",
      "truck:\n",
      "  Acurácia: 11.82%\n",
      "  Número de amostras: 203\n",
      "  Representatividade: 10.15%\n"
     ]
    }
   ],
   "source": [
    "classes = ['airplane', 'automobile', 'bird', 'cat', 'deer', \n",
    "           'dog', 'frog', 'horse', 'ship', 'truck'] # .venvNN/lib/python3.12/site-packages/torchvision/prototype/datasets/_builtin/cifar10.categories\n",
    "\n",
    "labels = np.array(labels)\n",
    "predictions = np.array(predictions)\n",
    "\n",
    "stats = {}\n",
    "\n",
    "print(f\"\\n shape dataset teste -> {len(test_dataset)}\")\n",
    "print(\"\\n(repr x acc top1) por classe(conjunto teste):\")\n",
    "\n",
    "for i in range(10):\n",
    "    mask = labels == i\n",
    "    class_acc = np.mean(predictions[mask] == labels[mask]) * 100\n",
    "    num_samples = np.sum(mask)\n",
    "    class_repr = (num_samples / len(labels)) * 100\n",
    "\n",
    "    stats[classes[i]] = {\n",
    "        'acuracia': f\"{class_acc:.2f}%\",\n",
    "        'num_amostras': num_samples,\n",
    "        'representatividade': f\"{class_repr:.2f}%\"\n",
    "    }\n",
    "\n",
    "for classe, metricas in stats.items():\n",
    "    print(f\"\\n{classe}:\")\n",
    "    print(f\"  Acurácia: {metricas['acuracia']}\")\n",
    "    print(f\"  Número de amostras: {metricas['num_amostras']}\")\n",
    "    print(f\"  Representatividade: {metricas['representatividade']}\")"
   ]
  },
  {
   "cell_type": "code",
   "execution_count": null,
   "id": "3089e445",
   "metadata": {},
   "outputs": [
    {
     "data": {
      "image/png": "[encoded data removed]",
      "text/plain": [
       "<Figure size 1000x800 with 2 Axes>"
      ]
     },
     "metadata": {},
     "output_type": "display_data"
    },
    {
     "name": "stdout",
     "output_type": "stream",
     "text": [
      "TRUE -> PRED\n",
      "1. airplane → ship: 108 vezes\n",
      "2. truck → ship: 99 vezes\n",
      "3. automobile → ship: 93 vezes\n",
      "4. frog → bird: 83 vezes\n",
      "5. dog → bird: 82 vezes\n"
     ]
    }
   ],
   "source": [
    "cm = metrics.confusion_matrix(labels, predictions)\n",
    "\n",
    "plt.figure(figsize=(10, 8))\n",
    "sns.heatmap(cm, annot=True, fmt='d', cmap='Blues', xticklabels=classes, yticklabels=classes)\n",
    "plt.title('Matriz de Confusão - CIFAR-10')\n",
    "plt.xlabel('Predições')\n",
    "plt.ylabel('Rótulos Verdadeiros')\n",
    "plt.show()\n",
    "\n",
    "cm_errors = cm.copy()\n",
    "np.fill_diagonal(cm_errors, 0)\n",
    "\n",
    "flat_indices = np.argsort(cm_errors.ravel())[::-1][:5]\n",
    "confusion_indices = np.unravel_index(flat_indices, cm_errors.shape)\n",
    "\n",
    "print(f\"TRUE -> PRED\")\n",
    "for i in range(5):\n",
    "    true_class = confusion_indices[0][i]\n",
    "    pred_class = confusion_indices[1][i]\n",
    "    count = cm_errors[true_class, pred_class]\n",
    "    if count > 0:\n",
    "        print(f\"{i+1}. {classes[true_class]} → {classes[pred_class]}: {count} vezes\")"
   ]
  }
 ],
 "metadata": {
  "kernelspec": {
   "display_name": ".venvNN",
   "language": "python",
   "name": "python3"
  },
  "language_info": {
   "codemirror_mode": {
    "name": "ipython",
    "version": 3
   },
   "file_extension": ".py",
   "mimetype": "text/x-python",
   "name": "python",
   "nbconvert_exporter": "python",
   "pygments_lexer": "ipython3",
   "version": "3.12.3"
  }
 },
 "nbformat": 4,
 "nbformat_minor": 5
}
