{
 "cells": [
  {
   "cell_type": "markdown",
   "id": "8dbb3dac",
   "metadata": {},
   "source": [
    "# Imports"
   ]
  },
  {
   "cell_type": "code",
   "execution_count": 78,
   "id": "49818bca",
   "metadata": {},
   "outputs": [],
   "source": [
    "import torch\n",
    "import torch.nn as nn\n",
    "import torchvision\n",
    "import torchvision.transforms as transforms\n",
    "\n",
    "import optuna \n",
    "\n",
    "import numpy as np\n",
    "\n",
    "from tqdm import tqdm\n",
    "\n",
    "import matplotlib.pyplot as plt\n",
    "\n",
    "from sklearn import metrics"
   ]
  },
  {
   "cell_type": "markdown",
   "id": "6fbd66a4",
   "metadata": {},
   "source": [
    "# Helper functions and MLP class"
   ]
  },
  {
   "cell_type": "code",
   "execution_count": 79,
   "id": "60557936",
   "metadata": {},
   "outputs": [],
   "source": [
    "class MLP(nn.Module):\n",
    "    def __init__(self, input_size, hidden_layers, num_classes, activation_function, dropout_rate, use_batch_norm=True):\n",
    "        super(MLP, self).__init__()\n",
    "        self.activation_function = activation_function\n",
    "        self.dropout = nn.Dropout(p=dropout_rate)\n",
    "        self.use_batch_norm = use_batch_norm\n",
    "\n",
    "        layers_dims = [input_size] + hidden_layers + [num_classes]\n",
    "        self.layers = nn.ModuleList()\n",
    "        self.batch_norms = nn.ModuleList()\n",
    "\n",
    "        for i in range(len(layers_dims) - 1):  \n",
    "            self.layers.append(nn.Linear(layers_dims[i], layers_dims[i+1]))\n",
    "            \n",
    "            if use_batch_norm and i < len(layers_dims) - 2:\n",
    "                self.batch_norms.append(nn.BatchNorm1d(layers_dims[i+1]))\n",
    "\n",
    "\n",
    "\n",
    "    def forward(self, x):\n",
    "        for layer in self.layers[:-1]:\n",
    "            x = self.activation_function(layer(x))\n",
    "            x = self.dropout(x)\n",
    "\n",
    "        x = self.layers[-1](x)\n",
    "        \n",
    "        return x "
   ]
  },
  {
   "cell_type": "code",
   "execution_count": 92,
   "id": "d3da68d5",
   "metadata": {},
   "outputs": [],
   "source": [
    "def get_scores(targets, predictions):\n",
    "    return {\n",
    "        \"accuracy\"         : metrics.accuracy_score(targets, predictions),\n",
    "        \"balanced_accuracy\": metrics.balanced_accuracy_score(targets, predictions),\n",
    "        \"f1_score\"         : metrics.f1_score(targets, predictions, average=\"weighted\"),\n",
    "        \"precision\"        : metrics.precision_score(targets, predictions, average=\"weighted\"),\n",
    "        \"recall\"           : metrics.recall_score(targets, predictions, average=\"weighted\"),\n",
    "        \"f1_score\"         : metrics.f1_score(targets, predictions, average=\"weighted\")\n",
    "    }\n",
    "\n",
    "def evaluate_model(model, data_loader, loss_function):\n",
    "    model.eval()\n",
    "    total_loss = 0.0\n",
    "    with torch.no_grad():\n",
    "        for images, labels in data_loader:\n",
    "            images = images.view(-1, 32*32*3).cuda()\n",
    "            labels = labels.cuda()\n",
    "            outputs = model(images)\n",
    "            loss = loss_function(outputs, labels)\n",
    "            total_loss += loss.item()\n",
    "\n",
    "    return total_loss / len(data_loader)\n",
    "\n",
    "def show_loss_through_epochs(arr_losses_train, arr_losses_test, arr_losses_val):\n",
    "    plt.plot(arr_losses_train, label = \"train loss\")\n",
    "    plt.plot(arr_losses_val, label = \"val loss\")\n",
    "    plt.plot(arr_losses_test, label = \"test loss\")\n",
    "    plt.xlabel(\"epoch\")\n",
    "    plt.ylabel(\"loss\")\n",
    "    plt.grid()\n",
    "    plt.legend()\n",
    "    return None\n",
    "\n",
    "def show_predictions(model, dataloader, num_samples):\n",
    "    model.eval()\n",
    "    correct_samples = []\n",
    "    wrong_samples = []\n",
    "\n",
    "    classes = ['airplane', 'automobile', 'bird', 'cat', 'deer',\n",
    "               'dog', 'frog', 'horse', 'ship', 'truck']\n",
    "    \n",
    "    with torch.no_grad():\n",
    "        for images, labels in dataloader:\n",
    "            original_images = images\n",
    "\n",
    "            images = images.view(-1, 32*32*3).cuda()\n",
    "            labels = labels.cuda()\n",
    "\n",
    "            outputs = model.forward(images)\n",
    "            _, predicted = torch.max(outputs.data, 1)\n",
    "\n",
    "            for i in range(len(labels)):\n",
    "                pred = predicted[i].cpu().item()\n",
    "                true = labels[i].cpu().item()\n",
    "                img = original_images[i]\n",
    "\n",
    "                if pred == true and len(correct_samples) < num_samples:\n",
    "                    correct_samples.append((img, pred, true))\n",
    "                elif pred != true and len(wrong_samples) < num_samples:\n",
    "                    wrong_samples.append((img, pred, true))\n",
    "\n",
    "                if len(correct_samples) >= num_samples and len(wrong_samples) >= num_samples:\n",
    "                    break\n",
    "\n",
    "    plt.figure(figsize=(24, 20))\n",
    "    \n",
    "    plt.subplot(1, 2, 1)\n",
    "    # acertos\n",
    "    for idx, (img, pred, true) in enumerate(correct_samples):\n",
    "        plt.subplot(2, num_samples, idx + 1)\n",
    "        img = img.permute(1, 2, 0)  \n",
    "        img = img * 0.5 + 0.5 \n",
    "        plt.imshow(img)\n",
    "        plt.title(f'Correto!\\nPred: {classes[pred]}\\nTrue: {classes[true]}')\n",
    "        plt.axis('off')\n",
    "\n",
    "    # erros\n",
    "    for idx, (img, pred, true) in enumerate(wrong_samples):\n",
    "        plt.subplot(2, num_samples, idx + num_samples + 1)\n",
    "        img = img.permute(1, 2, 0)\n",
    "        img = img * 0.5 + 0.5\n",
    "        plt.imshow(img)\n",
    "        plt.title(f'Erro!\\nPred: {classes[pred]}\\nTrue: {classes[true]}')\n",
    "        plt.axis('off')\n",
    "    \n",
    "    plt.tight_layout(h_pad=2)\n",
    "    plt.show()\n",
    "\n",
    "    return None\n",
    "\n",
    "def objective(trial):\n",
    "    global train_dataset_global, validation_dataset_global\n",
    "\n",
    "    activation_name = trial.suggest_categorical('activation', ['ReLU', 'Sigmoid', 'Tanh'])\n",
    "    activation_functions = {\n",
    "        'ReLU': nn.ReLU(),\n",
    "        'Sigmoid': nn.Sigmoid(),\n",
    "        'Tanh': nn.Tanh()\n",
    "    }\n",
    "    activation_function = activation_functions[activation_name]\n",
    "    learning_rate = trial.suggest_float('learning_rate', 1e-5, 1e-2, log=True)\n",
    "    batch_size = trial.suggest_int('batch_size', 32, 512)\n",
    "\n",
    "    # reg params\n",
    "    dropout_rate = trial.suggest_float('dropout_rate', 0.0, 0.5)\n",
    "    weight_decay = trial.suggest_float('weight_decay', 1e-5, 1e-2, log=True)\n",
    "    use_batch_norm = trial.suggest_categorical('use_batch_norm', [True, False])\n",
    "\n",
    "    n_layers = trial.suggest_int('n_layers', 2, 7)\n",
    "    hidden_layers = []\n",
    "    for i in range(n_layers):\n",
    "        n_units = trial.suggest_int(f'n_units_l{i}', 32, 256)\n",
    "        hidden_layers.append(n_units)\n",
    "\n",
    "    input_size = 32*32*3\n",
    "    num_classes = 10\n",
    "    loss_function = nn.CrossEntropyLoss()\n",
    "    \n",
    "    train_loader = torch.utils.data.DataLoader(\n",
    "        dataset=train_dataset_global, \n",
    "        batch_size=batch_size, \n",
    "        shuffle=True\n",
    "    )\n",
    "    val_loader = torch.utils.data.DataLoader(\n",
    "        dataset=validation_dataset_global, \n",
    "        batch_size=batch_size, \n",
    "        shuffle=False\n",
    "    )\n",
    "\n",
    "    model = MLP(\n",
    "        input_size=input_size,\n",
    "        hidden_layers=hidden_layers,\n",
    "        num_classes=num_classes,\n",
    "        activation_function=activation_function,\n",
    "        dropout_rate=dropout_rate,\n",
    "        use_batch_norm=use_batch_norm\n",
    "    ).cuda()\n",
    "    \n",
    "    optimizer = torch.optim.Adam(model.parameters(), lr=learning_rate, weight_decay=weight_decay)\n",
    "    \n",
    "    best_val_loss = float('inf')\n",
    "    patience = 7\n",
    "    patience_counter = 0\n",
    "    \n",
    "    for _ in range(50):\n",
    "        model.train()\n",
    "        for images, labels in train_loader:\n",
    "            images = images.view(-1, input_size).cuda()\n",
    "            labels = labels.cuda()\n",
    "            \n",
    "            optimizer.zero_grad()\n",
    "            outputs = model(images)\n",
    "            loss = loss_function(outputs, labels)\n",
    "            loss.backward()\n",
    "            optimizer.step()\n",
    "        \n",
    "        model.eval() # disable dropout just to validate\n",
    "        val_loss = evaluate_model(model, val_loader, loss_function)\n",
    "        \n",
    "        if val_loss < best_val_loss:\n",
    "            best_val_loss = val_loss\n",
    "            patience_counter = 0\n",
    "        else:\n",
    "            patience_counter += 1\n",
    "            \n",
    "        if patience_counter >= patience:\n",
    "            break\n",
    "    \n",
    "    return best_val_loss\n"
   ]
  },
  {
   "cell_type": "markdown",
   "id": "93b8922c",
   "metadata": {},
   "source": [
    "# Setup"
   ]
  },
  {
   "cell_type": "code",
   "execution_count": 89,
   "id": "25cc0de3",
   "metadata": {},
   "outputs": [],
   "source": [
    "transform = transforms.Compose([\n",
    "                    transforms.ToTensor(),\n",
    "                    transforms.Normalize(mean=[0.5, 0.5, 0.5], std=[0.5, 0.5, 0.5])\n",
    "                    ])\n",
    "\n",
    "train_dataset = torchvision.datasets.CIFAR10(root='./data', train=True, download=True, transform=transform)\n",
    "test_dataset = torchvision.datasets.CIFAR10(root='./data', train=False, download=True, transform=transform)\n",
    "\n",
    "train_size = int(0.8 * len(train_dataset))\n",
    "val_size = len(train_dataset) - train_size\n",
    "\n",
    "train_dataset, validation_dataset = torch.utils.data.random_split(train_dataset, [train_size, val_size])"
   ]
  },
  {
   "cell_type": "code",
   "execution_count": 82,
   "id": "96dfadbb",
   "metadata": {},
   "outputs": [],
   "source": [
    "# # just to run fast\n",
    "# subset_sample      = 1000\n",
    "\n",
    "# train_dataset      = torch.utils.data.Subset(train_dataset, range(subset_sample))\n",
    "# validation_dataset = torch.utils.data.Subset(validation_dataset, range(subset_sample))\n",
    "# test_dataset       = torch.utils.data.Subset(test_dataset, range(subset_sample))\n"
   ]
  },
  {
   "cell_type": "code",
   "execution_count": 90,
   "id": "2f802c05",
   "metadata": {},
   "outputs": [],
   "source": [
    "train_dataset_global = train_dataset\n",
    "validation_dataset_global = validation_dataset"
   ]
  },
  {
   "cell_type": "markdown",
   "id": "0ba4092f",
   "metadata": {},
   "source": [
    "# Def hyperparameters and Loaders"
   ]
  },
  {
   "cell_type": "code",
   "execution_count": 93,
   "id": "e3230a72",
   "metadata": {},
   "outputs": [],
   "source": [
    "loss_function       = nn.CrossEntropyLoss()"
   ]
  },
  {
   "cell_type": "markdown",
   "id": "d8bbd35e",
   "metadata": {},
   "source": [
    "# Main training Loop"
   ]
  },
  {
   "cell_type": "markdown",
   "id": "f0eb17a2",
   "metadata": {},
   "source": [
    "## Optuna optimization"
   ]
  },
  {
   "cell_type": "code",
   "execution_count": 94,
   "id": "b6ebca3b",
   "metadata": {},
   "outputs": [
    {
     "name": "stderr",
     "output_type": "stream",
     "text": [
      "[I 2025-06-01 10:29:54,819] A new study created in memory with name: no-name-3fca49fc-eb3e-419e-bc25-7f1cbcfbc8a8\n",
      "[I 2025-06-01 10:32:35,695] Trial 0 finished with value: 1.7530816596942944 and parameters: {'activation': 'Sigmoid', 'learning_rate': 2.367323233549144e-05, 'batch_size': 110, 'dropout_rate': 0.4804417216026607, 'weight_decay': 0.0002838565316561642, 'use_batch_norm': True, 'n_layers': 2, 'n_units_l0': 120, 'n_units_l1': 251}. Best is trial 0 with value: 1.7530816596942944.\n",
      "[I 2025-06-01 10:35:05,898] Trial 1 finished with value: 1.7354811712315208 and parameters: {'activation': 'Tanh', 'learning_rate': 8.827590629900311e-05, 'batch_size': 269, 'dropout_rate': 0.3813437992896945, 'weight_decay': 0.005109005939802738, 'use_batch_norm': True, 'n_layers': 6, 'n_units_l0': 248, 'n_units_l1': 33, 'n_units_l2': 174, 'n_units_l3': 89, 'n_units_l4': 72, 'n_units_l5': 37}. Best is trial 1 with value: 1.7354811712315208.\n",
      "[I 2025-06-01 10:36:44,843] Trial 2 finished with value: 1.3109439824308668 and parameters: {'activation': 'ReLU', 'learning_rate': 0.0004485995719204425, 'batch_size': 358, 'dropout_rate': 0.15715598486752935, 'weight_decay': 2.124295943370972e-05, 'use_batch_norm': False, 'n_layers': 3, 'n_units_l0': 121, 'n_units_l1': 187, 'n_units_l2': 91}. Best is trial 2 with value: 1.3109439824308668.\n",
      "[I 2025-06-01 10:39:10,383] Trial 3 finished with value: 1.4523990976399388 and parameters: {'activation': 'ReLU', 'learning_rate': 0.000558107464317814, 'batch_size': 351, 'dropout_rate': 0.45261337704276233, 'weight_decay': 0.0004393453513354016, 'use_batch_norm': True, 'n_layers': 3, 'n_units_l0': 61, 'n_units_l1': 68, 'n_units_l2': 187}. Best is trial 2 with value: 1.3109439824308668.\n",
      "[I 2025-06-01 10:41:18,271] Trial 4 finished with value: 1.384109831737637 and parameters: {'activation': 'ReLU', 'learning_rate': 9.965257991928795e-05, 'batch_size': 39, 'dropout_rate': 0.05360129887998183, 'weight_decay': 1.5687770254811008e-05, 'use_batch_norm': True, 'n_layers': 4, 'n_units_l0': 52, 'n_units_l1': 120, 'n_units_l2': 108, 'n_units_l3': 70}. Best is trial 2 with value: 1.3109439824308668.\n",
      "[I 2025-06-01 10:41:44,879] Trial 5 finished with value: 2.0436111211776735 and parameters: {'activation': 'ReLU', 'learning_rate': 0.009024463783105278, 'batch_size': 340, 'dropout_rate': 0.3540183067948191, 'weight_decay': 5.303742749367452e-05, 'use_batch_norm': False, 'n_layers': 7, 'n_units_l0': 158, 'n_units_l1': 91, 'n_units_l2': 68, 'n_units_l3': 162, 'n_units_l4': 255, 'n_units_l5': 139, 'n_units_l6': 51}. Best is trial 2 with value: 1.3109439824308668.\n",
      "[I 2025-06-01 10:42:55,601] Trial 6 finished with value: 1.8563154791340684 and parameters: {'activation': 'Sigmoid', 'learning_rate': 0.0038519372360166547, 'batch_size': 152, 'dropout_rate': 0.060371967724390296, 'weight_decay': 0.0038072516240940982, 'use_batch_norm': True, 'n_layers': 2, 'n_units_l0': 211, 'n_units_l1': 63}. Best is trial 2 with value: 1.3109439824308668.\n",
      "[I 2025-06-01 10:45:25,188] Trial 7 finished with value: 1.5789758926484643 and parameters: {'activation': 'ReLU', 'learning_rate': 2.140228512888831e-05, 'batch_size': 246, 'dropout_rate': 0.020055928809135537, 'weight_decay': 0.0004603886813856258, 'use_batch_norm': True, 'n_layers': 5, 'n_units_l0': 36, 'n_units_l1': 40, 'n_units_l2': 122, 'n_units_l3': 103, 'n_units_l4': 195}. Best is trial 2 with value: 1.3109439824308668.\n",
      "[I 2025-06-01 10:48:15,809] Trial 8 finished with value: 1.9847508160642875 and parameters: {'activation': 'Sigmoid', 'learning_rate': 1.1772473918958227e-05, 'batch_size': 78, 'dropout_rate': 0.15915386270327514, 'weight_decay': 0.0008980331972964451, 'use_batch_norm': True, 'n_layers': 3, 'n_units_l0': 67, 'n_units_l1': 147, 'n_units_l2': 161}. Best is trial 2 with value: 1.3109439824308668.\n",
      "[I 2025-06-01 10:48:56,433] Trial 9 finished with value: 1.532720923423767 and parameters: {'activation': 'Tanh', 'learning_rate': 0.0009617744311053225, 'batch_size': 390, 'dropout_rate': 0.03637491617249722, 'weight_decay': 1.8407368826221106e-05, 'use_batch_norm': False, 'n_layers': 5, 'n_units_l0': 246, 'n_units_l1': 51, 'n_units_l2': 187, 'n_units_l3': 190, 'n_units_l4': 112}. Best is trial 2 with value: 1.3109439824308668.\n",
      "[I 2025-06-01 10:50:48,104] Trial 10 finished with value: 1.3493562042713165 and parameters: {'activation': 'ReLU', 'learning_rate': 0.0016457188351162693, 'batch_size': 506, 'dropout_rate': 0.21683594803969755, 'weight_decay': 6.366058411246312e-05, 'use_batch_norm': False, 'n_layers': 4, 'n_units_l0': 118, 'n_units_l1': 208, 'n_units_l2': 32, 'n_units_l3': 249}. Best is trial 2 with value: 1.3109439824308668.\n",
      "[I 2025-06-01 10:52:25,816] Trial 11 finished with value: 1.345277610279265 and parameters: {'activation': 'ReLU', 'learning_rate': 0.0018083214033505607, 'batch_size': 487, 'dropout_rate': 0.21125705756297092, 'weight_decay': 8.487608779346131e-05, 'use_batch_norm': False, 'n_layers': 4, 'n_units_l0': 126, 'n_units_l1': 204, 'n_units_l2': 35, 'n_units_l3': 252}. Best is trial 2 with value: 1.3109439824308668.\n",
      "[I 2025-06-01 10:54:08,188] Trial 12 finished with value: 1.3162142157554626 and parameters: {'activation': 'ReLU', 'learning_rate': 0.0002383533436703899, 'batch_size': 509, 'dropout_rate': 0.156096668007519, 'weight_decay': 8.053186110127034e-05, 'use_batch_norm': False, 'n_layers': 3, 'n_units_l0': 157, 'n_units_l1': 178, 'n_units_l2': 65}. Best is trial 2 with value: 1.3109439824308668.\n",
      "[I 2025-06-01 10:55:43,723] Trial 13 finished with value: 1.3056118992658763 and parameters: {'activation': 'ReLU', 'learning_rate': 0.0002666946007841837, 'batch_size': 386, 'dropout_rate': 0.14526707011696244, 'weight_decay': 3.1524774756885916e-05, 'use_batch_norm': False, 'n_layers': 3, 'n_units_l0': 170, 'n_units_l1': 174, 'n_units_l2': 89}. Best is trial 13 with value: 1.3056118992658763.\n",
      "[I 2025-06-01 10:57:24,848] Trial 14 finished with value: 1.4716315412521361 and parameters: {'activation': 'Tanh', 'learning_rate': 0.0002039519685846452, 'batch_size': 416, 'dropout_rate': 0.13247451951250075, 'weight_decay': 1.0430233877153513e-05, 'use_batch_norm': False, 'n_layers': 2, 'n_units_l0': 188, 'n_units_l1': 163}. Best is trial 13 with value: 1.3056118992658763.\n",
      "[I 2025-06-01 10:59:50,572] Trial 15 finished with value: 1.3994189538061619 and parameters: {'activation': 'ReLU', 'learning_rate': 7.547914815450258e-05, 'batch_size': 321, 'dropout_rate': 0.32319262087416895, 'weight_decay': 2.8696678920290444e-05, 'use_batch_norm': False, 'n_layers': 3, 'n_units_l0': 88, 'n_units_l1': 233, 'n_units_l2': 99}. Best is trial 13 with value: 1.3056118992658763.\n",
      "[I 2025-06-01 11:01:00,186] Trial 16 finished with value: 1.3368791214963223 and parameters: {'activation': 'ReLU', 'learning_rate': 0.0004601222244453838, 'batch_size': 216, 'dropout_rate': 0.09520078565425834, 'weight_decay': 0.00018554948354954675, 'use_batch_norm': False, 'n_layers': 3, 'n_units_l0': 194, 'n_units_l1': 121, 'n_units_l2': 250}. Best is trial 13 with value: 1.3056118992658763.\n",
      "[I 2025-06-01 11:03:25,339] Trial 17 finished with value: 1.354996492465337 and parameters: {'activation': 'ReLU', 'learning_rate': 0.000197255791891286, 'batch_size': 434, 'dropout_rate': 0.26905944962978884, 'weight_decay': 2.9602559601629025e-05, 'use_batch_norm': False, 'n_layers': 4, 'n_units_l0': 101, 'n_units_l1': 195, 'n_units_l2': 85, 'n_units_l3': 36}. Best is trial 13 with value: 1.3056118992658763.\n",
      "[I 2025-06-01 11:05:51,845] Trial 18 finished with value: 1.5830741615006418 and parameters: {'activation': 'Sigmoid', 'learning_rate': 0.0007200510682919866, 'batch_size': 304, 'dropout_rate': 0.26921868188067427, 'weight_decay': 0.0012638216175964402, 'use_batch_norm': False, 'n_layers': 2, 'n_units_l0': 173, 'n_units_l1': 134}. Best is trial 13 with value: 1.3056118992658763.\n",
      "[I 2025-06-01 11:08:24,533] Trial 19 finished with value: 1.5004623106547765 and parameters: {'activation': 'Tanh', 'learning_rate': 4.640998637507699e-05, 'batch_size': 206, 'dropout_rate': 0.11303489337137715, 'weight_decay': 0.00014394916751377224, 'use_batch_norm': False, 'n_layers': 5, 'n_units_l0': 143, 'n_units_l1': 171, 'n_units_l2': 136, 'n_units_l3': 211, 'n_units_l4': 38}. Best is trial 13 with value: 1.3056118992658763.\n",
      "[I 2025-06-01 11:09:49,605] Trial 20 finished with value: 1.3419617767687197 and parameters: {'activation': 'ReLU', 'learning_rate': 0.00031063008728906237, 'batch_size': 380, 'dropout_rate': 0.1946654314940652, 'weight_decay': 3.4525748836414805e-05, 'use_batch_norm': False, 'n_layers': 6, 'n_units_l0': 210, 'n_units_l1': 236, 'n_units_l2': 68, 'n_units_l3': 133, 'n_units_l4': 166, 'n_units_l5': 254}. Best is trial 13 with value: 1.3056118992658763.\n",
      "[I 2025-06-01 11:11:59,016] Trial 21 finished with value: 1.3062821782153586 and parameters: {'activation': 'ReLU', 'learning_rate': 0.00022291108805981143, 'batch_size': 452, 'dropout_rate': 0.16238378758700328, 'weight_decay': 9.76723193719354e-05, 'use_batch_norm': False, 'n_layers': 3, 'n_units_l0': 145, 'n_units_l1': 163, 'n_units_l2': 62}. Best is trial 13 with value: 1.3056118992658763.\n",
      "[I 2025-06-01 11:14:26,826] Trial 22 finished with value: 1.3227973450785098 and parameters: {'activation': 'ReLU', 'learning_rate': 0.00012592746902274007, 'batch_size': 453, 'dropout_rate': 0.179631999104924, 'weight_decay': 0.00012221285585505402, 'use_batch_norm': False, 'n_layers': 3, 'n_units_l0': 138, 'n_units_l1': 188, 'n_units_l2': 54}. Best is trial 13 with value: 1.3056118992658763.\n",
      "[I 2025-06-01 11:16:28,155] Trial 23 finished with value: 1.3359429240226746 and parameters: {'activation': 'ReLU', 'learning_rate': 0.00042597014651912053, 'batch_size': 457, 'dropout_rate': 0.2339529772391265, 'weight_decay': 1.018530545912381e-05, 'use_batch_norm': False, 'n_layers': 2, 'n_units_l0': 88, 'n_units_l1': 161}. Best is trial 13 with value: 1.3056118992658763.\n",
      "[I 2025-06-01 11:18:57,010] Trial 24 finished with value: 1.3385419933884233 and parameters: {'activation': 'ReLU', 'learning_rate': 4.9801960807180006e-05, 'batch_size': 379, 'dropout_rate': 0.08240556883075356, 'weight_decay': 4.1152337678458324e-05, 'use_batch_norm': False, 'n_layers': 4, 'n_units_l0': 167, 'n_units_l1': 213, 'n_units_l2': 101, 'n_units_l3': 141}. Best is trial 13 with value: 1.3056118992658763.\n",
      "[I 2025-06-01 11:20:02,437] Trial 25 finished with value: 1.3426942539215088 and parameters: {'activation': 'ReLU', 'learning_rate': 0.0011406060441063474, 'batch_size': 408, 'dropout_rate': 0.12460994375840334, 'weight_decay': 2.218432064022672e-05, 'use_batch_norm': False, 'n_layers': 3, 'n_units_l0': 106, 'n_units_l1': 147, 'n_units_l2': 89}. Best is trial 13 with value: 1.3056118992658763.\n",
      "[I 2025-06-01 11:22:33,213] Trial 26 finished with value: 1.3010934766601114 and parameters: {'activation': 'ReLU', 'learning_rate': 0.00015014868827655856, 'batch_size': 302, 'dropout_rate': 0.28522453912333157, 'weight_decay': 9.81580787522436e-05, 'use_batch_norm': False, 'n_layers': 3, 'n_units_l0': 184, 'n_units_l1': 101, 'n_units_l2': 133}. Best is trial 26 with value: 1.3010934766601114.\n",
      "[I 2025-06-01 11:25:03,846] Trial 27 finished with value: 1.3331794318030863 and parameters: {'activation': 'ReLU', 'learning_rate': 0.00016683766252498466, 'batch_size': 295, 'dropout_rate': 0.30202625930495475, 'weight_decay': 0.00021080149913750402, 'use_batch_norm': False, 'n_layers': 4, 'n_units_l0': 221, 'n_units_l1': 101, 'n_units_l2': 134, 'n_units_l3': 32}. Best is trial 26 with value: 1.3010934766601114.\n",
      "[I 2025-06-01 11:27:27,692] Trial 28 finished with value: 1.5855991569432346 and parameters: {'activation': 'Tanh', 'learning_rate': 5.093670776569079e-05, 'batch_size': 466, 'dropout_rate': 0.3924418897332414, 'weight_decay': 0.0001059771135519294, 'use_batch_norm': False, 'n_layers': 2, 'n_units_l0': 190, 'n_units_l1': 93}. Best is trial 26 with value: 1.3010934766601114.\n",
      "[I 2025-06-01 11:30:05,902] Trial 29 finished with value: 1.4301222485880698 and parameters: {'activation': 'Sigmoid', 'learning_rate': 0.0002965319742422895, 'batch_size': 162, 'dropout_rate': 0.24479668902892998, 'weight_decay': 0.00033271601383667214, 'use_batch_norm': False, 'n_layers': 2, 'n_units_l0': 178, 'n_units_l1': 112}. Best is trial 26 with value: 1.3010934766601114.\n",
      "[I 2025-06-01 11:32:35,009] Trial 30 finished with value: 1.9287875980138778 and parameters: {'activation': 'Sigmoid', 'learning_rate': 2.121418563534213e-05, 'batch_size': 250, 'dropout_rate': 0.30830672458645264, 'weight_decay': 0.0008330672169754634, 'use_batch_norm': False, 'n_layers': 3, 'n_units_l0': 228, 'n_units_l1': 134, 'n_units_l2': 152}. Best is trial 26 with value: 1.3010934766601114.\n",
      "[I 2025-06-01 11:33:57,117] Trial 31 finished with value: 1.3228106622038216 and parameters: {'activation': 'ReLU', 'learning_rate': 0.0003906606839492423, 'batch_size': 346, 'dropout_rate': 0.16696724190676288, 'weight_decay': 5.086358695653332e-05, 'use_batch_norm': False, 'n_layers': 3, 'n_units_l0': 130, 'n_units_l1': 183, 'n_units_l2': 80}. Best is trial 26 with value: 1.3010934766601114.\n",
      "[I 2025-06-01 11:36:02,747] Trial 32 finished with value: 1.328798824343188 and parameters: {'activation': 'ReLU', 'learning_rate': 0.0001409643224728806, 'batch_size': 357, 'dropout_rate': 0.14157427612786583, 'weight_decay': 6.492171788543953e-05, 'use_batch_norm': False, 'n_layers': 3, 'n_units_l0': 154, 'n_units_l1': 158, 'n_units_l2': 119}. Best is trial 26 with value: 1.3010934766601114.\n",
      "[I 2025-06-01 11:38:29,361] Trial 33 finished with value: 1.3826915820439656 and parameters: {'activation': 'ReLU', 'learning_rate': 7.179649431092522e-05, 'batch_size': 425, 'dropout_rate': 0.19215189202735838, 'weight_decay': 1.589852169081825e-05, 'use_batch_norm': False, 'n_layers': 4, 'n_units_l0': 146, 'n_units_l1': 80, 'n_units_l2': 50, 'n_units_l3': 211}. Best is trial 26 with value: 1.3010934766601114.\n",
      "[I 2025-06-01 11:40:59,811] Trial 34 finished with value: 1.3120511207315657 and parameters: {'activation': 'ReLU', 'learning_rate': 0.0006648280079763249, 'batch_size': 284, 'dropout_rate': 0.4690250041492358, 'weight_decay': 2.6040351190125545e-05, 'use_batch_norm': True, 'n_layers': 2, 'n_units_l0': 177, 'n_units_l1': 216}. Best is trial 26 with value: 1.3010934766601114.\n",
      "[I 2025-06-01 11:43:28,056] Trial 35 finished with value: 1.375050917748482 and parameters: {'activation': 'ReLU', 'learning_rate': 0.00011218586494833749, 'batch_size': 326, 'dropout_rate': 0.42036337820748104, 'weight_decay': 4.616080066064771e-05, 'use_batch_norm': False, 'n_layers': 3, 'n_units_l0': 116, 'n_units_l1': 195, 'n_units_l2': 116}. Best is trial 26 with value: 1.3010934766601114.\n",
      "[I 2025-06-01 11:45:41,149] Trial 36 finished with value: 1.3511174746922083 and parameters: {'activation': 'ReLU', 'learning_rate': 0.0002898491543313894, 'batch_size': 361, 'dropout_rate': 0.2734968528002138, 'weight_decay': 0.00021847732133271376, 'use_batch_norm': True, 'n_layers': 7, 'n_units_l0': 203, 'n_units_l1': 131, 'n_units_l2': 215, 'n_units_l3': 173, 'n_units_l4': 229, 'n_units_l5': 231, 'n_units_l6': 254}. Best is trial 26 with value: 1.3010934766601114.\n",
      "[I 2025-06-01 11:47:45,826] Trial 37 finished with value: 1.3889699440736036 and parameters: {'activation': 'ReLU', 'learning_rate': 0.0022524064138785462, 'batch_size': 398, 'dropout_rate': 0.34531138877082845, 'weight_decay': 0.000134447896416047, 'use_batch_norm': False, 'n_layers': 4, 'n_units_l0': 164, 'n_units_l1': 173, 'n_units_l2': 83, 'n_units_l3': 115}. Best is trial 26 with value: 1.3010934766601114.\n",
      "[I 2025-06-01 11:48:38,148] Trial 38 finished with value: 1.5441543658574421 and parameters: {'activation': 'Tanh', 'learning_rate': 0.0005810308778425956, 'batch_size': 262, 'dropout_rate': 0.055949613225667466, 'weight_decay': 1.4071986338875353e-05, 'use_batch_norm': True, 'n_layers': 6, 'n_units_l0': 151, 'n_units_l1': 154, 'n_units_l2': 98, 'n_units_l3': 59, 'n_units_l4': 103, 'n_units_l5': 47}. Best is trial 26 with value: 1.3010934766601114.\n",
      "[I 2025-06-01 11:49:25,698] Trial 39 finished with value: 1.3793600490016322 and parameters: {'activation': 'ReLU', 'learning_rate': 0.0010780058613726552, 'batch_size': 325, 'dropout_rate': 0.0008329013236730853, 'weight_decay': 8.542691284199952e-05, 'use_batch_norm': False, 'n_layers': 5, 'n_units_l0': 131, 'n_units_l1': 225, 'n_units_l2': 45, 'n_units_l3': 226, 'n_units_l4': 142}. Best is trial 26 with value: 1.3010934766601114.\n",
      "[I 2025-06-01 11:51:52,712] Trial 40 finished with value: 1.3896672155546106 and parameters: {'activation': 'ReLU', 'learning_rate': 9.114735756198994e-05, 'batch_size': 435, 'dropout_rate': 0.08869212493472647, 'weight_decay': 0.009730143415438774, 'use_batch_norm': True, 'n_layers': 3, 'n_units_l0': 90, 'n_units_l1': 252, 'n_units_l2': 172}. Best is trial 26 with value: 1.3010934766601114.\n",
      "[I 2025-06-01 11:54:14,143] Trial 41 finished with value: 1.3164191893168857 and parameters: {'activation': 'ReLU', 'learning_rate': 0.0006257471668274204, 'batch_size': 288, 'dropout_rate': 0.4963704244833814, 'weight_decay': 2.1502020752922467e-05, 'use_batch_norm': True, 'n_layers': 2, 'n_units_l0': 181, 'n_units_l1': 220}. Best is trial 26 with value: 1.3010934766601114.\n",
      "[I 2025-06-01 11:55:53,051] Trial 42 finished with value: 1.5837876742536372 and parameters: {'activation': 'ReLU', 'learning_rate': 0.004481125107778258, 'batch_size': 231, 'dropout_rate': 0.4211901119082408, 'weight_decay': 3.101595520980205e-05, 'use_batch_norm': True, 'n_layers': 2, 'n_units_l0': 173, 'n_units_l1': 194}. Best is trial 26 with value: 1.3010934766601114.\n",
      "[I 2025-06-01 11:58:24,791] Trial 43 finished with value: 1.2981123560004764 and parameters: {'activation': 'ReLU', 'learning_rate': 0.00024062838005541916, 'batch_size': 278, 'dropout_rate': 0.4495946639928094, 'weight_decay': 2.3748444728123326e-05, 'use_batch_norm': True, 'n_layers': 2, 'n_units_l0': 200, 'n_units_l1': 171}. Best is trial 43 with value: 1.2981123560004764.\n",
      "[I 2025-06-01 12:00:54,140] Trial 44 finished with value: 1.4860305786132812 and parameters: {'activation': 'Sigmoid', 'learning_rate': 0.000236032698029967, 'batch_size': 375, 'dropout_rate': 0.2119010258537945, 'weight_decay': 1.4272871695643288e-05, 'use_batch_norm': True, 'n_layers': 3, 'n_units_l0': 238, 'n_units_l1': 169, 'n_units_l2': 134}. Best is trial 43 with value: 1.2981123560004764.\n",
      "[I 2025-06-01 12:03:23,933] Trial 45 finished with value: 1.3010169701142744 and parameters: {'activation': 'ReLU', 'learning_rate': 0.00015889335563849864, 'batch_size': 311, 'dropout_rate': 0.3733239394483285, 'weight_decay': 6.426197109807485e-05, 'use_batch_norm': True, 'n_layers': 2, 'n_units_l0': 199, 'n_units_l1': 144}. Best is trial 43 with value: 1.2981123560004764.\n",
      "[I 2025-06-01 12:06:00,515] Trial 46 finished with value: 1.2883486095464454 and parameters: {'activation': 'ReLU', 'learning_rate': 0.0001427212712790552, 'batch_size': 189, 'dropout_rate': 0.37774368807168635, 'weight_decay': 6.325459817732996e-05, 'use_batch_norm': True, 'n_layers': 2, 'n_units_l0': 204, 'n_units_l1': 144}. Best is trial 46 with value: 1.2883486095464454.\n",
      "[I 2025-06-01 12:08:41,083] Trial 47 finished with value: 1.293002743225593 and parameters: {'activation': 'ReLU', 'learning_rate': 0.00014184800261362546, 'batch_size': 131, 'dropout_rate': 0.3887396933494512, 'weight_decay': 6.897070803387929e-05, 'use_batch_norm': True, 'n_layers': 2, 'n_units_l0': 201, 'n_units_l1': 119}. Best is trial 46 with value: 1.2883486095464454.\n",
      "[I 2025-06-01 12:11:19,097] Trial 48 finished with value: 1.2779576667149861 and parameters: {'activation': 'ReLU', 'learning_rate': 0.00015022702893239146, 'batch_size': 135, 'dropout_rate': 0.3805683424052424, 'weight_decay': 6.643296698414264e-05, 'use_batch_norm': True, 'n_layers': 2, 'n_units_l0': 254, 'n_units_l1': 108}. Best is trial 48 with value: 1.2779576667149861.\n",
      "[I 2025-06-01 12:14:09,004] Trial 49 finished with value: 1.5208869247793038 and parameters: {'activation': 'Tanh', 'learning_rate': 3.868557729585841e-05, 'batch_size': 94, 'dropout_rate': 0.3857336529839238, 'weight_decay': 6.605362797419394e-05, 'use_batch_norm': True, 'n_layers': 2, 'n_units_l0': 249, 'n_units_l1': 114}. Best is trial 48 with value: 1.2779576667149861.\n"
     ]
    }
   ],
   "source": [
    "n_trials=50\n",
    "study = optuna.create_study(direction='minimize')\n",
    "study.optimize(objective, n_trials=n_trials)"
   ]
  },
  {
   "cell_type": "markdown",
   "id": "e5a09e96",
   "metadata": {},
   "source": [
    "## Best founded model"
   ]
  },
  {
   "cell_type": "code",
   "execution_count": 95,
   "id": "bb1b80e3",
   "metadata": {},
   "outputs": [
    {
     "data": {
      "text/plain": [
       "{'activation': 'ReLU',\n",
       " 'learning_rate': 0.00015022702893239146,\n",
       " 'batch_size': 135,\n",
       " 'dropout_rate': 0.3805683424052424,\n",
       " 'weight_decay': 6.643296698414264e-05,\n",
       " 'use_batch_norm': True,\n",
       " 'n_layers': 2,\n",
       " 'n_units_l0': 254,\n",
       " 'n_units_l1': 108}"
      ]
     },
     "execution_count": 95,
     "metadata": {},
     "output_type": "execute_result"
    }
   ],
   "source": [
    "study.best_params"
   ]
  },
  {
   "cell_type": "code",
   "execution_count": 96,
   "id": "d2ae28a3",
   "metadata": {},
   "outputs": [],
   "source": [
    "hidden_layers = [study.best_params[f'n_units_l{i}'] for i in range(study.best_params['n_layers'])]\n",
    "\n",
    "activation_functions = {\n",
    "    'ReLU': nn.ReLU(),\n",
    "    'Sigmoid': nn.Sigmoid(),\n",
    "    'Tanh': nn.Tanh()\n",
    "}\n",
    "\n",
    "best_activation = activation_functions[study.best_params['activation']]\n",
    "\n",
    "# reg params\n",
    "dropout_rate=study.best_params['dropout_rate']\n",
    "use_batch_norm=study.best_params['use_batch_norm']\n",
    "\n",
    "train_loader = torch.utils.data.DataLoader(\n",
    "    dataset=train_dataset_global, \n",
    "    batch_size=study.best_params['batch_size'], \n",
    "    shuffle=True\n",
    ")\n",
    "val_loader = torch.utils.data.DataLoader(\n",
    "    dataset=validation_dataset_global, \n",
    "    batch_size=study.best_params['batch_size'], \n",
    "    shuffle=False\n",
    ")\n",
    "\n",
    "test_loader = torch.utils.data.DataLoader(\n",
    "    dataset=test_dataset, \n",
    "    batch_size=study.best_params['batch_size'], \n",
    "    shuffle=False\n",
    ")\n"
   ]
  },
  {
   "cell_type": "code",
   "execution_count": 97,
   "id": "b04aa267",
   "metadata": {},
   "outputs": [
    {
     "name": "stderr",
     "output_type": "stream",
     "text": [
      "  0%|          | 1/10000 [00:04<11:06:44,  4.00s/it]"
     ]
    },
    {
     "name": "stdout",
     "output_type": "stream",
     "text": [
      "Epoch 1:\n",
      "Train Loss: 1.9410\n",
      "Val Loss: 1.7180\n",
      "Test Loss: 1.7078\n"
     ]
    },
    {
     "name": "stderr",
     "output_type": "stream",
     "text": [
      "  0%|          | 2/10000 [00:07<10:59:59,  3.96s/it]"
     ]
    },
    {
     "name": "stdout",
     "output_type": "stream",
     "text": [
      "Epoch 2:\n",
      "Train Loss: 1.7424\n",
      "Val Loss: 1.6265\n",
      "Test Loss: 1.6045\n"
     ]
    },
    {
     "name": "stderr",
     "output_type": "stream",
     "text": [
      "  0%|          | 3/10000 [00:11<11:07:03,  4.00s/it]"
     ]
    },
    {
     "name": "stdout",
     "output_type": "stream",
     "text": [
      "Epoch 3:\n",
      "Train Loss: 1.6706\n",
      "Val Loss: 1.5736\n",
      "Test Loss: 1.5566\n"
     ]
    },
    {
     "name": "stderr",
     "output_type": "stream",
     "text": [
      "  0%|          | 4/10000 [00:15<11:05:57,  4.00s/it]"
     ]
    },
    {
     "name": "stdout",
     "output_type": "stream",
     "text": [
      "Epoch 4:\n",
      "Train Loss: 1.6240\n",
      "Val Loss: 1.5378\n",
      "Test Loss: 1.5168\n"
     ]
    },
    {
     "name": "stderr",
     "output_type": "stream",
     "text": [
      "  0%|          | 5/10000 [00:19<11:05:48,  4.00s/it]"
     ]
    },
    {
     "name": "stdout",
     "output_type": "stream",
     "text": [
      "Epoch 5:\n",
      "Train Loss: 1.5837\n",
      "Val Loss: 1.5048\n",
      "Test Loss: 1.4847\n"
     ]
    },
    {
     "name": "stderr",
     "output_type": "stream",
     "text": [
      "  0%|          | 6/10000 [00:23<10:53:45,  3.92s/it]"
     ]
    },
    {
     "name": "stdout",
     "output_type": "stream",
     "text": [
      "Epoch 6:\n",
      "Train Loss: 1.5570\n",
      "Val Loss: 1.4820\n",
      "Test Loss: 1.4612\n"
     ]
    },
    {
     "name": "stderr",
     "output_type": "stream",
     "text": [
      "  0%|          | 7/10000 [00:27<10:45:44,  3.88s/it]"
     ]
    },
    {
     "name": "stdout",
     "output_type": "stream",
     "text": [
      "Epoch 7:\n",
      "Train Loss: 1.5271\n",
      "Val Loss: 1.4591\n",
      "Test Loss: 1.4373\n"
     ]
    },
    {
     "name": "stderr",
     "output_type": "stream",
     "text": [
      "  0%|          | 8/10000 [00:31<10:40:41,  3.85s/it]"
     ]
    },
    {
     "name": "stdout",
     "output_type": "stream",
     "text": [
      "Epoch 8:\n",
      "Train Loss: 1.5003\n",
      "Val Loss: 1.4473\n",
      "Test Loss: 1.4266\n"
     ]
    },
    {
     "name": "stderr",
     "output_type": "stream",
     "text": [
      "  0%|          | 9/10000 [00:35<10:34:00,  3.81s/it]"
     ]
    },
    {
     "name": "stdout",
     "output_type": "stream",
     "text": [
      "Epoch 9:\n",
      "Train Loss: 1.4826\n",
      "Val Loss: 1.4351\n",
      "Test Loss: 1.4193\n"
     ]
    },
    {
     "name": "stderr",
     "output_type": "stream",
     "text": [
      "  0%|          | 10/10000 [00:38<10:33:18,  3.80s/it]"
     ]
    },
    {
     "name": "stdout",
     "output_type": "stream",
     "text": [
      "Epoch 10:\n",
      "Train Loss: 1.4570\n",
      "Val Loss: 1.4217\n",
      "Test Loss: 1.4089\n"
     ]
    },
    {
     "name": "stderr",
     "output_type": "stream",
     "text": [
      "  0%|          | 11/10000 [00:42<10:30:31,  3.79s/it]"
     ]
    },
    {
     "name": "stdout",
     "output_type": "stream",
     "text": [
      "Epoch 11:\n",
      "Train Loss: 1.4392\n",
      "Val Loss: 1.4067\n",
      "Test Loss: 1.3911\n"
     ]
    },
    {
     "name": "stderr",
     "output_type": "stream",
     "text": [
      "  0%|          | 12/10000 [00:46<10:33:18,  3.80s/it]"
     ]
    },
    {
     "name": "stdout",
     "output_type": "stream",
     "text": [
      "Epoch 12:\n",
      "Train Loss: 1.4262\n",
      "Val Loss: 1.4010\n",
      "Test Loss: 1.3819\n"
     ]
    },
    {
     "name": "stderr",
     "output_type": "stream",
     "text": [
      "  0%|          | 13/10000 [00:50<10:30:31,  3.79s/it]"
     ]
    },
    {
     "name": "stdout",
     "output_type": "stream",
     "text": [
      "Epoch 13:\n",
      "Train Loss: 1.4102\n",
      "Val Loss: 1.3925\n",
      "Test Loss: 1.3781\n"
     ]
    },
    {
     "name": "stderr",
     "output_type": "stream",
     "text": [
      "  0%|          | 14/10000 [00:53<10:27:00,  3.77s/it]"
     ]
    },
    {
     "name": "stdout",
     "output_type": "stream",
     "text": [
      "Epoch 14:\n",
      "Train Loss: 1.3933\n",
      "Val Loss: 1.3854\n",
      "Test Loss: 1.3703\n"
     ]
    },
    {
     "name": "stderr",
     "output_type": "stream",
     "text": [
      "  0%|          | 15/10000 [00:57<10:26:33,  3.76s/it]"
     ]
    },
    {
     "name": "stdout",
     "output_type": "stream",
     "text": [
      "Epoch 15:\n",
      "Train Loss: 1.3780\n",
      "Val Loss: 1.3840\n",
      "Test Loss: 1.3701\n"
     ]
    },
    {
     "name": "stderr",
     "output_type": "stream",
     "text": [
      "  0%|          | 16/10000 [01:01<10:25:37,  3.76s/it]"
     ]
    },
    {
     "name": "stdout",
     "output_type": "stream",
     "text": [
      "Epoch 16:\n",
      "Train Loss: 1.3624\n",
      "Val Loss: 1.3628\n",
      "Test Loss: 1.3490\n"
     ]
    },
    {
     "name": "stderr",
     "output_type": "stream",
     "text": [
      "  0%|          | 17/10000 [01:05<10:24:31,  3.75s/it]"
     ]
    },
    {
     "name": "stdout",
     "output_type": "stream",
     "text": [
      "Epoch 17:\n",
      "Train Loss: 1.3550\n",
      "Val Loss: 1.3568\n",
      "Test Loss: 1.3463\n"
     ]
    },
    {
     "name": "stderr",
     "output_type": "stream",
     "text": [
      "  0%|          | 18/10000 [01:08<10:25:16,  3.76s/it]"
     ]
    },
    {
     "name": "stdout",
     "output_type": "stream",
     "text": [
      "Epoch 18:\n",
      "Train Loss: 1.3378\n",
      "Val Loss: 1.3512\n",
      "Test Loss: 1.3409\n"
     ]
    },
    {
     "name": "stderr",
     "output_type": "stream",
     "text": [
      "  0%|          | 19/10000 [01:12<10:29:21,  3.78s/it]"
     ]
    },
    {
     "name": "stdout",
     "output_type": "stream",
     "text": [
      "Epoch 19:\n",
      "Train Loss: 1.3245\n",
      "Val Loss: 1.3430\n",
      "Test Loss: 1.3311\n"
     ]
    },
    {
     "name": "stderr",
     "output_type": "stream",
     "text": [
      "  0%|          | 20/10000 [01:16<10:26:20,  3.77s/it]"
     ]
    },
    {
     "name": "stdout",
     "output_type": "stream",
     "text": [
      "Epoch 20:\n",
      "Train Loss: 1.3108\n",
      "Val Loss: 1.3436\n",
      "Test Loss: 1.3287\n"
     ]
    },
    {
     "name": "stderr",
     "output_type": "stream",
     "text": [
      "  0%|          | 21/10000 [01:20<10:24:14,  3.75s/it]"
     ]
    },
    {
     "name": "stdout",
     "output_type": "stream",
     "text": [
      "Epoch 21:\n",
      "Train Loss: 1.3024\n",
      "Val Loss: 1.3430\n",
      "Test Loss: 1.3317\n"
     ]
    },
    {
     "name": "stderr",
     "output_type": "stream",
     "text": [
      "  0%|          | 22/10000 [01:24<10:26:49,  3.77s/it]"
     ]
    },
    {
     "name": "stdout",
     "output_type": "stream",
     "text": [
      "Epoch 22:\n",
      "Train Loss: 1.2894\n",
      "Val Loss: 1.3364\n",
      "Test Loss: 1.3236\n"
     ]
    },
    {
     "name": "stderr",
     "output_type": "stream",
     "text": [
      "  0%|          | 23/10000 [01:27<10:23:25,  3.75s/it]"
     ]
    },
    {
     "name": "stdout",
     "output_type": "stream",
     "text": [
      "Epoch 23:\n",
      "Train Loss: 1.2775\n",
      "Val Loss: 1.3318\n",
      "Test Loss: 1.3191\n"
     ]
    },
    {
     "name": "stderr",
     "output_type": "stream",
     "text": [
      "  0%|          | 24/10000 [01:31<10:21:26,  3.74s/it]"
     ]
    },
    {
     "name": "stdout",
     "output_type": "stream",
     "text": [
      "Epoch 24:\n",
      "Train Loss: 1.2724\n",
      "Val Loss: 1.3226\n",
      "Test Loss: 1.3149\n"
     ]
    },
    {
     "name": "stderr",
     "output_type": "stream",
     "text": [
      "  0%|          | 25/10000 [01:35<10:28:01,  3.78s/it]"
     ]
    },
    {
     "name": "stdout",
     "output_type": "stream",
     "text": [
      "Epoch 25:\n",
      "Train Loss: 1.2629\n",
      "Val Loss: 1.3319\n",
      "Test Loss: 1.3147\n"
     ]
    },
    {
     "name": "stderr",
     "output_type": "stream",
     "text": [
      "  0%|          | 26/10000 [01:39<10:35:07,  3.82s/it]"
     ]
    },
    {
     "name": "stdout",
     "output_type": "stream",
     "text": [
      "Epoch 26:\n",
      "Train Loss: 1.2565\n",
      "Val Loss: 1.3213\n",
      "Test Loss: 1.3087\n"
     ]
    },
    {
     "name": "stderr",
     "output_type": "stream",
     "text": [
      "  0%|          | 27/10000 [01:42<10:30:11,  3.79s/it]"
     ]
    },
    {
     "name": "stdout",
     "output_type": "stream",
     "text": [
      "Epoch 27:\n",
      "Train Loss: 1.2354\n",
      "Val Loss: 1.3218\n",
      "Test Loss: 1.3111\n"
     ]
    },
    {
     "name": "stderr",
     "output_type": "stream",
     "text": [
      "  0%|          | 28/10000 [01:46<10:31:05,  3.80s/it]"
     ]
    },
    {
     "name": "stdout",
     "output_type": "stream",
     "text": [
      "Epoch 28:\n",
      "Train Loss: 1.2360\n",
      "Val Loss: 1.3175\n",
      "Test Loss: 1.3018\n"
     ]
    },
    {
     "name": "stderr",
     "output_type": "stream",
     "text": [
      "  0%|          | 29/10000 [01:50<10:29:17,  3.79s/it]"
     ]
    },
    {
     "name": "stdout",
     "output_type": "stream",
     "text": [
      "Epoch 29:\n",
      "Train Loss: 1.2241\n",
      "Val Loss: 1.3129\n",
      "Test Loss: 1.3025\n"
     ]
    },
    {
     "name": "stderr",
     "output_type": "stream",
     "text": [
      "  0%|          | 30/10000 [01:54<10:30:15,  3.79s/it]"
     ]
    },
    {
     "name": "stdout",
     "output_type": "stream",
     "text": [
      "Epoch 30:\n",
      "Train Loss: 1.2191\n",
      "Val Loss: 1.3141\n",
      "Test Loss: 1.3074\n"
     ]
    },
    {
     "name": "stderr",
     "output_type": "stream",
     "text": [
      "  0%|          | 31/10000 [01:58<10:33:52,  3.82s/it]"
     ]
    },
    {
     "name": "stdout",
     "output_type": "stream",
     "text": [
      "Epoch 31:\n",
      "Train Loss: 1.2029\n",
      "Val Loss: 1.3027\n",
      "Test Loss: 1.2971\n"
     ]
    },
    {
     "name": "stderr",
     "output_type": "stream",
     "text": [
      "  0%|          | 32/10000 [02:02<10:35:14,  3.82s/it]"
     ]
    },
    {
     "name": "stdout",
     "output_type": "stream",
     "text": [
      "Epoch 32:\n",
      "Train Loss: 1.1977\n",
      "Val Loss: 1.3063\n",
      "Test Loss: 1.2966\n"
     ]
    },
    {
     "name": "stderr",
     "output_type": "stream",
     "text": [
      "  0%|          | 33/10000 [02:05<10:32:39,  3.81s/it]"
     ]
    },
    {
     "name": "stdout",
     "output_type": "stream",
     "text": [
      "Epoch 33:\n",
      "Train Loss: 1.1867\n",
      "Val Loss: 1.3009\n",
      "Test Loss: 1.2964\n"
     ]
    },
    {
     "name": "stderr",
     "output_type": "stream",
     "text": [
      "  0%|          | 34/10000 [02:09<10:31:25,  3.80s/it]"
     ]
    },
    {
     "name": "stdout",
     "output_type": "stream",
     "text": [
      "Epoch 34:\n",
      "Train Loss: 1.1790\n",
      "Val Loss: 1.3045\n",
      "Test Loss: 1.2982\n"
     ]
    },
    {
     "name": "stderr",
     "output_type": "stream",
     "text": [
      "  0%|          | 35/10000 [02:13<10:32:35,  3.81s/it]"
     ]
    },
    {
     "name": "stdout",
     "output_type": "stream",
     "text": [
      "Epoch 35:\n",
      "Train Loss: 1.1731\n",
      "Val Loss: 1.3023\n",
      "Test Loss: 1.2914\n"
     ]
    },
    {
     "name": "stderr",
     "output_type": "stream",
     "text": [
      "  0%|          | 36/10000 [02:17<10:35:12,  3.82s/it]"
     ]
    },
    {
     "name": "stdout",
     "output_type": "stream",
     "text": [
      "Epoch 36:\n",
      "Train Loss: 1.1643\n",
      "Val Loss: 1.2959\n",
      "Test Loss: 1.2894\n"
     ]
    },
    {
     "name": "stderr",
     "output_type": "stream",
     "text": [
      "  0%|          | 37/10000 [02:21<10:47:12,  3.90s/it]"
     ]
    },
    {
     "name": "stdout",
     "output_type": "stream",
     "text": [
      "Epoch 37:\n",
      "Train Loss: 1.1608\n",
      "Val Loss: 1.3004\n",
      "Test Loss: 1.2932\n"
     ]
    },
    {
     "name": "stderr",
     "output_type": "stream",
     "text": [
      "  0%|          | 38/10000 [02:25<10:49:14,  3.91s/it]"
     ]
    },
    {
     "name": "stdout",
     "output_type": "stream",
     "text": [
      "Epoch 38:\n",
      "Train Loss: 1.1460\n",
      "Val Loss: 1.2967\n",
      "Test Loss: 1.2849\n"
     ]
    },
    {
     "name": "stderr",
     "output_type": "stream",
     "text": [
      "  0%|          | 39/10000 [02:29<10:53:12,  3.93s/it]"
     ]
    },
    {
     "name": "stdout",
     "output_type": "stream",
     "text": [
      "Epoch 39:\n",
      "Train Loss: 1.1419\n",
      "Val Loss: 1.2971\n",
      "Test Loss: 1.2813\n"
     ]
    },
    {
     "name": "stderr",
     "output_type": "stream",
     "text": [
      "  0%|          | 40/10000 [02:33<10:55:15,  3.95s/it]"
     ]
    },
    {
     "name": "stdout",
     "output_type": "stream",
     "text": [
      "Epoch 40:\n",
      "Train Loss: 1.1325\n",
      "Val Loss: 1.2968\n",
      "Test Loss: 1.2884\n"
     ]
    },
    {
     "name": "stderr",
     "output_type": "stream",
     "text": [
      "  0%|          | 40/10000 [02:37<10:52:04,  3.93s/it]"
     ]
    },
    {
     "name": "stdout",
     "output_type": "stream",
     "text": [
      "Epoch 41:\n",
      "Train Loss: 1.1274\n",
      "Val Loss: 1.2974\n",
      "Test Loss: 1.2904\n",
      "early stopping based on loss reduction when we compare to val dataset\n"
     ]
    },
    {
     "name": "stderr",
     "output_type": "stream",
     "text": [
      "\n"
     ]
    }
   ],
   "source": [
    "mlp = MLP(\n",
    "    input_size=32*32*3,\n",
    "    hidden_layers=hidden_layers,\n",
    "    num_classes=10,\n",
    "    activation_function=best_activation,\n",
    "    dropout_rate=dropout_rate,\n",
    "    use_batch_norm=use_batch_norm\n",
    ")\n",
    "# mlp.cpu()\n",
    "mlp.cuda()\n",
    "\n",
    "optimizer = torch.optim.Adam(mlp.parameters(), \n",
    "                             lr=study.best_params['learning_rate'], \n",
    "                             weight_decay=study.best_params['weight_decay'])\n",
    "\n",
    "best_val_loss = float('inf')\n",
    "patience = 5\n",
    "patience_counter = 0\n",
    "\n",
    "arr_losses_train = []\n",
    "arr_losses_test  = []\n",
    "arr_losses_val   = []\n",
    "\n",
    "# main loop\n",
    "num_epochs       = 10000\n",
    "for epoch in tqdm(range(num_epochs)):\n",
    "    mlp.train()\n",
    "    epoch_loss = 0.0\n",
    "    for i, (images, labels) in enumerate(train_loader):\n",
    "        images = images.view(-1, 32*32*3).cuda()\n",
    "        labels = labels.cuda()\n",
    "        optimizer.zero_grad()\n",
    "\n",
    "        # forward pass\n",
    "        outputs = mlp.forward(images)\n",
    "        loss = loss_function(outputs, labels)\n",
    "        loss.backward()\n",
    "        optimizer.step()\n",
    "\n",
    "        epoch_loss += loss.item()\n",
    "\n",
    "        if (i+1) % 1000 == 0:\n",
    "            tqdm.write(f' Epoch {epoch + 1}/{num_epochs}, Step {i+1}/{len(train_dataset) // study.best_params['batch_size']}, Loss: {loss}')\n",
    "\n",
    "    mlp.eval()\n",
    "    train_loss = epoch_loss/len(train_loader)\n",
    "    val_loss   = evaluate_model(mlp, val_loader, loss_function)\n",
    "    test_loss  = evaluate_model(mlp, test_loader, loss_function)\n",
    "\n",
    "    arr_losses_train.append(train_loss)\n",
    "    arr_losses_val.append(val_loss)\n",
    "    arr_losses_test.append(test_loss)\n",
    "\n",
    "    tqdm.write(f'Epoch {epoch+1}:')\n",
    "    tqdm.write(f'Train Loss: {train_loss:.4f}')\n",
    "    tqdm.write(f'Val Loss: {val_loss:.4f}')\n",
    "    tqdm.write(f'Test Loss: {test_loss:.4f}')\n",
    "\n",
    "\n",
    "    # early stopping \n",
    "    if val_loss < best_val_loss:\n",
    "        best_val_loss = val_loss\n",
    "        patience_counter = 0\n",
    "\n",
    "    else:\n",
    "        patience_counter += 1\n",
    "        if patience_counter >= patience:\n",
    "            tqdm.write(\"early stopping based on loss reduction when we compare to val dataset\")\n",
    "            break\n",
    "\n"
   ]
  },
  {
   "cell_type": "markdown",
   "id": "065ed6dc",
   "metadata": {},
   "source": [
    "# Evaluate best model"
   ]
  },
  {
   "cell_type": "code",
   "execution_count": 98,
   "id": "780ccdff",
   "metadata": {},
   "outputs": [
    {
     "data": {
      "image/png": "[encoded data removed]",
      "text/plain": [
       "<Figure size 640x480 with 1 Axes>"
      ]
     },
     "metadata": {},
     "output_type": "display_data"
    }
   ],
   "source": [
    "show_loss_through_epochs(arr_losses_train, arr_losses_test, arr_losses_val)"
   ]
  },
  {
   "cell_type": "code",
   "execution_count": 102,
   "id": "cc2d66f1",
   "metadata": {},
   "outputs": [
    {
     "name": "stderr",
     "output_type": "stream",
     "text": [
      "/tmp/ipykernel_7142/3298405776.py:86: UserWarning: tight_layout not applied: number of columns in subplot specifications must be multiples of one another.\n",
      "  plt.tight_layout(h_pad=2)\n"
     ]
    },
    {
     "data": {
      "image/png": "[encoded data removed]",
      "text/plain": [
       "<Figure size 2400x2000 with 11 Axes>"
      ]
     },
     "metadata": {},
     "output_type": "display_data"
    }
   ],
   "source": [
    "show_predictions(mlp, test_loader, num_samples=5)"
   ]
  },
  {
   "cell_type": "code",
   "execution_count": 103,
   "id": "f0b8f37b",
   "metadata": {},
   "outputs": [
    {
     "name": "stdout",
     "output_type": "stream",
     "text": [
      "Scores of your model\n",
      " {'accuracy': 0.551, 'balanced_accuracy': np.float64(0.5509999999999999), 'f1_score': 0.5492578562154636, 'precision': 0.5498466583986955, 'recall': 0.551}\n",
      "\n",
      "\n"
     ]
    }
   ],
   "source": [
    "mlp.eval()\n",
    "predictions = []\n",
    "labels = []\n",
    "\n",
    "for images, label in test_loader:\n",
    "  images = images.view(-1,32*32*3).cuda()\n",
    "  label = label.cuda()\n",
    "\n",
    "  output = mlp(images)\n",
    "  _, predicted = torch.max(output,1)\n",
    "\n",
    "  predictions.extend(predicted.cpu().numpy())\n",
    "  labels.extend(label.cpu().numpy())\n",
    "\n",
    "scores = get_scores(labels, predictions)\n",
    "print(f\"Scores of your model\\n {scores}\\n\\n\")"
   ]
  },
  {
   "cell_type": "code",
   "execution_count": 101,
   "id": "e6b4cbab",
   "metadata": {},
   "outputs": [
    {
     "name": "stdout",
     "output_type": "stream",
     "text": [
      "\n",
      " shape dataset teste -> 10000\n",
      "\n",
      "(repr x acc top1) por classe(conjunto teste):\n",
      "\n",
      "airplane:\n",
      "  Acurácia: 65.20%\n",
      "  Número de amostras: 1000\n",
      "  Representatividade: 10.00%\n",
      "\n",
      "automobile:\n",
      "  Acurácia: 66.00%\n",
      "  Número de amostras: 1000\n",
      "  Representatividade: 10.00%\n",
      "\n",
      "bird:\n",
      "  Acurácia: 39.20%\n",
      "  Número de amostras: 1000\n",
      "  Representatividade: 10.00%\n",
      "\n",
      "cat:\n",
      "  Acurácia: 40.70%\n",
      "  Número de amostras: 1000\n",
      "  Representatividade: 10.00%\n",
      "\n",
      "deer:\n",
      "  Acurácia: 48.40%\n",
      "  Número de amostras: 1000\n",
      "  Representatividade: 10.00%\n",
      "\n",
      "dog:\n",
      "  Acurácia: 40.80%\n",
      "  Número de amostras: 1000\n",
      "  Representatividade: 10.00%\n",
      "\n",
      "frog:\n",
      "  Acurácia: 65.40%\n",
      "  Número de amostras: 1000\n",
      "  Representatividade: 10.00%\n",
      "\n",
      "horse:\n",
      "  Acurácia: 59.20%\n",
      "  Número de amostras: 1000\n",
      "  Representatividade: 10.00%\n",
      "\n",
      "ship:\n",
      "  Acurácia: 69.20%\n",
      "  Número de amostras: 1000\n",
      "  Representatividade: 10.00%\n",
      "\n",
      "truck:\n",
      "  Acurácia: 56.90%\n",
      "  Número de amostras: 1000\n",
      "  Representatividade: 10.00%\n"
     ]
    }
   ],
   "source": [
    "classes = ['airplane', 'automobile', 'bird', 'cat', 'deer', \n",
    "           'dog', 'frog', 'horse', 'ship', 'truck'] # .venvNN/lib/python3.12/site-packages/torchvision/prototype/datasets/_builtin/cifar10.categories\n",
    "\n",
    "labels = np.array(labels)\n",
    "predictions = np.array(predictions)\n",
    "\n",
    "stats = {}\n",
    "\n",
    "print(f\"\\n shape dataset teste -> {len(test_dataset)}\")\n",
    "print(\"\\n(repr x acc top1) por classe(conjunto teste):\")\n",
    "\n",
    "for i in range(10):\n",
    "    mask = labels == i\n",
    "    class_acc = np.mean(predictions[mask] == labels[mask]) * 100\n",
    "    num_samples = np.sum(mask)\n",
    "    class_repr = (num_samples / len(labels)) * 100\n",
    "\n",
    "    stats[classes[i]] = {\n",
    "        'acuracia': f\"{class_acc:.2f}%\",\n",
    "        'num_amostras': num_samples,\n",
    "        'representatividade': f\"{class_repr:.2f}%\"\n",
    "    }\n",
    "\n",
    "for classe, metricas in stats.items():\n",
    "    print(f\"\\n{classe}:\")\n",
    "    print(f\"  Acurácia: {metricas['acuracia']}\")\n",
    "    print(f\"  Número de amostras: {metricas['num_amostras']}\")\n",
    "    print(f\"  Representatividade: {metricas['representatividade']}\")"
   ]
  }
 ],
 "metadata": {
  "kernelspec": {
   "display_name": ".venvNN",
   "language": "python",
   "name": "python3"
  },
  "language_info": {
   "codemirror_mode": {
    "name": "ipython",
    "version": 3
   },
   "file_extension": ".py",
   "mimetype": "text/x-python",
   "name": "python",
   "nbconvert_exporter": "python",
   "pygments_lexer": "ipython3",
   "version": "3.12.3"
  }
 },
 "nbformat": 4,
 "nbformat_minor": 5
}
