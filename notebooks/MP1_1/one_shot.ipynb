{
 "cells": [
  {
   "cell_type": "markdown",
   "metadata": {},
   "source": [
    "# Imports"
   ]
  },
  {
   "cell_type": "code",
   "execution_count": 4,
   "metadata": {},
   "outputs": [],
   "source": [
    "# fazer 7 exps \n",
    "#   - um comuma camada só com nao tnatos neuronios DONE \n",
    "#   - uma aumentando o umero de camadas DOING \n",
    "#   - + uma aumentando o numero de camdas e neuronio\n",
    "#   - + modificando o batch size\n",
    "#   - + uma com dropout\n",
    "#   - + uma com batch normalization\n",
    "#   - + uma mudando a função de ativacao"
   ]
  },
  {
   "cell_type": "markdown",
   "metadata": {},
   "source": [
    "# Experimentos MLP no CIFAR-10\n",
    "\n",
    "## 1. MLP com 1 camada escondida\n",
    "\n",
    "- hidden_layers = [16]\n",
    "- learning_rate = 1e-3\n",
    "- num_epochs = 1000\n",
    "- batch_size = 64\n",
    "- activation_function = nn.ReLU()\n",
    "\n",
    "**Tempo de treino:** 58s  \n",
    "**Épocas até early stopping (patience=5):** 14\n",
    "\n",
    "**Resultados globais:**\n",
    "- accuracy: 0.4449\n",
    "- balanced_accuracy: 0.4449\n",
    "- f1_score: 0.4365\n",
    "- precision: 0.4414\n",
    "- recall: 0.4449\n",
    "\n",
    "**Shape dataset teste:** 10000\n",
    "\n",
    "**Acurácia por classe:**\n",
    "\n",
    "| Classe      | Acurácia (%) | Amostras | Representatividade (%) |\n",
    "|-------------|--------------|----------|-----------------------|\n",
    "| airplane    | 46.7         | 1000     | 10.00                 |\n",
    "| automobile  | 48.6         | 1000     | 10.00                 |\n",
    "| bird        | 29.4         | 1000     | 10.00                 |\n",
    "| cat         | 17.1         | 1000     | 10.00                 |\n",
    "| deer        | 30.4         | 1000     | 10.00                 |\n",
    "| dog         | 39.6         | 1000     | 10.00                 |\n",
    "| frog        | 62.4         | 1000     | 10.00                 |\n",
    "| horse       | 54.4         | 1000     | 10.00                 |\n",
    "| ship        | 60.9         | 1000     | 10.00                 |\n",
    "| truck       | 55.4         | 1000     | 10.00                 |\n",
    "\n",
    "\n",
    "---\n",
    "\n",
    "## 2. MLP com 3 camadas escondidas\n",
    "\n",
    "- hidden_layers = [64, 64, 64]\n",
    "- learning_rate = 1e-3\n",
    "- num_epochs = 1000\n",
    "- batch_size = 64\n",
    "- activation_function = nn.ReLU()\n",
    "\n",
    "**Tempo de treino:** 51s  \n",
    "**Épocas:** 12\n",
    "\n",
    "**Resultados globais:**\n",
    "- accuracy: 0.4999\n",
    "- balanced_accuracy: 0.4999\n",
    "- f1_score: 0.501\n",
    "- precision: 0.507\n",
    "- recall: 0.4999\n",
    "\n",
    "**Shape dataset teste:** 10000\n",
    "\n",
    "**Acurácia por classe:**\n",
    "\n",
    "| Classe      | Acurácia (%) |\n",
    "|-------------|--------------|\n",
    "| airplane    | 51.5         |\n",
    "| automobile  | 56.7         |\n",
    "| bird        | 37.0         |\n",
    "| cat         | 28.6         |\n",
    "| deer        | 45.0         |\n",
    "| dog         | 48.2         |\n",
    "| frog        | 54.0         |\n",
    "| horse       | 53.1         |\n",
    "| ship        | 63.6         |\n",
    "| truck       | 62.2         |\n",
    "\n",
    "---\n",
    "\n",
    "## 3. MLP com mais camadas e neurônios\n",
    "\n",
    "- hidden_layers = [64, 128, 128, 128]\n",
    "- learning_rate = 1e-3\n",
    "- num_epochs = 1000\n",
    "- batch_size = 64\n",
    "- activation_function = nn.ReLU()\n",
    "\n",
    "**Tempo de treino:** 57s  \n",
    "**Épocas:** 13\n",
    "\n",
    "**Resultados globais:**\n",
    "- accuracy: 0.5109\n",
    "- balanced_accuracy: 0.5109\n",
    "- f1_score: 0.5098\n",
    "- precision: 0.514\n",
    "- recall: 0.5109\n",
    "\n",
    "**Shape dataset teste:** 10000\n",
    "\n",
    "**Acurácia por classe:**\n",
    "\n",
    "| Classe      | Acurácia (%) |\n",
    "|-------------|--------------|\n",
    "| airplane    | 58.2         |\n",
    "| automobile  | 72.2         |\n",
    "| bird        | 36.7         |\n",
    "| cat         | 41.7         |\n",
    "| deer        | 41.3         |\n",
    "| dog         | 37.5         |\n",
    "| frog        | 58.1         |\n",
    "| horse       | 52.3         |\n",
    "| ship        | 59.8         |\n",
    "| truck       | 53.1         |\n",
    "\n",
    "---\n",
    "\n",
    "## 4. MLP com mais camadas, mais neurônios e menor learning rate\n",
    "\n",
    "- hidden_layers = [64, 128, 512, 128, 64]\n",
    "- learning_rate = 1e-5\n",
    "- num_epochs = 1000\n",
    "- batch_size = 64\n",
    "- activation_function = nn.ReLU()\n",
    "\n",
    "**Tempo de treino:** 6min 50s  \n",
    "**Épocas:** 93\n",
    "\n",
    "**Resultados globais:**\n",
    "- accuracy: 0.4988\n",
    "- balanced_accuracy: 0.4988\n",
    "- f1_score: 0.4959\n",
    "- precision: 0.4960\n",
    "- recall: 0.4988\n",
    "\n",
    "**Shape dataset teste:** 10000\n",
    "\n",
    "**Acurácia por classe:**\n",
    "\n",
    "| Classe      | Acurácia (%) |\n",
    "|-------------|--------------|\n",
    "| airplane    | 54.8         |\n",
    "| automobile  | 59.7         |\n",
    "| bird        | 35.8         |\n",
    "| cat         | 34.1         |\n",
    "| deer        | 39.6         |\n",
    "| dog         | 39.6         |\n",
    "| frog        | 62.3         |\n",
    "| horse       | 55.6         |\n",
    "| ship        | 66.1         |\n",
    "| truck       | 51.2         |\n",
    "\n",
    "---\n",
    "\n",
    "## 5. MLP com Batch Normalization e Dropout\n",
    "\n",
    "- hidden_layers = [64, 128, 128, 128]\n",
    "- learning_rate = 1e-3\n",
    "- num_epochs = 1000\n",
    "- batch_size = 64\n",
    "- dropout_rate = 0.3\n",
    "- activation_function = nn.ReLU()\n",
    "\n",
    "**Tempo de treino:** 1min 22s  \n",
    "**Épocas:** 19\n",
    "\n",
    "**Resultados globais:**\n",
    "- accuracy: 0.4849\n",
    "- balanced_accuracy: 0.4849\n",
    "- f1_score: 0.4804\n",
    "- precision: 0.4895\n",
    "- recall: 0.4849\n",
    "\n",
    "**Shape dataset teste:** 10000\n",
    "\n",
    "**Acurácia por classe:**\n",
    "\n",
    "| Classe      | Acurácia (%) |\n",
    "|-------------|--------------|\n",
    "| airplane    | 59.9         |\n",
    "| automobile  | 53.0         |\n",
    "| bird        | 26.6         |\n",
    "| cat         | 39.9         |\n",
    "| deer        | 39.8         |\n",
    "| dog         | 30.5         |\n",
    "| frog        | 65.3         |\n",
    "| horse       | 46.8         |\n",
    "| ship        | 65.1         |\n",
    "| truck       | 58.0         |\n",
    "\n",
    "---\n",
    "\n",
    "## 6. MLP colocando Sigmoide, batch maior e menos dropout\n",
    "\n",
    "- hidden_layers = [64, 128, 128, 128]\n",
    "- learning_rate = 1e-3\n",
    "- num_epochs = 1000\n",
    "- batch_size = 84\n",
    "- dropout_rate = 0.1\n",
    "- activation_function = nn.Sigmoid()\n",
    "\n",
    "**Tempo de treino:** 2min 15s\n",
    "\n",
    "**Resultados globais:**\n",
    "- accuracy: 0.4677\n",
    "- balanced_accuracy: 0.4677\n",
    "- f1_score: 0.4617\n",
    "- precision: 0.4641\n",
    "- recall: 0.4677\n",
    "\n",
    "**Shape dataset teste:** 10000\n",
    "\n",
    "**Acurácia por classe:**\n",
    "\n",
    "| Classe      | Acurácia (%) |\n",
    "|-------------|--------------|\n",
    "| airplane    | 53.7         |\n",
    "| automobile  | 62.7         |\n",
    "| bird        | 21.7         |\n",
    "| cat         | 31.2         |\n",
    "| deer        | 32.8         |\n",
    "| dog         | 41.3         |\n",
    "| frog        | 59.5         |\n",
    "| horse       | 54.0         |\n",
    "| ship        | 60.1         |\n",
    "| truck       | 50.7         |\n"
   ]
  },
  {
   "cell_type": "code",
   "execution_count": 65,
   "metadata": {},
   "outputs": [],
   "source": [
    "import torch\n",
    "import torch.nn as nn\n",
    "import torchvision\n",
    "import torchvision.transforms as transforms\n",
    "\n",
    "import numpy as np\n",
    "\n",
    "from tqdm import tqdm\n",
    "\n",
    "import matplotlib.pyplot as plt\n",
    "\n",
    "from sklearn import metrics"
   ]
  },
  {
   "cell_type": "markdown",
   "metadata": {},
   "source": [
    "# Helper functions"
   ]
  },
  {
   "cell_type": "code",
   "execution_count": 66,
   "metadata": {},
   "outputs": [],
   "source": [
    "def get_scores(targets, predictions):\n",
    "    return {\n",
    "        \"accuracy\"         : metrics.accuracy_score(targets, predictions),\n",
    "        \"balanced_accuracy\": metrics.balanced_accuracy_score(targets, predictions),\n",
    "        \"f1_score\"         : metrics.f1_score(targets, predictions, average=\"weighted\"),\n",
    "        \"precision\"        : metrics.precision_score(targets, predictions, average=\"weighted\"),\n",
    "        \"recall\"           : metrics.recall_score(targets, predictions, average=\"weighted\"),\n",
    "        \"f1_score\"         : metrics.f1_score(targets, predictions, average=\"weighted\")\n",
    "    }\n",
    "\n",
    "def evaluate_model(model, data_loader, loss_function):\n",
    "    model.eval()\n",
    "    total_loss = 0.0\n",
    "    with torch.no_grad():\n",
    "        for images, labels in data_loader:\n",
    "            images = images.view(-1, 32*32*3).cuda()\n",
    "            labels = labels.cuda()\n",
    "            outputs = model(images)\n",
    "            loss = loss_function(outputs, labels)\n",
    "            total_loss += loss.item()\n",
    "\n",
    "    return total_loss / len(data_loader)\n",
    "\n",
    "def show_loss_through_epochs(arr_losses_train, arr_losses_test, arr_losses_val):\n",
    "    plt.plot(arr_losses_train, label = \"train loss\")\n",
    "    plt.plot(arr_losses_val, label = \"val loss\")\n",
    "    plt.plot(arr_losses_test, label = \"test loss\")\n",
    "    plt.xlabel(\"epoch\")\n",
    "    plt.ylabel(\"loss\")\n",
    "    plt.grid()\n",
    "    plt.legend()\n",
    "    return None\n",
    "\n",
    "def show_predictions(model, dataloader, num_samples):\n",
    "    model.eval()\n",
    "    correct_samples = []\n",
    "    wrong_samples = []\n",
    "\n",
    "    classes = ['airplane', 'automobile', 'bird', 'cat', 'deer',\n",
    "               'dog', 'frog', 'horse', 'ship', 'truck']\n",
    "    \n",
    "    with torch.no_grad():\n",
    "        for images, labels in dataloader:\n",
    "            original_images = images\n",
    "\n",
    "            images = images.view(-1, 32*32*3).cuda()\n",
    "            labels = labels.cuda()\n",
    "\n",
    "            outputs = model.forward(images)\n",
    "            _, predicted = torch.max(outputs.data, 1)\n",
    "\n",
    "            for i in range(len(labels)):\n",
    "                pred = predicted[i].cpu().item()\n",
    "                true = labels[i].cpu().item()\n",
    "                img = original_images[i]\n",
    "\n",
    "                if pred == true and len(correct_samples) < num_samples:\n",
    "                    correct_samples.append((img, pred, true))\n",
    "                elif pred != true and len(wrong_samples) < num_samples:\n",
    "                    wrong_samples.append((img, pred, true))\n",
    "\n",
    "                if len(correct_samples) >= num_samples and len(wrong_samples) >= num_samples:\n",
    "                    break\n",
    "\n",
    "    plt.figure(figsize=(24, 20))\n",
    "    \n",
    "    plt.subplot(1, 2, 1)\n",
    "    # acertos\n",
    "    for idx, (img, pred, true) in enumerate(correct_samples):\n",
    "        plt.subplot(2, num_samples, idx + 1)\n",
    "        img = img.permute(1, 2, 0)  \n",
    "        img = img * 0.5 + 0.5 \n",
    "        plt.imshow(img)\n",
    "        plt.title(f'Correto!\\nPred: {classes[pred]}\\nTrue: {classes[true]}')\n",
    "        plt.axis('off')\n",
    "\n",
    "    # erros\n",
    "    for idx, (img, pred, true) in enumerate(wrong_samples):\n",
    "        plt.subplot(2, num_samples, idx + num_samples + 1)\n",
    "        img = img.permute(1, 2, 0)\n",
    "        img = img * 0.5 + 0.5\n",
    "        plt.imshow(img)\n",
    "        plt.title(f'Erro!\\nPred: {classes[pred]}\\nTrue: {classes[true]}')\n",
    "        plt.axis('off')\n",
    "    \n",
    "    plt.tight_layout(h_pad=2)\n",
    "    plt.show()\n",
    "\n",
    "    return None"
   ]
  },
  {
   "cell_type": "markdown",
   "metadata": {},
   "source": [
    "# Setup"
   ]
  },
  {
   "cell_type": "code",
   "execution_count": 67,
   "metadata": {},
   "outputs": [],
   "source": [
    "transform = transforms.Compose([\n",
    "                    transforms.ToTensor(),\n",
    "                    transforms.Normalize(mean=[0.5, 0.5, 0.5], std=[0.5, 0.5, 0.5])\n",
    "                    ])\n",
    "\n",
    "train_dataset = torchvision.datasets.CIFAR10(root='./data', train=True, download=True, transform=transform)\n",
    "test_dataset = torchvision.datasets.CIFAR10(root='./data', train=False, download=True, transform=transform)\n",
    "\n",
    "train_size = int(0.8 * len(train_dataset))\n",
    "val_size = len(train_dataset) - train_size\n",
    "\n",
    "train_dataset, validation_dataset = torch.utils.data.random_split(train_dataset, [train_size, val_size])"
   ]
  },
  {
   "cell_type": "code",
   "execution_count": 68,
   "metadata": {},
   "outputs": [],
   "source": [
    "# # just to run fast\n",
    "# subset_sample      = 1000\n",
    "\n",
    "# train_dataset      = torch.utils.data.Subset(train_dataset, range(subset_sample))\n",
    "# validation_dataset = torch.utils.data.Subset(validation_dataset, range(subset_sample))\n",
    "# test_dataset       = torch.utils.data.Subset(test_dataset, range(subset_sample))\n"
   ]
  },
  {
   "cell_type": "markdown",
   "metadata": {},
   "source": [
    "# Def MLP"
   ]
  },
  {
   "cell_type": "code",
   "execution_count": 72,
   "metadata": {},
   "outputs": [],
   "source": [
    "class MLP(nn.Module):\n",
    "    def __init__(self, input_size, hidden_layers, num_classes, activation_function, dropout_rate):\n",
    "        super(MLP, self).__init__()\n",
    "        self.activation_function = activation_function\n",
    "        self.dropout = nn.Dropout(p=dropout_rate)\n",
    "\n",
    "        layers_dims = [input_size] + hidden_layers + [num_classes]\n",
    "        self.layers = nn.ModuleList()\n",
    "\n",
    "        for i in range(len(layers_dims) - 1):  \n",
    "            self.layers.append(nn.Linear(layers_dims[i], layers_dims[i+1]))\n",
    "\n",
    "\n",
    "\n",
    "    def forward(self, x):\n",
    "        for layer in self.layers[:-1]:\n",
    "            x = self.activation_function(layer(x))\n",
    "            x = self.dropout(x)\n",
    "\n",
    "        x = self.layers[-1](x)\n",
    "        \n",
    "        return x "
   ]
  },
  {
   "cell_type": "markdown",
   "metadata": {},
   "source": [
    "# Def hyperparameters and Loaders"
   ]
  },
  {
   "cell_type": "code",
   "execution_count": 83,
   "metadata": {},
   "outputs": [],
   "source": [
    "input_size          = 32*32*3\n",
    "num_classes         = 10\n",
    "loss_function       = nn.CrossEntropyLoss()\n",
    "\n",
    "# hyperparams\n",
    "hidden_layers = [64, 128, 128, 128]\n",
    "learning_rate       = 1e-3\n",
    "num_epochs          = 1000\n",
    "batch_size          = 84\n",
    "dropout_rate        = 0.1\n",
    "activation_function = nn.Sigmoid()\n"
   ]
  },
  {
   "cell_type": "code",
   "execution_count": 84,
   "metadata": {},
   "outputs": [],
   "source": [
    "train_loader = torch.utils.data.DataLoader(dataset=train_dataset, batch_size=batch_size, shuffle=True) # to avoid bias\n",
    "validation_loader = torch.utils.data.DataLoader(dataset=validation_dataset, batch_size=batch_size, shuffle=False)\n",
    "test_loader  = torch.utils.data.DataLoader(dataset=test_dataset, batch_size=batch_size, shuffle=False)"
   ]
  },
  {
   "cell_type": "markdown",
   "metadata": {},
   "source": [
    "# Main training Loop"
   ]
  },
  {
   "cell_type": "code",
   "execution_count": 86,
   "metadata": {},
   "outputs": [
    {
     "name": "stderr",
     "output_type": "stream",
     "text": [
      "  0%|          | 1/1000 [00:04<1:10:16,  4.22s/it]"
     ]
    },
    {
     "name": "stdout",
     "output_type": "stream",
     "text": [
      "Epoch 1:\n",
      "Train Loss: 2.0886\n",
      "Val Loss: 1.9620\n",
      "Test Loss: 1.9485\n"
     ]
    },
    {
     "name": "stderr",
     "output_type": "stream",
     "text": [
      "  0%|          | 2/1000 [00:08<1:10:51,  4.26s/it]"
     ]
    },
    {
     "name": "stdout",
     "output_type": "stream",
     "text": [
      "Epoch 2:\n",
      "Train Loss: 1.9093\n",
      "Val Loss: 1.8775\n",
      "Test Loss: 1.8482\n"
     ]
    },
    {
     "name": "stderr",
     "output_type": "stream",
     "text": [
      "  0%|          | 3/1000 [00:13<1:13:06,  4.40s/it]"
     ]
    },
    {
     "name": "stdout",
     "output_type": "stream",
     "text": [
      "Epoch 3:\n",
      "Train Loss: 1.8437\n",
      "Val Loss: 1.8192\n",
      "Test Loss: 1.7887\n"
     ]
    },
    {
     "name": "stderr",
     "output_type": "stream",
     "text": [
      "  0%|          | 4/1000 [00:17<1:12:44,  4.38s/it]"
     ]
    },
    {
     "name": "stdout",
     "output_type": "stream",
     "text": [
      "Epoch 4:\n",
      "Train Loss: 1.7836\n",
      "Val Loss: 1.7850\n",
      "Test Loss: 1.7498\n"
     ]
    },
    {
     "name": "stderr",
     "output_type": "stream",
     "text": [
      "  0%|          | 5/1000 [00:21<1:13:08,  4.41s/it]"
     ]
    },
    {
     "name": "stdout",
     "output_type": "stream",
     "text": [
      "Epoch 5:\n",
      "Train Loss: 1.7447\n",
      "Val Loss: 1.7545\n",
      "Test Loss: 1.7219\n"
     ]
    },
    {
     "name": "stderr",
     "output_type": "stream",
     "text": [
      "  1%|          | 6/1000 [00:26<1:12:09,  4.36s/it]"
     ]
    },
    {
     "name": "stdout",
     "output_type": "stream",
     "text": [
      "Epoch 6:\n",
      "Train Loss: 1.7076\n",
      "Val Loss: 1.7349\n",
      "Test Loss: 1.7001\n"
     ]
    },
    {
     "name": "stderr",
     "output_type": "stream",
     "text": [
      "  1%|          | 7/1000 [00:30<1:12:09,  4.36s/it]"
     ]
    },
    {
     "name": "stdout",
     "output_type": "stream",
     "text": [
      "Epoch 7:\n",
      "Train Loss: 1.6798\n",
      "Val Loss: 1.7085\n",
      "Test Loss: 1.6678\n"
     ]
    },
    {
     "name": "stderr",
     "output_type": "stream",
     "text": [
      "  1%|          | 8/1000 [00:34<1:12:43,  4.40s/it]"
     ]
    },
    {
     "name": "stdout",
     "output_type": "stream",
     "text": [
      "Epoch 8:\n",
      "Train Loss: 1.6450\n",
      "Val Loss: 1.6804\n",
      "Test Loss: 1.6460\n"
     ]
    },
    {
     "name": "stderr",
     "output_type": "stream",
     "text": [
      "  1%|          | 9/1000 [00:39<1:12:09,  4.37s/it]"
     ]
    },
    {
     "name": "stdout",
     "output_type": "stream",
     "text": [
      "Epoch 9:\n",
      "Train Loss: 1.6211\n",
      "Val Loss: 1.6678\n",
      "Test Loss: 1.6370\n"
     ]
    },
    {
     "name": "stderr",
     "output_type": "stream",
     "text": [
      "  1%|          | 10/1000 [00:43<1:11:29,  4.33s/it]"
     ]
    },
    {
     "name": "stdout",
     "output_type": "stream",
     "text": [
      "Epoch 10:\n",
      "Train Loss: 1.5962\n",
      "Val Loss: 1.6499\n",
      "Test Loss: 1.6157\n"
     ]
    },
    {
     "name": "stderr",
     "output_type": "stream",
     "text": [
      "  1%|          | 11/1000 [00:48<1:12:35,  4.40s/it]"
     ]
    },
    {
     "name": "stdout",
     "output_type": "stream",
     "text": [
      "Epoch 11:\n",
      "Train Loss: 1.5710\n",
      "Val Loss: 1.6375\n",
      "Test Loss: 1.6081\n"
     ]
    },
    {
     "name": "stderr",
     "output_type": "stream",
     "text": [
      "  1%|          | 12/1000 [00:52<1:13:19,  4.45s/it]"
     ]
    },
    {
     "name": "stdout",
     "output_type": "stream",
     "text": [
      "Epoch 12:\n",
      "Train Loss: 1.5512\n",
      "Val Loss: 1.6282\n",
      "Test Loss: 1.5980\n"
     ]
    },
    {
     "name": "stderr",
     "output_type": "stream",
     "text": [
      "  1%|▏         | 13/1000 [00:56<1:12:22,  4.40s/it]"
     ]
    },
    {
     "name": "stdout",
     "output_type": "stream",
     "text": [
      "Epoch 13:\n",
      "Train Loss: 1.5362\n",
      "Val Loss: 1.6177\n",
      "Test Loss: 1.5831\n"
     ]
    },
    {
     "name": "stderr",
     "output_type": "stream",
     "text": [
      "  1%|▏         | 14/1000 [01:01<1:11:47,  4.37s/it]"
     ]
    },
    {
     "name": "stdout",
     "output_type": "stream",
     "text": [
      "Epoch 14:\n",
      "Train Loss: 1.5217\n",
      "Val Loss: 1.6085\n",
      "Test Loss: 1.5753\n"
     ]
    },
    {
     "name": "stderr",
     "output_type": "stream",
     "text": [
      "  2%|▏         | 15/1000 [01:05<1:11:00,  4.33s/it]"
     ]
    },
    {
     "name": "stdout",
     "output_type": "stream",
     "text": [
      "Epoch 15:\n",
      "Train Loss: 1.4996\n",
      "Val Loss: 1.6011\n",
      "Test Loss: 1.5631\n"
     ]
    },
    {
     "name": "stderr",
     "output_type": "stream",
     "text": [
      "  2%|▏         | 16/1000 [01:09<1:10:37,  4.31s/it]"
     ]
    },
    {
     "name": "stdout",
     "output_type": "stream",
     "text": [
      "Epoch 16:\n",
      "Train Loss: 1.4886\n",
      "Val Loss: 1.5857\n",
      "Test Loss: 1.5483\n"
     ]
    },
    {
     "name": "stderr",
     "output_type": "stream",
     "text": [
      "  2%|▏         | 17/1000 [01:14<1:10:34,  4.31s/it]"
     ]
    },
    {
     "name": "stdout",
     "output_type": "stream",
     "text": [
      "Epoch 17:\n",
      "Train Loss: 1.4738\n",
      "Val Loss: 1.5900\n",
      "Test Loss: 1.5572\n"
     ]
    },
    {
     "name": "stderr",
     "output_type": "stream",
     "text": [
      "  2%|▏         | 18/1000 [01:18<1:10:30,  4.31s/it]"
     ]
    },
    {
     "name": "stdout",
     "output_type": "stream",
     "text": [
      "Epoch 18:\n",
      "Train Loss: 1.4574\n",
      "Val Loss: 1.5907\n",
      "Test Loss: 1.5586\n"
     ]
    },
    {
     "name": "stderr",
     "output_type": "stream",
     "text": [
      "  2%|▏         | 19/1000 [01:22<1:10:28,  4.31s/it]"
     ]
    },
    {
     "name": "stdout",
     "output_type": "stream",
     "text": [
      "Epoch 19:\n",
      "Train Loss: 1.4433\n",
      "Val Loss: 1.5773\n",
      "Test Loss: 1.5477\n"
     ]
    },
    {
     "name": "stderr",
     "output_type": "stream",
     "text": [
      "  2%|▏         | 20/1000 [01:27<1:10:41,  4.33s/it]"
     ]
    },
    {
     "name": "stdout",
     "output_type": "stream",
     "text": [
      "Epoch 20:\n",
      "Train Loss: 1.4305\n",
      "Val Loss: 1.5792\n",
      "Test Loss: 1.5423\n"
     ]
    },
    {
     "name": "stderr",
     "output_type": "stream",
     "text": [
      "  2%|▏         | 21/1000 [01:31<1:11:50,  4.40s/it]"
     ]
    },
    {
     "name": "stdout",
     "output_type": "stream",
     "text": [
      "Epoch 21:\n",
      "Train Loss: 1.4212\n",
      "Val Loss: 1.5775\n",
      "Test Loss: 1.5475\n"
     ]
    },
    {
     "name": "stderr",
     "output_type": "stream",
     "text": [
      "  2%|▏         | 22/1000 [01:36<1:13:15,  4.49s/it]"
     ]
    },
    {
     "name": "stdout",
     "output_type": "stream",
     "text": [
      "Epoch 22:\n",
      "Train Loss: 1.4098\n",
      "Val Loss: 1.5721\n",
      "Test Loss: 1.5416\n"
     ]
    },
    {
     "name": "stderr",
     "output_type": "stream",
     "text": [
      "  2%|▏         | 23/1000 [01:40<1:13:46,  4.53s/it]"
     ]
    },
    {
     "name": "stdout",
     "output_type": "stream",
     "text": [
      "Epoch 23:\n",
      "Train Loss: 1.3954\n",
      "Val Loss: 1.5642\n",
      "Test Loss: 1.5309\n"
     ]
    },
    {
     "name": "stderr",
     "output_type": "stream",
     "text": [
      "  2%|▏         | 24/1000 [01:45<1:12:47,  4.47s/it]"
     ]
    },
    {
     "name": "stdout",
     "output_type": "stream",
     "text": [
      "Epoch 24:\n",
      "Train Loss: 1.3898\n",
      "Val Loss: 1.5656\n",
      "Test Loss: 1.5356\n"
     ]
    },
    {
     "name": "stderr",
     "output_type": "stream",
     "text": [
      "  2%|▎         | 25/1000 [01:49<1:11:54,  4.43s/it]"
     ]
    },
    {
     "name": "stdout",
     "output_type": "stream",
     "text": [
      "Epoch 25:\n",
      "Train Loss: 1.3794\n",
      "Val Loss: 1.5615\n",
      "Test Loss: 1.5249\n"
     ]
    },
    {
     "name": "stderr",
     "output_type": "stream",
     "text": [
      "  3%|▎         | 26/1000 [01:53<1:10:57,  4.37s/it]"
     ]
    },
    {
     "name": "stdout",
     "output_type": "stream",
     "text": [
      "Epoch 26:\n",
      "Train Loss: 1.3686\n",
      "Val Loss: 1.5597\n",
      "Test Loss: 1.5219\n"
     ]
    },
    {
     "name": "stderr",
     "output_type": "stream",
     "text": [
      "  3%|▎         | 27/1000 [01:58<1:10:54,  4.37s/it]"
     ]
    },
    {
     "name": "stdout",
     "output_type": "stream",
     "text": [
      "Epoch 27:\n",
      "Train Loss: 1.3623\n",
      "Val Loss: 1.5588\n",
      "Test Loss: 1.5247\n"
     ]
    },
    {
     "name": "stderr",
     "output_type": "stream",
     "text": [
      "  3%|▎         | 28/1000 [02:02<1:10:45,  4.37s/it]"
     ]
    },
    {
     "name": "stdout",
     "output_type": "stream",
     "text": [
      "Epoch 28:\n",
      "Train Loss: 1.3516\n",
      "Val Loss: 1.5535\n",
      "Test Loss: 1.5158\n"
     ]
    },
    {
     "name": "stderr",
     "output_type": "stream",
     "text": [
      "  3%|▎         | 29/1000 [02:06<1:10:06,  4.33s/it]"
     ]
    },
    {
     "name": "stdout",
     "output_type": "stream",
     "text": [
      "Epoch 29:\n",
      "Train Loss: 1.3479\n",
      "Val Loss: 1.5540\n",
      "Test Loss: 1.5171\n"
     ]
    },
    {
     "name": "stderr",
     "output_type": "stream",
     "text": [
      "  3%|▎         | 30/1000 [02:11<1:09:34,  4.30s/it]"
     ]
    },
    {
     "name": "stdout",
     "output_type": "stream",
     "text": [
      "Epoch 30:\n",
      "Train Loss: 1.3341\n",
      "Val Loss: 1.5612\n",
      "Test Loss: 1.5214\n"
     ]
    },
    {
     "name": "stderr",
     "output_type": "stream",
     "text": [
      "  3%|▎         | 30/1000 [02:15<1:12:59,  4.51s/it]"
     ]
    },
    {
     "name": "stdout",
     "output_type": "stream",
     "text": [
      "Epoch 31:\n",
      "Train Loss: 1.3235\n",
      "Val Loss: 1.5539\n",
      "Test Loss: 1.5139\n",
      "early stopping based on loss reduction when we compare to val dataset\n"
     ]
    },
    {
     "name": "stderr",
     "output_type": "stream",
     "text": [
      "\n"
     ]
    }
   ],
   "source": [
    "mlp = MLP(input_size=input_size, hidden_layers=hidden_layers, num_classes=num_classes, activation_function=activation_function, dropout_rate=dropout_rate)\n",
    "# mlp.cpu()\n",
    "mlp.cuda()\n",
    "\n",
    "optimizer = torch.optim.Adam(mlp.parameters(), lr=learning_rate)\n",
    "\n",
    "best_val_loss = float('inf')\n",
    "patience = 3\n",
    "patience_counter = 0\n",
    "\n",
    "arr_losses_train = []\n",
    "arr_losses_test  = []\n",
    "arr_losses_val   = []\n",
    "\n",
    "# main loop\n",
    "for epoch in tqdm(range(num_epochs)):\n",
    "    mlp.train()\n",
    "    epoch_loss = 0.0\n",
    "    for i, (images, labels) in enumerate(train_loader):\n",
    "        images = images.view(-1, 32*32*3).cuda()\n",
    "        labels = labels.cuda()\n",
    "        optimizer.zero_grad()\n",
    "\n",
    "        # forward pass\n",
    "        outputs = mlp.forward(images)\n",
    "        loss = loss_function(outputs, labels)\n",
    "        loss.backward()\n",
    "        optimizer.step()\n",
    "\n",
    "        epoch_loss += loss.item()\n",
    "\n",
    "        if (i+1) % 1000 == 0:\n",
    "            tqdm.write(f' Epoch {epoch + 1}/{num_epochs}, Step {i+1}/{len(train_dataset) // batch_size}, Loss: {loss}')\n",
    "\n",
    "    mlp.eval()\n",
    "    train_loss = epoch_loss/len(train_loader)\n",
    "    val_loss   = evaluate_model(mlp, validation_loader, loss_function)\n",
    "    test_loss  = evaluate_model(mlp, test_loader, loss_function)\n",
    "\n",
    "    arr_losses_train.append(train_loss)\n",
    "    arr_losses_val.append(val_loss)\n",
    "    arr_losses_test.append(test_loss)\n",
    "\n",
    "    tqdm.write(f'Epoch {epoch+1}:')\n",
    "    tqdm.write(f'Train Loss: {train_loss:.4f}')\n",
    "    tqdm.write(f'Val Loss: {val_loss:.4f}')\n",
    "    tqdm.write(f'Test Loss: {test_loss:.4f}')\n",
    "\n",
    "\n",
    "    # early stopping \n",
    "    if val_loss < best_val_loss:\n",
    "        best_val_loss = val_loss\n",
    "        patience_counter = 0\n",
    "\n",
    "    else:\n",
    "        patience_counter += 1\n",
    "        if patience_counter >= patience:\n",
    "            tqdm.write(\"early stopping based on loss reduction when we compare to val dataset\")\n",
    "            break\n",
    "\n"
   ]
  },
  {
   "cell_type": "markdown",
   "metadata": {},
   "source": [
    "# Evaluate best model"
   ]
  },
  {
   "cell_type": "code",
   "execution_count": 90,
   "metadata": {},
   "outputs": [
    {
     "data": {
      "image/png": "[encoded data removed]",
      "text/plain": [
       "<Figure size 640x480 with 1 Axes>"
      ]
     },
     "metadata": {},
     "output_type": "display_data"
    }
   ],
   "source": [
    "show_loss_through_epochs(arr_losses_train, arr_losses_test, arr_losses_val)"
   ]
  },
  {
   "cell_type": "code",
   "execution_count": 91,
   "metadata": {},
   "outputs": [],
   "source": [
    "# show_predictions(mlp, test_loader, num_samples=3)"
   ]
  },
  {
   "cell_type": "code",
   "execution_count": 92,
   "metadata": {},
   "outputs": [
    {
     "name": "stdout",
     "output_type": "stream",
     "text": [
      "Scores of your model\n",
      " {'accuracy': 0.4677, 'balanced_accuracy': np.float64(0.46769999999999995), 'f1_score': 0.4616594407392268, 'precision': 0.46413387659152877, 'recall': 0.4677}\n",
      "\n",
      "\n",
      "\n",
      " shape dataset teste -> 10000\n",
      "\n",
      "(repr x acc top1) por classe(conjunto teste):\n",
      "\n",
      "airplane:\n",
      "  Acurácia: 53.70%\n",
      "  Número de amostras: 1000\n",
      "  Representatividade: 10.00%\n",
      "\n",
      "automobile:\n",
      "  Acurácia: 62.70%\n",
      "  Número de amostras: 1000\n",
      "  Representatividade: 10.00%\n",
      "\n",
      "bird:\n",
      "  Acurácia: 21.70%\n",
      "  Número de amostras: 1000\n",
      "  Representatividade: 10.00%\n",
      "\n",
      "cat:\n",
      "  Acurácia: 31.20%\n",
      "  Número de amostras: 1000\n",
      "  Representatividade: 10.00%\n",
      "\n",
      "deer:\n",
      "  Acurácia: 32.80%\n",
      "  Número de amostras: 1000\n",
      "  Representatividade: 10.00%\n",
      "\n",
      "dog:\n",
      "  Acurácia: 41.30%\n",
      "  Número de amostras: 1000\n",
      "  Representatividade: 10.00%\n",
      "\n",
      "frog:\n",
      "  Acurácia: 59.50%\n",
      "  Número de amostras: 1000\n",
      "  Representatividade: 10.00%\n",
      "\n",
      "horse:\n",
      "  Acurácia: 54.00%\n",
      "  Número de amostras: 1000\n",
      "  Representatividade: 10.00%\n",
      "\n",
      "ship:\n",
      "  Acurácia: 60.10%\n",
      "  Número de amostras: 1000\n",
      "  Representatividade: 10.00%\n",
      "\n",
      "truck:\n",
      "  Acurácia: 50.70%\n",
      "  Número de amostras: 1000\n",
      "  Representatividade: 10.00%\n"
     ]
    }
   ],
   "source": [
    "mlp.eval()\n",
    "predictions = []\n",
    "labels = []\n",
    "\n",
    "for images, label in test_loader:\n",
    "  images = images.view(-1,32*32*3).cuda()\n",
    "  label = label.cuda()\n",
    "\n",
    "  output = mlp(images)\n",
    "  _, predicted = torch.max(output,1)\n",
    "\n",
    "  predictions.extend(predicted.cpu().numpy())\n",
    "  labels.extend(label.cpu().numpy())\n",
    "\n",
    "scores = get_scores(labels, predictions)\n",
    "print(f\"Scores of your model\\n {scores}\\n\\n\")\n",
    "\n",
    "\n",
    "classes = ['airplane', 'automobile', 'bird', 'cat', 'deer', \n",
    "           'dog', 'frog', 'horse', 'ship', 'truck'] # .venvNN/lib/python3.12/site-packages/torchvision/prototype/datasets/_builtin/cifar10.categories\n",
    "\n",
    "labels = np.array(labels)\n",
    "predictions = np.array(predictions)\n",
    "\n",
    "stats = {}\n",
    "\n",
    "print(f\"\\n shape dataset teste -> {len(test_dataset)}\")\n",
    "print(\"\\n(repr x acc top1) por classe(conjunto teste):\")\n",
    "\n",
    "for i in range(10):\n",
    "    mask = labels == i\n",
    "    class_acc = np.mean(predictions[mask] == labels[mask]) * 100\n",
    "    num_samples = np.sum(mask)\n",
    "    class_repr = (num_samples / len(labels)) * 100\n",
    "\n",
    "    stats[classes[i]] = {\n",
    "        'acuracia': f\"{class_acc:.2f}%\",\n",
    "        'num_amostras': num_samples,\n",
    "        'representatividade': f\"{class_repr:.2f}%\"\n",
    "    }\n",
    "\n",
    "for classe, metricas in stats.items():\n",
    "    print(f\"\\n{classe}:\")\n",
    "    print(f\"  Acurácia: {metricas['acuracia']}\")\n",
    "    print(f\"  Número de amostras: {metricas['num_amostras']}\")\n",
    "    print(f\"  Representatividade: {metricas['representatividade']}\")"
   ]
  }
 ],
 "metadata": {
  "kernelspec": {
   "display_name": ".venvNN",
   "language": "python",
   "name": "python3"
  },
  "language_info": {
   "codemirror_mode": {
    "name": "ipython",
    "version": 3
   },
   "file_extension": ".py",
   "mimetype": "text/x-python",
   "name": "python",
   "nbconvert_exporter": "python",
   "pygments_lexer": "ipython3",
   "version": "3.12.3"
  }
 },
 "nbformat": 4,
 "nbformat_minor": 2
}
